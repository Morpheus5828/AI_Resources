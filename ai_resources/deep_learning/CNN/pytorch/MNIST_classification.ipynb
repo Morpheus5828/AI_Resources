{
 "cells": [
  {
   "cell_type": "code",
   "metadata": {
    "collapsed": true,
    "ExecuteTime": {
     "end_time": "2024-09-27T06:52:29.289867600Z",
     "start_time": "2024-09-27T06:52:29.272852200Z"
    }
   },
   "source": [
    "import torch\n",
    "import torch.nn as nn\n",
    "from torch.nn.functional import relu, sigmoid, conv2d, dropout, max_pool2d\n",
    "from torch.utils.data import random_split\n",
    "from torchvision import datasets, transforms\n",
    "from torch.utils.data import DataLoader\n",
    "import numpy as np\n",
    "import matplotlib.pyplot as plt\n",
    "import warnings\n",
    "warnings.filterwarnings(\"ignore\")\n",
    "%matplotlib inline"
   ],
   "outputs": [],
   "execution_count": 111
  },
  {
   "cell_type": "code",
   "source": [
    "device = torch.device(\"cuda:0\" if torch.cuda.is_available() else \"cpu\")\n",
    "print('Using gpu: %s ' % torch.cuda.is_available())"
   ],
   "metadata": {
    "collapsed": false,
    "ExecuteTime": {
     "end_time": "2024-09-27T06:52:31.446692500Z",
     "start_time": "2024-09-27T06:52:31.414926800Z"
    }
   },
   "outputs": [
    {
     "name": "stdout",
     "output_type": "stream",
     "text": [
      "Using gpu: True \n"
     ]
    }
   ],
   "execution_count": 112
  },
  {
   "cell_type": "markdown",
   "source": [
    "### Loading Mnist images"
   ],
   "metadata": {
    "collapsed": false
   }
  },
  {
   "cell_type": "code",
   "source": [
    "mnist_dataset = datasets.MNIST(\n",
    "    root = 'data/',\n",
    "    train = True,\n",
    "    transform = transforms.ToTensor(),\n",
    "    download=True\n",
    ")"
   ],
   "metadata": {
    "collapsed": false
   },
   "outputs": [],
   "execution_count": null
  },
  {
   "cell_type": "code",
   "source": [
    "mnist_dataset"
   ],
   "metadata": {
    "collapsed": false,
    "ExecuteTime": {
     "end_time": "2024-09-27T05:38:14.455883700Z",
     "start_time": "2024-09-27T05:38:14.441870200Z"
    }
   },
   "outputs": [
    {
     "data": {
      "text/plain": "Dataset MNIST\n    Number of datapoints: 60000\n    Root location: data/\n    Split: Train\n    StandardTransform\nTransform: ToTensor()"
     },
     "execution_count": 5,
     "metadata": {},
     "output_type": "execute_result"
    }
   ],
   "execution_count": 5
  },
  {
   "cell_type": "code",
   "source": [
    "train_data, validation_data = random_split(mnist_dataset, [50000, 10000])"
   ],
   "metadata": {
    "collapsed": false,
    "ExecuteTime": {
     "end_time": "2024-09-27T05:38:14.499923300Z",
     "start_time": "2024-09-27T05:38:14.456884200Z"
    }
   },
   "outputs": [],
   "execution_count": 6
  },
  {
   "cell_type": "code",
   "source": [
    "batch_size = 128\n",
    "train_loader = DataLoader(train_data, batch_size, shuffle = True)\n",
    "val_loader = DataLoader(validation_data, batch_size, shuffle = False)"
   ],
   "metadata": {
    "collapsed": false,
    "ExecuteTime": {
     "end_time": "2024-09-27T06:51:11.938778500Z",
     "start_time": "2024-09-27T06:51:11.914322800Z"
    }
   },
   "outputs": [],
   "execution_count": 110
  },
  {
   "cell_type": "markdown",
   "source": [
    "# Model"
   ],
   "metadata": {
    "collapsed": false
   }
  },
  {
   "cell_type": "code",
   "source": [
    "class CNN(nn.Module):\n",
    "    def __init__(self):\n",
    "        super().__init__()\n",
    "        self.conv1 = nn.Conv2d(1, 10, kernel_size=5)\n",
    "        self.conv2 = nn.Conv2d(10, 20, kernel_size=5)\n",
    "        self.conv2d_drop = nn.Dropout2d()\n",
    "        self.fc1 = nn.Linear(320, 64)\n",
    "        self.fc2 = nn.Linear(64, 10)\n",
    "\n",
    "        self.dropout = nn.Dropout(p=0.2)\n",
    "        self.sigmoid = sigmoid\n",
    "\n",
    "    def forward(self, x):\n",
    "        x = relu(max_pool2d(self.conv1(x), 2))\n",
    "        x = relu(max_pool2d(self.conv2(x), 2))\n",
    "        x = self.conv2d_drop(x)\n",
    "        x = x.view(-1, 320)\n",
    "        x = relu(self.fc1(x))\n",
    "        x = self.fc2(x)\n",
    "        return x"
   ],
   "metadata": {
    "collapsed": false,
    "ExecuteTime": {
     "end_time": "2024-09-27T06:57:56.000234600Z",
     "start_time": "2024-09-27T06:57:55.988721100Z"
    }
   },
   "outputs": [],
   "execution_count": 120
  },
  {
   "cell_type": "code",
   "source": [
    "model = CNN().to(device)\n",
    "criterion  = nn.CrossEntropyLoss()\n",
    "optimizer = torch.optim.Adam(model.parameters(), lr=1e-4)"
   ],
   "metadata": {
    "collapsed": false,
    "ExecuteTime": {
     "end_time": "2024-09-27T06:57:56.400594400Z",
     "start_time": "2024-09-27T06:57:56.373570200Z"
    }
   },
   "outputs": [],
   "execution_count": 121
  },
  {
   "cell_type": "code",
   "execution_count": 122,
   "outputs": [
    {
     "name": "stdout",
     "output_type": "stream",
     "text": [
      "Epoch: 1/25  Training Loss: 1.476  Test Loss: 0.551  Test Accuracy: 0.856\n",
      "Epoch: 2/25  Training Loss: 0.495  Test Loss: 0.362  Test Accuracy: 0.896\n",
      "Epoch: 3/25  Training Loss: 0.382  Test Loss: 0.299  Test Accuracy: 0.912\n",
      "Epoch: 4/25  Training Loss: 0.330  Test Loss: 0.260  Test Accuracy: 0.924\n",
      "Epoch: 5/25  Training Loss: 0.292  Test Loss: 0.233  Test Accuracy: 0.930\n",
      "Epoch: 6/25  Training Loss: 0.263  Test Loss: 0.204  Test Accuracy: 0.939\n",
      "Epoch: 7/25  Training Loss: 0.241  Test Loss: 0.186  Test Accuracy: 0.947\n",
      "Epoch: 8/25  Training Loss: 0.221  Test Loss: 0.171  Test Accuracy: 0.952\n",
      "Epoch: 9/25  Training Loss: 0.206  Test Loss: 0.158  Test Accuracy: 0.953\n",
      "Epoch: 10/25  Training Loss: 0.194  Test Loss: 0.147  Test Accuracy: 0.957\n",
      "Epoch: 11/25  Training Loss: 0.181  Test Loss: 0.138  Test Accuracy: 0.960\n",
      "Epoch: 12/25  Training Loss: 0.176  Test Loss: 0.129  Test Accuracy: 0.962\n",
      "Epoch: 13/25  Training Loss: 0.168  Test Loss: 0.125  Test Accuracy: 0.964\n",
      "Epoch: 14/25  Training Loss: 0.159  Test Loss: 0.121  Test Accuracy: 0.966\n",
      "Epoch: 15/25  Training Loss: 0.153  Test Loss: 0.115  Test Accuracy: 0.968\n",
      "Epoch: 16/25  Training Loss: 0.148  Test Loss: 0.109  Test Accuracy: 0.968\n",
      "Epoch: 17/25  Training Loss: 0.143  Test Loss: 0.105  Test Accuracy: 0.971\n",
      "Epoch: 18/25  Training Loss: 0.140  Test Loss: 0.103  Test Accuracy: 0.970\n",
      "Epoch: 19/25  Training Loss: 0.134  Test Loss: 0.099  Test Accuracy: 0.972\n",
      "Epoch: 20/25  Training Loss: 0.133  Test Loss: 0.097  Test Accuracy: 0.971\n",
      "Epoch: 21/25  Training Loss: 0.128  Test Loss: 0.094  Test Accuracy: 0.973\n",
      "Epoch: 22/25  Training Loss: 0.124  Test Loss: 0.092  Test Accuracy: 0.973\n",
      "Epoch: 23/25  Training Loss: 0.123  Test Loss: 0.089  Test Accuracy: 0.974\n",
      "Epoch: 24/25  Training Loss: 0.118  Test Loss: 0.088  Test Accuracy: 0.974\n",
      "Epoch: 25/25  Training Loss: 0.115  Test Loss: 0.085  Test Accuracy: 0.976\n"
     ]
    }
   ],
   "source": [
    "epochs = 25\n",
    "train_losses, val_losses = [], []\n",
    "\n",
    "for e in range(epochs):\n",
    "    running_loss = 0\n",
    "\n",
    "    for images, labels in train_loader:\n",
    "        images, labels = images.to(device), labels.to(device)\n",
    "\n",
    "        optimizer.zero_grad()\n",
    "\n",
    "        log_ps = model(images)\n",
    "        loss = criterion(log_ps, labels)\n",
    "\n",
    "        loss.backward()\n",
    "        optimizer.step()\n",
    "\n",
    "        running_loss += loss.item()\n",
    "\n",
    "    test_loss = 0\n",
    "    accuracy = 0\n",
    "\n",
    "    with torch.no_grad():\n",
    "        model.eval()\n",
    "        for images, labels in val_loader:\n",
    "            images, labels = images.to(device), labels.to(device)\n",
    "            log_ps = model(images)\n",
    "            test_loss += criterion(log_ps, labels)\n",
    "\n",
    "            ps = torch.exp(log_ps)\n",
    "            top_p, top_class = ps.topk(1, dim=1)\n",
    "            equals = top_class == labels.view(*top_class.shape)\n",
    "            accuracy += torch.mean(equals.type(torch.FloatTensor))\n",
    "\n",
    "    model.train()\n",
    "\n",
    "    train_losses.append(running_loss / len(train_loader))\n",
    "    val_losses.append(test_loss / len(val_loader))\n",
    "\n",
    "    print(f\"Epoch: {e+1}/{epochs} \",\n",
    "          f\"Training Loss: {train_losses[-1]:.3f} \",\n",
    "          f\"Test Loss: {val_losses[-1]:.3f} \",\n",
    "          f\"Test Accuracy: {accuracy / len(val_loader):.3f}\")\n"
   ],
   "metadata": {
    "collapsed": false,
    "ExecuteTime": {
     "end_time": "2024-09-27T07:00:46.678348500Z",
     "start_time": "2024-09-27T06:57:56.614498Z"
    }
   }
  },
  {
   "cell_type": "code",
   "execution_count": 124,
   "outputs": [],
   "source": [],
   "metadata": {
    "collapsed": false,
    "ExecuteTime": {
     "end_time": "2024-09-27T07:03:40.361242100Z",
     "start_time": "2024-09-27T07:03:40.350231800Z"
    }
   }
  },
  {
   "cell_type": "code",
   "execution_count": 124,
   "outputs": [
    {
     "data": {
      "text/plain": "<matplotlib.legend.Legend at 0x204ef1f99f0>"
     },
     "execution_count": 124,
     "metadata": {},
     "output_type": "execute_result"
    },
    {
     "data": {
      "text/plain": "<Figure size 640x480 with 1 Axes>",
      "image/png": "[encoded data removed]"
     },
     "metadata": {},
     "output_type": "display_data"
    }
   ],
   "source": [
    "plt.plot(val_losses, label=\"Val loss\")\n",
    "plt.plot(train_losses, label=\"Train loss\")\n",
    "plt.xlabel(\"Epochs\")\n",
    "plt.ylabel(\"Loss\")\n",
    "plt.legend()"
   ],
   "metadata": {
    "collapsed": false,
    "ExecuteTime": {
     "end_time": "2024-09-27T07:03:34.617244Z",
     "start_time": "2024-09-27T07:03:34.522154Z"
    }
   }
  },
  {
   "cell_type": "code",
   "execution_count": null,
   "outputs": [],
   "source": [],
   "metadata": {
    "collapsed": false
   }
  }
 ],
 "metadata": {
  "kernelspec": {
   "display_name": "Python 3",
   "language": "python",
   "name": "python3"
  },
  "language_info": {
   "codemirror_mode": {
    "name": "ipython",
    "version": 2
   },
   "file_extension": ".py",
   "mimetype": "text/x-python",
   "name": "python",
   "nbconvert_exporter": "python",
   "pygments_lexer": "ipython2",
   "version": "2.7.6"
  }
 },
 "nbformat": 4,
 "nbformat_minor": 0
}
