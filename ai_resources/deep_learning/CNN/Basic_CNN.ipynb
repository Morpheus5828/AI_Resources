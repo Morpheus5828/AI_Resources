{
 "cells": [
  {
   "cell_type": "code",
   "execution_count": 102,
   "metadata": {
    "collapsed": false,
    "jupyter": {
     "outputs_hidden": false
    }
   },
   "outputs": [],
   "source": [
    "from keras import models, layers\n",
    "from keras.datasets import mnist\n",
    "import numpy as np\n",
    "import keras\n",
    "import matplotlib.pyplot as plt"
   ]
  },
  {
   "cell_type": "code",
   "execution_count": 103,
   "outputs": [],
   "source": [
    "(x_train, y_train), (x_test, y_test) = mnist.load_data()"
   ],
   "metadata": {
    "collapsed": false
   }
  },
  {
   "cell_type": "code",
   "execution_count": 104,
   "outputs": [
    {
     "data": {
      "text/plain": "(<matplotlib.image.AxesImage at 0x2523f019be0>, 5)"
     },
     "execution_count": 104,
     "metadata": {},
     "output_type": "execute_result"
    },
    {
     "data": {
      "text/plain": "<Figure size 640x480 with 1 Axes>",
      "image/png": "[encoded data removed]"
     },
     "metadata": {},
     "output_type": "display_data"
    }
   ],
   "source": [
    "plt.imshow(x_train[0]), y_train[0]"
   ],
   "metadata": {
    "collapsed": false
   }
  },
  {
   "cell_type": "markdown",
   "source": [
    "# Data processing"
   ],
   "metadata": {
    "collapsed": false
   }
  },
  {
   "cell_type": "code",
   "execution_count": 105,
   "outputs": [
    {
     "data": {
      "text/plain": "((60000, 28, 28), (60000,), (10000, 28, 28), (10000,))"
     },
     "execution_count": 105,
     "metadata": {},
     "output_type": "execute_result"
    }
   ],
   "source": [
    "x_train.shape, y_train.shape, x_test.shape, y_test.shape"
   ],
   "metadata": {
    "collapsed": false
   }
  },
  {
   "cell_type": "code",
   "execution_count": 106,
   "outputs": [],
   "source": [
    "y_train = keras.utils.to_categorical(y_train, num_classes)\n",
    "y_test = keras.utils.to_categorical(y_test, num_classes)"
   ],
   "metadata": {
    "collapsed": false
   }
  },
  {
   "cell_type": "code",
   "execution_count": 107,
   "outputs": [],
   "source": [
    "x_train = x_train.astype(\"float32\") / 255\n",
    "x_test = x_test.astype(\"float32\") / 255\n",
    "x_train = np.expand_dims(x_train, -1)\n",
    "x_test = np.expand_dims(x_test, -1)"
   ],
   "metadata": {
    "collapsed": false
   }
  },
  {
   "cell_type": "code",
   "execution_count": 108,
   "outputs": [],
   "source": [
    "x_val = x_train[:10000]\n",
    "partial_x_train = x_train[10000:]\n",
    "\n",
    "y_val = y_train[:10000]\n",
    "partial_y_train = y_train[10000:]"
   ],
   "metadata": {
    "collapsed": false
   }
  },
  {
   "cell_type": "markdown",
   "metadata": {},
   "source": [
    "# Model"
   ]
  },
  {
   "cell_type": "code",
   "execution_count": 109,
   "metadata": {},
   "outputs": [],
   "source": [
    "model = models.Sequential()\n",
    "model.add(layers.Conv2D(32, kernel_size=(2, 2), activation='relu', input_shape=(28, 28, 1)))\n",
    "model.add(layers.MaxPool2D(pool_size=(2, 2)))\n",
    "model.add(layers.Conv2D(32, kernel_size=(2, 2), activation='relu'))\n",
    "model.add(layers.MaxPool2D(pool_size=(2, 2)))\n",
    "model.add(layers.Flatten())\n",
    "model.add(layers.Dense(num_classes, activation=\"softmax\"))"
   ]
  },
  {
   "cell_type": "code",
   "execution_count": 110,
   "metadata": {},
   "outputs": [
    {
     "name": "stdout",
     "output_type": "stream",
     "text": [
      "Model: \"sequential_15\"\n",
      "_________________________________________________________________\n",
      " Layer (type)                Output Shape              Param #   \n",
      "=================================================================\n",
      " conv2d_24 (Conv2D)          (None, 27, 27, 32)        160       \n",
      "                                                                 \n",
      " max_pooling2d_18 (MaxPoolin  (None, 13, 13, 32)       0         \n",
      " g2D)                                                            \n",
      "                                                                 \n",
      " conv2d_25 (Conv2D)          (None, 12, 12, 32)        4128      \n",
      "                                                                 \n",
      " max_pooling2d_19 (MaxPoolin  (None, 6, 6, 32)         0         \n",
      " g2D)                                                            \n",
      "                                                                 \n",
      " flatten_9 (Flatten)         (None, 1152)              0         \n",
      "                                                                 \n",
      " dense_9 (Dense)             (None, 10)                11530     \n",
      "                                                                 \n",
      "=================================================================\n",
      "Total params: 15,818\n",
      "Trainable params: 15,818\n",
      "Non-trainable params: 0\n",
      "_________________________________________________________________\n"
     ]
    }
   ],
   "source": [
    "model.summary()"
   ]
  },
  {
   "cell_type": "code",
   "execution_count": 111,
   "metadata": {},
   "outputs": [],
   "source": [
    "model.compile(\n",
    "    optimizer=\"adam\",\n",
    "    loss=\"categorical_crossentropy\",\n",
    "    metrics=[\"accuracy\"]\n",
    ")"
   ]
  },
  {
   "cell_type": "code",
   "execution_count": 112,
   "outputs": [
    {
     "name": "stdout",
     "output_type": "stream",
     "text": [
      "Epoch 1/20\n",
      "391/391 [==============================] - 2s 4ms/step - loss: 0.4603 - accuracy: 0.8713 - val_loss: 0.1513 - val_accuracy: 0.9564\n",
      "Epoch 2/20\n",
      "391/391 [==============================] - 1s 4ms/step - loss: 0.1192 - accuracy: 0.9638 - val_loss: 0.1079 - val_accuracy: 0.9665\n",
      "Epoch 3/20\n",
      "391/391 [==============================] - 1s 4ms/step - loss: 0.0857 - accuracy: 0.9744 - val_loss: 0.0849 - val_accuracy: 0.9734\n",
      "Epoch 4/20\n",
      "391/391 [==============================] - 1s 4ms/step - loss: 0.0706 - accuracy: 0.9786 - val_loss: 0.0775 - val_accuracy: 0.9763\n",
      "Epoch 5/20\n",
      "391/391 [==============================] - 1s 4ms/step - loss: 0.0602 - accuracy: 0.9817 - val_loss: 0.0718 - val_accuracy: 0.9781\n",
      "Epoch 6/20\n",
      "391/391 [==============================] - 1s 4ms/step - loss: 0.0530 - accuracy: 0.9838 - val_loss: 0.0658 - val_accuracy: 0.9791\n",
      "Epoch 7/20\n",
      "391/391 [==============================] - 2s 4ms/step - loss: 0.0482 - accuracy: 0.9849 - val_loss: 0.0675 - val_accuracy: 0.9794\n",
      "Epoch 8/20\n",
      "391/391 [==============================] - 1s 4ms/step - loss: 0.0438 - accuracy: 0.9867 - val_loss: 0.0698 - val_accuracy: 0.9801\n",
      "Epoch 9/20\n",
      "391/391 [==============================] - 1s 4ms/step - loss: 0.0403 - accuracy: 0.9874 - val_loss: 0.0656 - val_accuracy: 0.9809\n",
      "Epoch 10/20\n",
      "391/391 [==============================] - 2s 4ms/step - loss: 0.0371 - accuracy: 0.9886 - val_loss: 0.0618 - val_accuracy: 0.9822\n",
      "Epoch 11/20\n",
      "391/391 [==============================] - 1s 4ms/step - loss: 0.0343 - accuracy: 0.9894 - val_loss: 0.0635 - val_accuracy: 0.9812\n",
      "Epoch 12/20\n",
      "391/391 [==============================] - 1s 4ms/step - loss: 0.0319 - accuracy: 0.9903 - val_loss: 0.0617 - val_accuracy: 0.9824\n",
      "Epoch 13/20\n",
      "391/391 [==============================] - 2s 4ms/step - loss: 0.0295 - accuracy: 0.9907 - val_loss: 0.0627 - val_accuracy: 0.9815\n",
      "Epoch 14/20\n",
      "391/391 [==============================] - 1s 4ms/step - loss: 0.0270 - accuracy: 0.9913 - val_loss: 0.0600 - val_accuracy: 0.9825\n",
      "Epoch 15/20\n",
      "391/391 [==============================] - 1s 4ms/step - loss: 0.0248 - accuracy: 0.9923 - val_loss: 0.0610 - val_accuracy: 0.9812\n",
      "Epoch 16/20\n",
      "391/391 [==============================] - 1s 4ms/step - loss: 0.0231 - accuracy: 0.9931 - val_loss: 0.0608 - val_accuracy: 0.9834\n",
      "Epoch 17/20\n",
      "391/391 [==============================] - 1s 4ms/step - loss: 0.0217 - accuracy: 0.9932 - val_loss: 0.0625 - val_accuracy: 0.9826\n",
      "Epoch 18/20\n",
      "391/391 [==============================] - 1s 4ms/step - loss: 0.0195 - accuracy: 0.9942 - val_loss: 0.0621 - val_accuracy: 0.9842\n",
      "Epoch 19/20\n",
      "391/391 [==============================] - 1s 4ms/step - loss: 0.0183 - accuracy: 0.9942 - val_loss: 0.0658 - val_accuracy: 0.9817\n",
      "Epoch 20/20\n",
      "391/391 [==============================] - 1s 4ms/step - loss: 0.0172 - accuracy: 0.9946 - val_loss: 0.0654 - val_accuracy: 0.9835\n"
     ]
    }
   ],
   "source": [
    "history = model.fit(partial_x_train, partial_y_train, batch_size=128, epochs=20, validation_data=(x_val, y_val))"
   ],
   "metadata": {
    "collapsed": false
   }
  },
  {
   "cell_type": "code",
   "execution_count": 113,
   "outputs": [
    {
     "name": "stdout",
     "output_type": "stream",
     "text": [
      "313/313 [==============================] - 0s 2ms/step - loss: 0.0483 - accuracy: 0.9848\n"
     ]
    },
    {
     "data": {
      "text/plain": "[0.0483209528028965, 0.9847999811172485]"
     },
     "execution_count": 113,
     "metadata": {},
     "output_type": "execute_result"
    }
   ],
   "source": [
    "model.evaluate(x_test, y_test)"
   ],
   "metadata": {
    "collapsed": false
   }
  },
  {
   "cell_type": "markdown",
   "source": [
    "# Display performance curves"
   ],
   "metadata": {
    "collapsed": false
   }
  },
  {
   "cell_type": "code",
   "execution_count": 114,
   "outputs": [
    {
     "data": {
      "text/plain": "<matplotlib.legend.Legend at 0x25233995e50>"
     },
     "execution_count": 114,
     "metadata": {},
     "output_type": "execute_result"
    },
    {
     "data": {
      "text/plain": "<Figure size 640x480 with 1 Axes>",
      "image/png": "[encoded data removed]"
     },
     "metadata": {},
     "output_type": "display_data"
    }
   ],
   "source": [
    "history_dict = history.history\n",
    "loss_values = history_dict['loss']\n",
    "val_loss_values = history_dict['val_loss']\n",
    "\n",
    "epochs = range(1, 21)\n",
    "\n",
    "plt.plot(epochs, loss_values, 'bo', label=\"Training\")\n",
    "plt.plot(epochs, val_loss_values, 'b', label=\"Validation\")\n",
    "\n",
    "plt.title(\"Loss during training process\")\n",
    "plt.xlabel(\"Nb epochs\")\n",
    "plt.ylabel(\"Loss\")\n",
    "plt.legend()"
   ],
   "metadata": {
    "collapsed": false
   }
  },
  {
   "cell_type": "code",
   "execution_count": 115,
   "outputs": [
    {
     "data": {
      "text/plain": "<matplotlib.legend.Legend at 0x25253d128b0>"
     },
     "execution_count": 115,
     "metadata": {},
     "output_type": "execute_result"
    },
    {
     "data": {
      "text/plain": "<Figure size 640x480 with 1 Axes>",
      "image/png": "[encoded data removed]"
     },
     "metadata": {},
     "output_type": "display_data"
    }
   ],
   "source": [
    "history_dict = history.history\n",
    "acc_values = history_dict['accuracy']\n",
    "val_acc_values = history_dict['val_accuracy']\n",
    "\n",
    "epochs = range(1, 21)\n",
    "\n",
    "plt.plot(epochs, acc_values, 'bo', label=\"Training\")\n",
    "plt.plot(epochs, val_acc_values, 'b', label=\"Validation\")\n",
    "\n",
    "plt.title(\"Accuracy during training process\")\n",
    "plt.xlabel(\"Nb epochs\")\n",
    "plt.ylabel(\"Accuracy\")\n",
    "plt.legend()"
   ],
   "metadata": {
    "collapsed": false
   }
  },
  {
   "cell_type": "code",
   "execution_count": null,
   "outputs": [],
   "source": [],
   "metadata": {
    "collapsed": false,
    "pycharm": {
     "is_executing": true
    }
   }
  },
  {
   "cell_type": "code",
   "execution_count": 115,
   "outputs": [],
   "source": [],
   "metadata": {
    "collapsed": false
   }
  }
 ],
 "metadata": {
  "kernelspec": {
   "display_name": "Python 3 (ipykernel)",
   "language": "python",
   "name": "python3"
  },
  "language_info": {
   "codemirror_mode": {
    "name": "ipython",
    "version": 3
   },
   "file_extension": ".py",
   "mimetype": "text/x-python",
   "name": "python",
   "nbconvert_exporter": "python",
   "pygments_lexer": "ipython3",
   "version": "3.9.19"
  }
 },
 "nbformat": 4,
 "nbformat_minor": 4
}
