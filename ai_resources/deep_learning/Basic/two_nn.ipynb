{
 "cells": [
  {
   "cell_type": "code",
   "execution_count": 78,
   "metadata": {
    "collapsed": true,
    "ExecuteTime": {
     "end_time": "2024-09-26T12:01:21.737039Z",
     "start_time": "2024-09-26T12:01:21.720840900Z"
    }
   },
   "outputs": [],
   "source": [
    "import numpy as np\n",
    "import matplotlib.pyplot as plt\n",
    "from sklearn.datasets import make_blobs\n",
    "from sklearn.metrics import accuracy_score, log_loss\n",
    "import warnings\n",
    "warnings.filterwarnings('ignore')"
   ]
  },
  {
   "cell_type": "code",
   "execution_count": 79,
   "outputs": [
    {
     "data": {
      "text/plain": "((100, 2), (100,))"
     },
     "execution_count": 79,
     "metadata": {},
     "output_type": "execute_result"
    }
   ],
   "source": [
    "X, y = make_blobs(n_samples=100, n_features=2, centers=2, random_state=0)\n",
    "X.shape, y.shape"
   ],
   "metadata": {
    "collapsed": false,
    "ExecuteTime": {
     "end_time": "2024-09-26T12:01:22.071797800Z",
     "start_time": "2024-09-26T12:01:22.061647700Z"
    }
   }
  },
  {
   "cell_type": "code",
   "execution_count": 80,
   "outputs": [
    {
     "data": {
      "text/plain": "<matplotlib.collections.PathCollection at 0x2902beb47f0>"
     },
     "execution_count": 80,
     "metadata": {},
     "output_type": "execute_result"
    },
    {
     "data": {
      "text/plain": "<Figure size 640x480 with 1 Axes>",
      "image/png": "[encoded data removed]"
     },
     "metadata": {},
     "output_type": "display_data"
    }
   ],
   "source": [
    "plt.scatter(X[:, 0], X[:, 1], c=y, cmap='summer')"
   ],
   "metadata": {
    "collapsed": false,
    "ExecuteTime": {
     "end_time": "2024-09-26T12:01:22.414612700Z",
     "start_time": "2024-09-26T12:01:22.326527600Z"
    }
   }
  },
  {
   "cell_type": "code",
   "execution_count": 81,
   "outputs": [
    {
     "data": {
      "text/plain": "((2, 100), (1, 100))"
     },
     "execution_count": 81,
     "metadata": {},
     "output_type": "execute_result"
    }
   ],
   "source": [
    "X = X.T\n",
    "y = y.reshape((1, y.shape[0]))\n",
    "X.shape, y.shape"
   ],
   "metadata": {
    "collapsed": false,
    "ExecuteTime": {
     "end_time": "2024-09-26T12:01:22.520699100Z",
     "start_time": "2024-09-26T12:01:22.491673100Z"
    }
   }
  },
  {
   "cell_type": "code",
   "execution_count": 82,
   "outputs": [],
   "source": [
    "def initialisation(n0, n1, n2):\n",
    "    W1 = np.random.randn(n1, n0)\n",
    "    b1 = np.random.randn(n1, 1)\n",
    "    W2 = np.random.randn(n2, n1)\n",
    "    b2 = np.random.randn(n2, 1)\n",
    "    parameters = {\n",
    "     'W1': W1,\n",
    "     'b1': b1,\n",
    "     'W2': W2,\n",
    "     'b2': b2\n",
    "    }\n",
    "\n",
    "    return parameters"
   ],
   "metadata": {
    "collapsed": false,
    "ExecuteTime": {
     "end_time": "2024-09-26T12:01:22.677929800Z",
     "start_time": "2024-09-26T12:01:22.672925200Z"
    }
   }
  },
  {
   "cell_type": "code",
   "execution_count": 83,
   "outputs": [],
   "source": [
    "def forward_propagation(X, parameters):\n",
    "    W1 = parameters['W1']\n",
    "    b1 = parameters['b1']\n",
    "    W2 = parameters['W2']\n",
    "    b2 = parameters['b2']\n",
    "\n",
    "    Z1 = W1 @ X + b1\n",
    "    A1 = 1/(1+np.exp(-Z1))\n",
    "    Z2 = W2 @ A1 + b2\n",
    "    A2 = 1/(1+np.exp(-Z2))\n",
    "\n",
    "    activation = {\n",
    "        'A1': A1,\n",
    "        'A2': A2\n",
    "    }\n",
    "    return activation"
   ],
   "metadata": {
    "collapsed": false,
    "ExecuteTime": {
     "end_time": "2024-09-26T12:01:22.880518Z",
     "start_time": "2024-09-26T12:01:22.867508100Z"
    }
   }
  },
  {
   "cell_type": "code",
   "execution_count": 84,
   "outputs": [],
   "source": [
    "def back_propagation(X, y, activation, parameters):\n",
    "    A1 = activation[\"A1\"]\n",
    "    A2 = activation[\"A2\"]\n",
    "    W2 = parameters[\"W2\"]\n",
    "\n",
    "    dz2 = A2 - y\n",
    "    dW2 = 1/y.shape[1] * dz2 @ A1.T\n",
    "    db2 = 1/y.shape[1] * np.sum(dz2, axis=1, keepdims=True)\n",
    "\n",
    "    dz1 = W2.T @ dz2 * A1 * (1 - A1)\n",
    "    dW1 = 1/y.shape[1] * dz1 @ X.T\n",
    "    db1 = 1/y.shape[1] * np.sum(dz1, axis=1, keepdims=True)\n",
    "\n",
    "    gradients = {\n",
    "        \"dW1\": dW1,\n",
    "        \"db1\": db1,\n",
    "        \"dW2\": dW2,\n",
    "        \"db2\": db2\n",
    "    }\n",
    "\n",
    "    return gradients"
   ],
   "metadata": {
    "collapsed": false,
    "ExecuteTime": {
     "end_time": "2024-09-26T12:01:23.158385100Z",
     "start_time": "2024-09-26T12:01:23.154380900Z"
    }
   }
  },
  {
   "cell_type": "code",
   "execution_count": 85,
   "outputs": [],
   "source": [
    "def update(gradients, parameters, alpha):\n",
    "    W1 = parameters['W1']\n",
    "    b1 = parameters['b1']\n",
    "    W2 = parameters['W2']\n",
    "    b2 = parameters['b2']\n",
    "\n",
    "    dW1 = gradients['dW1']\n",
    "    db1 = gradients['db1']\n",
    "    dW2 = gradients['dW2']\n",
    "    db2 = gradients['db2']\n",
    "\n",
    "    W1 = W1 - alpha * dW1\n",
    "    b1 = b1 - alpha * db1\n",
    "    W2 = W2 - alpha * dW2\n",
    "    b2 = b2 - alpha * db2\n",
    "\n",
    "    parameters = {\n",
    "        'W1': W1,\n",
    "        'b1': b1,\n",
    "        'W2': W2,\n",
    "        'b2': b2\n",
    "    }\n",
    "    return parameters"
   ],
   "metadata": {
    "collapsed": false,
    "ExecuteTime": {
     "end_time": "2024-09-26T12:01:23.529871200Z",
     "start_time": "2024-09-26T12:01:23.507842400Z"
    }
   }
  },
  {
   "cell_type": "code",
   "execution_count": 86,
   "outputs": [],
   "source": [
    "def predict(X, parameters):\n",
    "    activations = forward_propagation(X, parameters)\n",
    "    A2 = activations['A2']\n",
    "    return A2 >= 0.5"
   ],
   "metadata": {
    "collapsed": false,
    "ExecuteTime": {
     "end_time": "2024-09-26T12:01:23.981021100Z",
     "start_time": "2024-09-26T12:01:23.964004300Z"
    }
   }
  },
  {
   "cell_type": "code",
   "execution_count": 87,
   "outputs": [],
   "source": [
    "def artifical_neuron(X_train, y_train, n1, alpha=0.01, nb_iteration=100):\n",
    "    n0 = X_train.shape[0]\n",
    "    n2 = y_train.shape[0]\n",
    "    parameters = initialisation(n0, n1, n2)\n",
    "\n",
    "    train_loss = []\n",
    "    train_acc = []\n",
    "\n",
    "    for _ in range(nb_iteration):\n",
    "        activations = forward_propagation(X_train, parameters)\n",
    "        gradients = back_propagation(X_train, y_train, activations, parameters)\n",
    "        parameters = update(gradients, parameters, alpha)\n",
    "\n",
    "        train_loss.append(log_loss(y_train, activations['A2']))\n",
    "        y_pred = predict(X_train, parameters)\n",
    "        current_accuracy = accuracy_score(y_train.flatten(), y_pred.flatten())\n",
    "        train_acc.append(current_accuracy)\n",
    "\n",
    "    plt.figure(figsize=(14,4))\n",
    "    plt.subplot(1, 2, 1)\n",
    "    plt.plot(train_loss, label=\"train_loss\")\n",
    "    plt.legend()\n",
    "    plt.subplot(1, 2, 2)\n",
    "    plt.plot(train_acc, label=\"train_acc\")\n",
    "    plt.legend()\n",
    "    plt.show()\n",
    "    return parameters"
   ],
   "metadata": {
    "collapsed": false,
    "ExecuteTime": {
     "end_time": "2024-09-26T12:01:24.488159Z",
     "start_time": "2024-09-26T12:01:24.469637600Z"
    }
   }
  },
  {
   "cell_type": "code",
   "execution_count": 90,
   "outputs": [
    {
     "data": {
      "text/plain": "<Figure size 1400x400 with 2 Axes>",
      "image/png": "[encoded data removed]"
     },
     "metadata": {},
     "output_type": "display_data"
    }
   ],
   "source": [
    "parameters = artifical_neuron(X, y, n1=8, nb_iteration=1000, alpha=0.1)"
   ],
   "metadata": {
    "collapsed": false,
    "ExecuteTime": {
     "end_time": "2024-09-26T12:03:12.806604600Z",
     "start_time": "2024-09-26T12:03:11.840257800Z"
    }
   }
  },
  {
   "cell_type": "code",
   "execution_count": 77,
   "outputs": [
    {
     "data": {
      "text/plain": "{'W1': array([[-0.45759902,  1.04135523],\n        [ 0.68151163, -1.39655649]]),\n 'b1': array([[-1.46663876],\n        [ 2.37194687]]),\n 'W2': array([[-2.6970516 ,  4.62110984]]),\n 'b2': array([[-0.41261525]])}"
     },
     "execution_count": 77,
     "metadata": {},
     "output_type": "execute_result"
    }
   ],
   "source": [
    "parameters"
   ],
   "metadata": {
    "collapsed": false,
    "ExecuteTime": {
     "end_time": "2024-09-26T12:01:12.101890300Z",
     "start_time": "2024-09-26T12:01:12.085873Z"
    }
   }
  },
  {
   "cell_type": "code",
   "execution_count": 77,
   "outputs": [],
   "source": [],
   "metadata": {
    "collapsed": false,
    "ExecuteTime": {
     "end_time": "2024-09-26T12:01:12.138133900Z",
     "start_time": "2024-09-26T12:01:12.101890300Z"
    }
   }
  }
 ],
 "metadata": {
  "kernelspec": {
   "display_name": "Python 3",
   "language": "python",
   "name": "python3"
  },
  "language_info": {
   "codemirror_mode": {
    "name": "ipython",
    "version": 2
   },
   "file_extension": ".py",
   "mimetype": "text/x-python",
   "name": "python",
   "nbconvert_exporter": "python",
   "pygments_lexer": "ipython2",
   "version": "2.7.6"
  }
 },
 "nbformat": 4,
 "nbformat_minor": 0
}
