{
 "cells": [
  {
   "cell_type": "code",
   "execution_count": 8,
   "metadata": {
    "ExecuteTime": {
     "end_time": "2024-10-25T06:30:34.890554500Z",
     "start_time": "2024-10-25T06:30:34.778449700Z"
    }
   },
   "outputs": [],
   "source": [
    "import torch\n",
    "import torch.nn as nn\n",
    "from torch.nn.functional import relu\n",
    "from torch.utils.data import DataLoader\n",
    "from torchvision import transforms, datasets\n",
    "from torchsummary import summary\n",
    "import warnings\n",
    "warnings.filterwarnings('ignore')"
   ]
  },
  {
   "cell_type": "code",
   "execution_count": 9,
   "metadata": {
    "collapsed": false,
    "jupyter": {
     "outputs_hidden": false
    },
    "ExecuteTime": {
     "end_time": "2024-10-25T06:30:36.644099200Z",
     "start_time": "2024-10-25T06:30:36.515983100Z"
    }
   },
   "outputs": [
    {
     "name": "stdout",
     "output_type": "stream",
     "text": [
      "Using gpu: True \n"
     ]
    }
   ],
   "source": [
    "device = torch.device(\"cuda:0\" if torch.cuda.is_available() else \"cpu\")\n",
    "print('Using gpu: %s ' % torch.cuda.is_available())"
   ]
  },
  {
   "cell_type": "code",
   "execution_count": 38,
   "metadata": {
    "collapsed": false,
    "jupyter": {
     "outputs_hidden": false
    },
    "ExecuteTime": {
     "end_time": "2024-10-25T06:48:16.963522800Z",
     "start_time": "2024-10-25T06:48:16.926488Z"
    }
   },
   "outputs": [],
   "source": [
    "transform = transforms.Compose([\n",
    "    transforms.Resize((28, 28)),\n",
    "    transforms.ToTensor(),\n",
    "    transforms.Normalize(mean=[0.5], std=[0.5])\n",
    "])\n",
    "\n",
    "trainset = datasets.MNIST(root='./data/', train=True, download=True, transform=transform)\n",
    "trainloader = torch.utils.data.DataLoader(trainset, batch_size=64, shuffle=True, num_workers=2)"
   ]
  },
  {
   "cell_type": "code",
   "execution_count": 39,
   "metadata": {
    "collapsed": false,
    "jupyter": {
     "outputs_hidden": false
    },
    "ExecuteTime": {
     "end_time": "2024-10-25T06:48:17.463165300Z",
     "start_time": "2024-10-25T06:48:17.432137300Z"
    }
   },
   "outputs": [
    {
     "name": "stdout",
     "output_type": "stream",
     "text": [
      "----------------------------------------------------------------\n",
      "        Layer (type)               Output Shape         Param #\n",
      "================================================================\n",
      "            Linear-1                [-1, 12544]       1,266,944\n",
      "   ConvTranspose2d-2          [-1, 128, 14, 14]         524,416\n",
      "   ConvTranspose2d-3           [-1, 64, 28, 28]         131,136\n",
      "   ConvTranspose2d-4            [-1, 1, 28, 28]             577\n",
      "              Tanh-5            [-1, 1, 28, 28]               0\n",
      "================================================================\n",
      "Total params: 1,923,073\n",
      "Trainable params: 1,923,073\n",
      "Non-trainable params: 0\n",
      "----------------------------------------------------------------\n",
      "Input size (MB): 0.00\n",
      "Forward/backward pass size (MB): 0.68\n",
      "Params size (MB): 7.34\n",
      "Estimated Total Size (MB): 8.02\n",
      "----------------------------------------------------------------\n"
     ]
    }
   ],
   "source": [
    "class Generator(nn.Module):\n",
    "    def __init__(self, input_dim):\n",
    "        super(Generator, self).__init__()\n",
    "        self.fc1 = nn.Linear(input_dim, 256 * 7 * 7)\n",
    "        self.convT1 = nn.ConvTranspose2d(256, 128, kernel_size=4, stride=2, padding=1)\n",
    "        self.convT2 = nn.ConvTranspose2d(128, 64, kernel_size=4, stride=2, padding=1)\n",
    "        self.convT3 = nn.ConvTranspose2d(64, 1, kernel_size=3, stride=1, padding=1)\n",
    "        self.tanh = nn.Tanh()\n",
    "\n",
    "    def forward(self, x):\n",
    "        x = relu(self.fc1(x))\n",
    "        x = x.view(-1, 256, 7, 7)\n",
    "        x = relu(self.convT1(x))\n",
    "        x = relu(self.convT2(x))\n",
    "        x = self.convT3(x)\n",
    "        x = self.tanh(x)\n",
    "        return x\n",
    "\n",
    "generator = Generator(input_dim=100).to(device)\n",
    "summary(generator, (100,))"
   ]
  },
  {
   "cell_type": "code",
   "execution_count": 51,
   "metadata": {
    "collapsed": false,
    "jupyter": {
     "outputs_hidden": false
    },
    "ExecuteTime": {
     "end_time": "2024-10-25T06:59:57.298294500Z",
     "start_time": "2024-10-25T06:59:57.266265600Z"
    }
   },
   "outputs": [
    {
     "name": "stdout",
     "output_type": "stream",
     "text": [
      "----------------------------------------------------------------\n",
      "        Layer (type)               Output Shape         Param #\n",
      "================================================================\n",
      "            Conv2d-1           [-1, 32, 14, 14]             544\n",
      "         LeakyReLU-2           [-1, 32, 14, 14]               0\n",
      "            Conv2d-3             [-1, 64, 7, 7]          32,832\n",
      "         LeakyReLU-4             [-1, 64, 7, 7]               0\n",
      "            Conv2d-5            [-1, 128, 3, 3]         131,200\n",
      "         LeakyReLU-6            [-1, 128, 3, 3]               0\n",
      "            Linear-7                    [-1, 1]           1,153\n",
      "================================================================\n",
      "Total params: 165,729\n",
      "Trainable params: 165,729\n",
      "Non-trainable params: 0\n",
      "----------------------------------------------------------------\n",
      "Input size (MB): 0.00\n",
      "Forward/backward pass size (MB): 0.16\n",
      "Params size (MB): 0.63\n",
      "Estimated Total Size (MB): 0.80\n",
      "----------------------------------------------------------------\n"
     ]
    }
   ],
   "source": [
    "class Discriminator(nn.Module):\n",
    "    def __init__(self):\n",
    "        super(Discriminator, self).__init__()\n",
    "        self.conv1 = nn.Conv2d(1, 32, kernel_size=4, stride=2, padding=1)\n",
    "        self.conv2 = nn.Conv2d(32, 64, kernel_size=4, stride=2, padding=1)\n",
    "        self.conv3 = nn.Conv2d(64, 128, kernel_size=4, stride=2, padding=1)\n",
    "        self.fc1 = nn.Linear(128 * 3 * 3, 1)\n",
    "        self.lrelu = nn.LeakyReLU(0.2)\n",
    "        self.dropout = nn.Dropout(0.3)\n",
    "\n",
    "    def forward(self, x):\n",
    "        x = self.lrelu(self.conv1(x))\n",
    "        x = self.lrelu(self.conv2(x))\n",
    "        x = self.lrelu(self.conv3(x))\n",
    "        x = x.view(x.size(0), -1)\n",
    "        x = self.fc1(x)\n",
    "        return x\n",
    "\n",
    "discriminator = Discriminator().to(device)\n",
    "summary(discriminator, (1, 28, 28))\n"
   ]
  },
  {
   "cell_type": "code",
   "execution_count": 52,
   "metadata": {
    "ExecuteTime": {
     "end_time": "2024-10-25T07:00:03.526600200Z",
     "start_time": "2024-10-25T07:00:03.522596600Z"
    }
   },
   "outputs": [],
   "source": [
    "g_opt = torch.optim.Adam(lr=1e-4, betas=(0.5, 0.999), params=generator.parameters())\n",
    "d_opt = torch.optim.Adam(lr=1e-4, betas=(0.5, 0.999), params=discriminator.parameters())"
   ]
  },
  {
   "cell_type": "code",
   "execution_count": 53,
   "metadata": {
    "ExecuteTime": {
     "end_time": "2024-10-25T07:00:04.182522800Z",
     "start_time": "2024-10-25T07:00:04.177518700Z"
    }
   },
   "outputs": [],
   "source": [
    "nb_epochs = 50\n",
    "batch_size = 64"
   ]
  },
  {
   "cell_type": "code",
   "execution_count": 54,
   "metadata": {
    "ExecuteTime": {
     "end_time": "2024-10-25T07:00:04.772061100Z",
     "start_time": "2024-10-25T07:00:04.764053900Z"
    }
   },
   "outputs": [],
   "source": [
    "criterion = nn.BCEWithLogitsLoss()"
   ]
  },
  {
   "cell_type": "code",
   "execution_count": 55,
   "metadata": {
    "ExecuteTime": {
     "end_time": "2024-10-25T07:00:06.372778100Z",
     "start_time": "2024-10-25T07:00:06.368774700Z"
    }
   },
   "outputs": [],
   "source": [
    "def weights_init(m):\n",
    "    classname = m.__class__.__name__\n",
    "    if classname.find('Conv') != -1 or classname.find('ConvTranspose') != -1:\n",
    "        nn.init.normal_(m.weight.data, 0.0, 0.02)\n",
    "    elif classname.find('BatchNorm') != -1:\n",
    "        nn.init.normal_(m.weight.data, 1.0, 0.02)\n",
    "        nn.init.constant_(m.bias.data, 0)\n"
   ]
  },
  {
   "cell_type": "code",
   "execution_count": 56,
   "metadata": {
    "ExecuteTime": {
     "end_time": "2024-10-25T07:00:06.766561Z",
     "start_time": "2024-10-25T07:00:06.752548500Z"
    }
   },
   "outputs": [
    {
     "data": {
      "text/plain": "Discriminator(\n  (conv1): Conv2d(1, 32, kernel_size=(4, 4), stride=(2, 2), padding=(1, 1))\n  (conv2): Conv2d(32, 64, kernel_size=(4, 4), stride=(2, 2), padding=(1, 1))\n  (conv3): Conv2d(64, 128, kernel_size=(4, 4), stride=(2, 2), padding=(1, 1))\n  (fc1): Linear(in_features=1152, out_features=1, bias=True)\n  (lrelu): LeakyReLU(negative_slope=0.2)\n  (dropout): Dropout(p=0.3, inplace=False)\n)"
     },
     "execution_count": 56,
     "metadata": {},
     "output_type": "execute_result"
    }
   ],
   "source": [
    "generator.apply(weights_init)\n",
    "discriminator.apply(weights_init)"
   ]
  },
  {
   "cell_type": "code",
   "execution_count": 57,
   "metadata": {
    "ExecuteTime": {
     "end_time": "2024-10-25T07:00:07.416154200Z",
     "start_time": "2024-10-25T07:00:07.386128400Z"
    }
   },
   "outputs": [],
   "source": [
    "def train(train_loader, nb_epochs, generator, discriminator, input_dim, device):\n",
    "    g_loss_h= []\n",
    "    d_loss_h = []\n",
    "    for epoch in (range(nb_epochs)):\n",
    "        total_d_loss = 0.0\n",
    "        total_g_loss = 0.0\n",
    "\n",
    "        for batch_idx, (real, _) in enumerate(train_loader):\n",
    "            real = real.to(device)\n",
    "            m = real.size(0)\n",
    "\n",
    "            d_opt.zero_grad()\n",
    "            real_labels = torch.ones(m).to(device)\n",
    "            fake_labels = torch.zeros(m).to(device)\n",
    "            \n",
    "            outputs_real = discriminator(real).view(-1)\n",
    "            d_loss_real = criterion(outputs_real, real_labels)\n",
    "\n",
    "            noise = torch.randn(m, input_dim, device=device)\n",
    "            fake_images = generator(noise)\n",
    "            outputs_fake = discriminator(fake_images.detach()).view(-1)\n",
    "            d_loss_fake = criterion(outputs_fake, fake_labels)\n",
    "\n",
    "            d_loss = d_loss_real + d_loss_fake\n",
    "            d_loss.backward()\n",
    "            d_opt.step()\n",
    "            total_d_loss += d_loss.item()\n",
    "\n",
    "            g_opt.zero_grad()\n",
    "            g_labels = torch.ones(m, device=device)\n",
    "            outputs = discriminator(fake_images).view(-1)\n",
    "            g_loss = criterion(outputs, g_labels)\n",
    "            g_loss.backward()\n",
    "            g_opt.step()\n",
    "            total_g_loss += g_loss.item()\n",
    "\n",
    "        avg_d_loss = total_d_loss / len(train_loader)\n",
    "        avg_g_loss = total_g_loss / len(train_loader)\n",
    "\n",
    "        g_loss_h.append(avg_g_loss)\n",
    "        d_loss_h.append(avg_d_loss)\n",
    "        print(f\"Epoch [{epoch+1}/{nb_epochs}], Discriminator Loss: {avg_d_loss:.2f}, Generator Loss: {avg_g_loss:.2f}\")"
   ]
  },
  {
   "cell_type": "code",
   "execution_count": 58,
   "metadata": {
    "ExecuteTime": {
     "end_time": "2024-10-25T07:04:52.371131300Z",
     "start_time": "2024-10-25T07:00:08.449833Z"
    }
   },
   "outputs": [
    {
     "name": "stdout",
     "output_type": "stream",
     "text": [
      "Epoch [1/50], Discriminator Loss: 1.34, Generator Loss: 0.76\n",
      "Epoch [2/50], Discriminator Loss: 1.32, Generator Loss: 0.79\n",
      "Epoch [3/50], Discriminator Loss: 1.29, Generator Loss: 0.81\n",
      "Epoch [4/50], Discriminator Loss: 1.30, Generator Loss: 0.81\n",
      "Epoch [5/50], Discriminator Loss: 1.30, Generator Loss: 0.82\n",
      "Epoch [6/50], Discriminator Loss: 1.32, Generator Loss: 0.79\n",
      "Epoch [7/50], Discriminator Loss: 1.30, Generator Loss: 0.79\n",
      "Epoch [8/50], Discriminator Loss: 1.30, Generator Loss: 0.81\n",
      "Epoch [9/50], Discriminator Loss: 1.29, Generator Loss: 0.82\n",
      "Epoch [10/50], Discriminator Loss: 1.28, Generator Loss: 0.83\n",
      "Epoch [11/50], Discriminator Loss: 1.27, Generator Loss: 0.84\n",
      "Epoch [12/50], Discriminator Loss: 1.27, Generator Loss: 0.85\n",
      "Epoch [13/50], Discriminator Loss: 1.27, Generator Loss: 0.85\n",
      "Epoch [14/50], Discriminator Loss: 1.27, Generator Loss: 0.84\n",
      "Epoch [15/50], Discriminator Loss: 1.28, Generator Loss: 0.85\n",
      "Epoch [16/50], Discriminator Loss: 1.28, Generator Loss: 0.85\n",
      "Epoch [17/50], Discriminator Loss: 1.28, Generator Loss: 0.84\n",
      "Epoch [18/50], Discriminator Loss: 1.29, Generator Loss: 0.85\n",
      "Epoch [19/50], Discriminator Loss: 1.29, Generator Loss: 0.84\n",
      "Epoch [20/50], Discriminator Loss: 1.29, Generator Loss: 0.84\n",
      "Epoch [21/50], Discriminator Loss: 1.29, Generator Loss: 0.84\n",
      "Epoch [22/50], Discriminator Loss: 1.29, Generator Loss: 0.84\n"
     ]
    },
    {
     "ename": "KeyboardInterrupt",
     "evalue": "",
     "output_type": "error",
     "traceback": [
      "\u001B[1;31m---------------------------------------------------------------------------\u001B[0m",
      "\u001B[1;31mKeyboardInterrupt\u001B[0m                         Traceback (most recent call last)",
      "Cell \u001B[1;32mIn[58], line 1\u001B[0m\n\u001B[1;32m----> 1\u001B[0m \u001B[43mtrain\u001B[49m\u001B[43m(\u001B[49m\u001B[43mtrainloader\u001B[49m\u001B[43m,\u001B[49m\u001B[43m \u001B[49m\u001B[43mnb_epochs\u001B[49m\u001B[43m,\u001B[49m\u001B[43m \u001B[49m\u001B[43mgenerator\u001B[49m\u001B[43m,\u001B[49m\u001B[43m \u001B[49m\u001B[43mdiscriminator\u001B[49m\u001B[43m,\u001B[49m\u001B[43m \u001B[49m\u001B[38;5;241;43m100\u001B[39;49m\u001B[43m,\u001B[49m\u001B[43m \u001B[49m\u001B[43mdevice\u001B[49m\u001B[43m)\u001B[49m\n",
      "Cell \u001B[1;32mIn[57], line 27\u001B[0m, in \u001B[0;36mtrain\u001B[1;34m(train_loader, nb_epochs, generator, discriminator, input_dim, device)\u001B[0m\n\u001B[0;32m     25\u001B[0m d_loss\u001B[38;5;241m.\u001B[39mbackward()\n\u001B[0;32m     26\u001B[0m d_opt\u001B[38;5;241m.\u001B[39mstep()\n\u001B[1;32m---> 27\u001B[0m total_d_loss \u001B[38;5;241m+\u001B[39m\u001B[38;5;241m=\u001B[39m \u001B[43md_loss\u001B[49m\u001B[38;5;241;43m.\u001B[39;49m\u001B[43mitem\u001B[49m\u001B[43m(\u001B[49m\u001B[43m)\u001B[49m\n\u001B[0;32m     29\u001B[0m g_opt\u001B[38;5;241m.\u001B[39mzero_grad()\n\u001B[0;32m     30\u001B[0m g_labels \u001B[38;5;241m=\u001B[39m torch\u001B[38;5;241m.\u001B[39mones(m, device\u001B[38;5;241m=\u001B[39mdevice)\n",
      "\u001B[1;31mKeyboardInterrupt\u001B[0m: "
     ]
    }
   ],
   "source": [
    "train(trainloader, nb_epochs, generator, discriminator, 100, device)"
   ]
  },
  {
   "cell_type": "code",
   "execution_count": null,
   "metadata": {},
   "outputs": [],
   "source": []
  },
  {
   "cell_type": "code",
   "execution_count": null,
   "metadata": {},
   "outputs": [],
   "source": []
  },
  {
   "cell_type": "code",
   "execution_count": null,
   "metadata": {},
   "outputs": [],
   "source": []
  },
  {
   "cell_type": "code",
   "execution_count": null,
   "metadata": {},
   "outputs": [],
   "source": []
  },
  {
   "cell_type": "code",
   "execution_count": null,
   "metadata": {},
   "outputs": [],
   "source": []
  },
  {
   "cell_type": "code",
   "execution_count": null,
   "metadata": {},
   "outputs": [],
   "source": []
  },
  {
   "cell_type": "code",
   "execution_count": 1,
   "metadata": {
    "ExecuteTime": {
     "end_time": "2024-10-20T13:53:39.455176200Z",
     "start_time": "2024-10-20T13:53:39.441162700Z"
    }
   },
   "outputs": [],
   "source": []
  }
 ],
 "metadata": {
  "kernelspec": {
   "display_name": "Python 3 (ipykernel)",
   "language": "python",
   "name": "python3"
  },
  "language_info": {
   "codemirror_mode": {
    "name": "ipython",
    "version": 3
   },
   "file_extension": ".py",
   "mimetype": "text/x-python",
   "name": "python",
   "nbconvert_exporter": "python",
   "pygments_lexer": "ipython3",
   "version": "3.10.0"
  }
 },
 "nbformat": 4,
 "nbformat_minor": 4
}
