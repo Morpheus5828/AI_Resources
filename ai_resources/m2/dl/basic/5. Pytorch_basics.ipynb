{
 "cells": [
  {
   "cell_type": "markdown",
   "source": [
    "Credits\n",
    "\n",
    "\n",
    "\n",
    "*   [DataFlowR online course](https://dataflowr.github.io/website/)\n",
    "*   [Pytorch Tutorials](https://pytorch.org/tutorials/beginner/basics/intro.html)\n",
    "\n"
   ],
   "metadata": {
    "id": "CdO3TrNfSZkg"
   }
  },
  {
   "cell_type": "markdown",
   "metadata": {
    "id": "YmJE2a4N8We0"
   },
   "source": [
    "# PyTorch tensors and automatic differentiation"
   ]
  },
  {
   "cell_type": "code",
   "metadata": {
    "id": "zOgNQwiv8We1",
    "ExecuteTime": {
     "end_time": "2024-09-21T06:17:34.207582600Z",
     "start_time": "2024-09-21T06:17:32.003579900Z"
    }
   },
   "source": [
    "import matplotlib.pyplot as plt\n",
    "%matplotlib inline\n",
    "import torch\n",
    "import numpy as np"
   ],
   "outputs": [],
   "execution_count": 1
  },
  {
   "cell_type": "code",
   "metadata": {
    "id": "smvq6dbY8We4",
    "ExecuteTime": {
     "end_time": "2024-09-21T06:17:36.612767300Z",
     "start_time": "2024-09-21T06:17:36.589745700Z"
    }
   },
   "source": [
    "device = torch.device(\"cuda:0\" if torch.cuda.is_available() else \"cpu\")\n",
    "\n",
    "print('Using gpu: %s ' % torch.cuda.is_available())"
   ],
   "outputs": [
    {
     "name": "stdout",
     "output_type": "stream",
     "text": [
      "Using gpu: True \n"
     ]
    }
   ],
   "execution_count": 2
  },
  {
   "cell_type": "markdown",
   "metadata": {
    "id": "vURcLof_8We8"
   },
   "source": [
    "Tensors are used to encode the signal to process, but also the internal states and parameters of models.\n",
    "\n",
    "**Manipulating data through this constrained structure allows to use CPUs and GPUs at peak performance.**\n",
    "\n"
   ]
  },
  {
   "cell_type": "markdown",
   "source": [
    "## Initializing a tensor"
   ],
   "metadata": {
    "id": "CCC-9HFsT_1D"
   }
  },
  {
   "cell_type": "markdown",
   "source": [
    "Construct a 3x5 matrix, uninitialized:"
   ],
   "metadata": {
    "id": "Bz3FgF4uUDte"
   }
  },
  {
   "cell_type": "code",
   "execution_count": 4,
   "metadata": {
    "id": "c9tmMiNo8We-",
    "ExecuteTime": {
     "end_time": "2024-09-21T06:17:52.152324400Z",
     "start_time": "2024-09-21T06:17:52.093271200Z"
    }
   },
   "outputs": [
    {
     "name": "stdout",
     "output_type": "stream",
     "text": [
      "torch.float32\n",
      "tensor([[6.0021e+00, 1.1379e-42, 0.0000e+00, 0.0000e+00, 0.0000e+00],\n",
      "        [0.0000e+00, 0.0000e+00, 0.0000e+00, 0.0000e+00, 0.0000e+00],\n",
      "        [0.0000e+00, 0.0000e+00, 0.0000e+00, 0.0000e+00, 0.0000e+00]])\n"
     ]
    }
   ],
   "source": [
    "x = torch.empty(3,5)\n",
    "print(x.dtype)\n",
    "print(x)"
   ]
  },
  {
   "cell_type": "code",
   "execution_count": 5,
   "metadata": {
    "id": "xlY-hwAY8WfB",
    "ExecuteTime": {
     "end_time": "2024-09-21T06:17:54.128119300Z",
     "start_time": "2024-09-21T06:17:54.080075800Z"
    }
   },
   "outputs": [
    {
     "name": "stdout",
     "output_type": "stream",
     "text": [
      "tensor([[ 1.0848,  0.9703,  0.9429, -0.2934,  0.5745],\n",
      "        [ 0.0297,  0.2637, -0.2185, -0.0887, -1.4960],\n",
      "        [ 0.5915, -0.0129, -0.9466,  1.2913, -0.8218]])\n"
     ]
    }
   ],
   "source": [
    "x = torch.randn(3,5)\n",
    "print(x)"
   ]
  },
  {
   "cell_type": "code",
   "execution_count": 6,
   "metadata": {
    "id": "7g19ZvvL8WfD",
    "ExecuteTime": {
     "end_time": "2024-09-21T06:17:54.858782700Z",
     "start_time": "2024-09-21T06:17:54.777709400Z"
    }
   },
   "outputs": [
    {
     "name": "stdout",
     "output_type": "stream",
     "text": [
      "torch.Size([3, 5])\n"
     ]
    }
   ],
   "source": [
    "print(x.size())"
   ]
  },
  {
   "cell_type": "markdown",
   "metadata": {
    "id": "ZPjoP9Ec8WfG"
   },
   "source": [
    "torch.Size is in fact a [tuple](https://docs.python.org/3/tutorial/datastructures.html#tuples-and-sequences), so it supports the same operations.\n"
   ]
  },
  {
   "cell_type": "code",
   "execution_count": 7,
   "metadata": {
    "id": "rgVPlppm8WfG",
    "ExecuteTime": {
     "end_time": "2024-09-21T06:17:56.769518500Z",
     "start_time": "2024-09-21T06:17:56.689445700Z"
    }
   },
   "outputs": [
    {
     "data": {
      "text/plain": "5"
     },
     "execution_count": 7,
     "metadata": {},
     "output_type": "execute_result"
    }
   ],
   "source": [
    "x.size()[1]"
   ]
  },
  {
   "cell_type": "code",
   "execution_count": 8,
   "metadata": {
    "id": "CY87gW168WfI",
    "ExecuteTime": {
     "end_time": "2024-09-21T06:17:57.422111Z",
     "start_time": "2024-09-21T06:17:57.354049300Z"
    }
   },
   "outputs": [
    {
     "data": {
      "text/plain": "True"
     },
     "execution_count": 8,
     "metadata": {},
     "output_type": "execute_result"
    }
   ],
   "source": [
    "x.size() == (3,5)"
   ]
  },
  {
   "cell_type": "code",
   "source": [
    "x_ones = torch.ones_like(x) # retains the properties of x"
   ],
   "metadata": {
    "id": "bcX8VrDPUIEC",
    "ExecuteTime": {
     "end_time": "2024-09-21T06:17:57.944585800Z",
     "start_time": "2024-09-21T06:17:57.920564Z"
    }
   },
   "execution_count": 9,
   "outputs": []
  },
  {
   "cell_type": "markdown",
   "metadata": {
    "id": "jeUshrFT8WfK"
   },
   "source": [
    "### Bridge to numpy\n"
   ]
  },
  {
   "cell_type": "code",
   "execution_count": 10,
   "metadata": {
    "id": "C1cDkoT98WfM",
    "ExecuteTime": {
     "end_time": "2024-09-21T06:18:00.189624800Z",
     "start_time": "2024-09-21T06:18:00.128569300Z"
    }
   },
   "outputs": [
    {
     "name": "stdout",
     "output_type": "stream",
     "text": [
      "[[ 1.0848428   0.9702707   0.9429496  -0.29342934  0.5744521 ]\n",
      " [ 0.02971681  0.26370436 -0.21845931 -0.08866614 -1.4959964 ]\n",
      " [ 0.59146595 -0.01287817 -0.9465888   1.2913276  -0.8218247 ]]\n"
     ]
    }
   ],
   "source": [
    "y = x.numpy()\n",
    "print(y)"
   ]
  },
  {
   "cell_type": "code",
   "execution_count": 11,
   "metadata": {
    "id": "2DdMiBVY8WfO",
    "ExecuteTime": {
     "end_time": "2024-09-21T06:18:04.128202100Z",
     "start_time": "2024-09-21T06:18:03.998084600Z"
    }
   },
   "outputs": [
    {
     "name": "stdout",
     "output_type": "stream",
     "text": [
      "float64\n",
      "tensor([1., 1., 1., 1., 1.], dtype=torch.float64)\n"
     ]
    }
   ],
   "source": [
    "a = np.ones(5)\n",
    "b = torch.from_numpy(a)\n",
    "print(a.dtype)\n",
    "print(b)"
   ]
  },
  {
   "cell_type": "code",
   "source": [
    "a[1]=0\n",
    "b\n"
   ],
   "metadata": {
    "id": "OIH-EXfaV8vs",
    "ExecuteTime": {
     "end_time": "2024-09-21T06:18:05.019011200Z",
     "start_time": "2024-09-21T06:18:04.901904900Z"
    }
   },
   "execution_count": 12,
   "outputs": [
    {
     "data": {
      "text/plain": "tensor([1., 0., 1., 1., 1.], dtype=torch.float64)"
     },
     "execution_count": 12,
     "metadata": {},
     "output_type": "execute_result"
    }
   ]
  },
  {
   "cell_type": "code",
   "execution_count": 13,
   "metadata": {
    "id": "cg-kloHeB_hR",
    "ExecuteTime": {
     "end_time": "2024-09-21T06:18:05.730657900Z",
     "start_time": "2024-09-21T06:18:05.629565800Z"
    }
   },
   "outputs": [
    {
     "name": "stdout",
     "output_type": "stream",
     "text": [
      "torch.int64 tensor([1, 0, 1, 1, 1])\n",
      "torch.float64 tensor([1., 0., 1., 1., 1.], dtype=torch.float64)\n"
     ]
    }
   ],
   "source": [
    "c = b.long()\n",
    "print(c.dtype, c)\n",
    "print(b.dtype, b)"
   ]
  },
  {
   "cell_type": "code",
   "execution_count": 14,
   "metadata": {
    "id": "lZLbt9C38WfQ",
    "ExecuteTime": {
     "end_time": "2024-09-21T06:18:06.230111400Z",
     "start_time": "2024-09-21T06:18:06.139029Z"
    }
   },
   "outputs": [
    {
     "name": "stdout",
     "output_type": "stream",
     "text": [
      "torch.float32 tensor([[ 0.0177,  0.0381,  0.3973, -0.5031, -0.8506],\n",
      "        [ 0.4498,  0.3508, -1.8947,  0.8824, -1.8403],\n",
      "        [-0.4247, -0.2585, -0.6598,  1.7379,  0.4978]])\n"
     ]
    }
   ],
   "source": [
    "xr = torch.randn(3, 5)\n",
    "print(xr.dtype, xr)"
   ]
  },
  {
   "cell_type": "code",
   "execution_count": 15,
   "metadata": {
    "id": "T5nYMEcM8WfS",
    "ExecuteTime": {
     "end_time": "2024-09-21T06:18:06.908727600Z",
     "start_time": "2024-09-21T06:18:06.818646500Z"
    }
   },
   "outputs": [
    {
     "data": {
      "text/plain": "tensor([[ 1.0177,  0.0381,  1.3973,  0.4969,  0.1494],\n        [ 1.4498,  0.3508, -0.8947,  1.8824, -0.8403],\n        [ 0.5753, -0.2585,  0.3402,  2.7379,  1.4978]], dtype=torch.float64)"
     },
     "execution_count": 15,
     "metadata": {},
     "output_type": "execute_result"
    }
   ],
   "source": [
    "resb = xr + b\n",
    "resb"
   ]
  },
  {
   "cell_type": "code",
   "execution_count": 16,
   "metadata": {
    "id": "QGTfk0M9B_hd",
    "ExecuteTime": {
     "end_time": "2024-09-21T06:18:07.622375700Z",
     "start_time": "2024-09-21T06:18:07.505269700Z"
    }
   },
   "outputs": [
    {
     "data": {
      "text/plain": "tensor([[ 1.0177,  0.0381,  1.3973,  0.4969,  0.1494],\n        [ 1.4498,  0.3508, -0.8947,  1.8824, -0.8403],\n        [ 0.5753, -0.2585,  0.3402,  2.7379,  1.4978]])"
     },
     "execution_count": 16,
     "metadata": {},
     "output_type": "execute_result"
    }
   ],
   "source": [
    "resc = xr + c\n",
    "resc"
   ]
  },
  {
   "cell_type": "markdown",
   "metadata": {
    "id": "YuZ0-dswB_hf"
   },
   "source": [
    "Be careful with types!"
   ]
  },
  {
   "cell_type": "code",
   "execution_count": 17,
   "metadata": {
    "id": "4Jdin_2zB_hg",
    "ExecuteTime": {
     "end_time": "2024-09-21T06:18:08.404085700Z",
     "start_time": "2024-09-21T06:18:08.340027700Z"
    }
   },
   "outputs": [
    {
     "data": {
      "text/plain": "tensor([[False,  True, False,  True,  True],\n        [False,  True,  True, False,  True],\n        [False,  True,  True, False, False]])"
     },
     "execution_count": 17,
     "metadata": {},
     "output_type": "execute_result"
    }
   ],
   "source": [
    "resb == resc"
   ]
  },
  {
   "cell_type": "code",
   "execution_count": 18,
   "metadata": {
    "id": "Rn7Xp9dpB_hk",
    "ExecuteTime": {
     "end_time": "2024-09-21T06:18:08.865504800Z",
     "start_time": "2024-09-21T06:18:08.785432800Z"
    }
   },
   "outputs": [],
   "source": [
    "torch.set_printoptions(precision=10)"
   ]
  },
  {
   "cell_type": "code",
   "execution_count": 19,
   "metadata": {
    "id": "ipyVIQiKB_hn",
    "ExecuteTime": {
     "end_time": "2024-09-21T06:18:09.503083900Z",
     "start_time": "2024-09-21T06:18:09.387979900Z"
    }
   },
   "outputs": [
    {
     "data": {
      "text/plain": "tensor(0.0381111614, dtype=torch.float64)"
     },
     "execution_count": 19,
     "metadata": {},
     "output_type": "execute_result"
    }
   ],
   "source": [
    "resb[0,1]"
   ]
  },
  {
   "cell_type": "code",
   "execution_count": 20,
   "metadata": {
    "id": "dEdzZjHhB_hp",
    "ExecuteTime": {
     "end_time": "2024-09-21T06:18:17.673505100Z",
     "start_time": "2024-09-21T06:18:17.566408100Z"
    }
   },
   "outputs": [
    {
     "data": {
      "text/plain": "tensor(0.0381111614)"
     },
     "execution_count": 20,
     "metadata": {},
     "output_type": "execute_result"
    }
   ],
   "source": [
    "resc[0,1]"
   ]
  },
  {
   "cell_type": "code",
   "execution_count": 21,
   "metadata": {
    "id": "nkYkbUJNB_hr",
    "ExecuteTime": {
     "end_time": "2024-09-21T06:18:18.741475300Z",
     "start_time": "2024-09-21T06:18:18.627372400Z"
    }
   },
   "outputs": [
    {
     "data": {
      "text/plain": "torch.float32"
     },
     "execution_count": 21,
     "metadata": {},
     "output_type": "execute_result"
    }
   ],
   "source": [
    "resc[0,1].dtype"
   ]
  },
  {
   "cell_type": "code",
   "execution_count": 22,
   "metadata": {
    "id": "XCBKNjLdB_hu",
    "ExecuteTime": {
     "end_time": "2024-09-21T06:18:19.363039700Z",
     "start_time": "2024-09-21T06:18:19.283968600Z"
    }
   },
   "outputs": [
    {
     "data": {
      "text/plain": "tensor(0.0381111614)"
     },
     "execution_count": 22,
     "metadata": {},
     "output_type": "execute_result"
    }
   ],
   "source": [
    "xr[0,1]"
   ]
  },
  {
   "cell_type": "code",
   "execution_count": 23,
   "metadata": {
    "id": "wGdO-oaRB_hw",
    "ExecuteTime": {
     "end_time": "2024-09-21T06:18:20.612174300Z",
     "start_time": "2024-09-21T06:18:20.562129100Z"
    }
   },
   "outputs": [],
   "source": [
    "torch.set_printoptions(precision=4)"
   ]
  },
  {
   "cell_type": "markdown",
   "source": [
    "## Attributes of a tensor"
   ],
   "metadata": {
    "id": "wkgMOeC6Ua3N"
   }
  },
  {
   "cell_type": "code",
   "source": [
    "tensor = torch.rand(3,4)\n",
    "\n",
    "print(f\"Shape of tensor: {tensor.shape}\")\n",
    "print(f\"Datatype of tensor: {tensor.dtype}\")\n",
    "print(f\"Device tensor is stored on: {tensor.device}\")"
   ],
   "metadata": {
    "id": "bqmzcmS2Uc-Y",
    "ExecuteTime": {
     "end_time": "2024-09-21T06:18:22.939288100Z",
     "start_time": "2024-09-21T06:18:22.877232100Z"
    }
   },
   "execution_count": 24,
   "outputs": [
    {
     "name": "stdout",
     "output_type": "stream",
     "text": [
      "Shape of tensor: torch.Size([3, 4])\n",
      "Datatype of tensor: torch.float32\n",
      "Device tensor is stored on: cpu\n"
     ]
    }
   ]
  },
  {
   "cell_type": "markdown",
   "source": [
    "## Manipulating"
   ],
   "metadata": {
    "id": "3kqagnezU-Td"
   }
  },
  {
   "cell_type": "markdown",
   "source": [
    "Standard numpy-like indexing and slicing"
   ],
   "metadata": {
    "id": "93QmVdAoVDbi"
   }
  },
  {
   "cell_type": "code",
   "source": [
    "tensor = torch.ones(4, 4)\n",
    "print(f\"First row: {tensor[0]}\")\n",
    "print(f\"First column: {tensor[:, 0]}\")\n",
    "print(f\"Last column: {tensor[..., -1]}\")\n",
    "tensor[:,1] = 0\n",
    "print(tensor)"
   ],
   "metadata": {
    "id": "Iadc6WrAVAuu",
    "ExecuteTime": {
     "end_time": "2024-09-21T06:18:25.406529200Z",
     "start_time": "2024-09-21T06:18:25.382507400Z"
    }
   },
   "execution_count": 25,
   "outputs": [
    {
     "name": "stdout",
     "output_type": "stream",
     "text": [
      "First row: tensor([1., 1., 1., 1.])\n",
      "First column: tensor([1., 1., 1., 1.])\n",
      "Last column: tensor([1., 1., 1., 1.])\n",
      "tensor([[1., 0., 1., 1.],\n",
      "        [1., 0., 1., 1.],\n",
      "        [1., 0., 1., 1.],\n",
      "        [1., 0., 1., 1.]])\n"
     ]
    }
   ]
  },
  {
   "cell_type": "markdown",
   "source": [
    "Joining tensors"
   ],
   "metadata": {
    "id": "jAko6QSjVJq7"
   }
  },
  {
   "cell_type": "code",
   "source": [
    "t1 = torch.cat([tensor, tensor, tensor], dim=1)\n",
    "print(t1)"
   ],
   "metadata": {
    "id": "4QDx4eyEVGW2",
    "ExecuteTime": {
     "end_time": "2024-09-21T06:18:28.161284Z",
     "start_time": "2024-09-21T06:18:28.076195400Z"
    }
   },
   "execution_count": 26,
   "outputs": [
    {
     "name": "stdout",
     "output_type": "stream",
     "text": [
      "tensor([[1., 0., 1., 1., 1., 0., 1., 1., 1., 0., 1., 1.],\n",
      "        [1., 0., 1., 1., 1., 0., 1., 1., 1., 0., 1., 1.],\n",
      "        [1., 0., 1., 1., 1., 0., 1., 1., 1., 0., 1., 1.],\n",
      "        [1., 0., 1., 1., 1., 0., 1., 1., 1., 0., 1., 1.]])\n"
     ]
    }
   ]
  },
  {
   "cell_type": "markdown",
   "source": [
    "Arithmetic operations"
   ],
   "metadata": {
    "id": "661_ER_nVOt2"
   }
  },
  {
   "cell_type": "code",
   "source": [
    "# This computes the matrix multiplication between two tensors. y1, y2, y3 will have the same value\n",
    "# ``tensor.T`` returns the transpose of a tensor\n",
    "y1 = tensor @ tensor.T\n",
    "y2 = tensor.matmul(tensor.T)\n",
    "\n",
    "y3 = torch.rand_like(y1)\n",
    "torch.matmul(tensor, tensor.T, out=y3)\n",
    "\n",
    "\n",
    "# This computes the element-wise product. z1, z2, z3 will have the same value\n",
    "z1 = tensor * tensor\n",
    "z2 = tensor.mul(tensor)\n",
    "\n",
    "z3 = torch.rand_like(tensor)\n",
    "torch.mul(tensor, tensor, out=z3)"
   ],
   "metadata": {
    "id": "ouLjW3y6VRDX",
    "ExecuteTime": {
     "end_time": "2024-09-21T06:18:30.598898400Z",
     "start_time": "2024-09-21T06:18:30.510818600Z"
    }
   },
   "execution_count": 27,
   "outputs": [
    {
     "data": {
      "text/plain": "tensor([[1., 0., 1., 1.],\n        [1., 0., 1., 1.],\n        [1., 0., 1., 1.],\n        [1., 0., 1., 1.]])"
     },
     "execution_count": 27,
     "metadata": {},
     "output_type": "execute_result"
    }
   ]
  },
  {
   "cell_type": "markdown",
   "source": [
    "Single element tensors"
   ],
   "metadata": {
    "id": "g7NMWs7JVUIq"
   }
  },
  {
   "cell_type": "code",
   "source": [
    "agg = tensor.sum()\n",
    "agg_item = agg.item()\n",
    "print(agg_item, type(agg_item))"
   ],
   "metadata": {
    "id": "8T5p6dtGVXV7",
    "ExecuteTime": {
     "end_time": "2024-09-21T06:18:37.163333700Z",
     "start_time": "2024-09-21T06:18:37.149321300Z"
    }
   },
   "execution_count": 28,
   "outputs": [
    {
     "name": "stdout",
     "output_type": "stream",
     "text": [
      "12.0 <class 'float'>\n"
     ]
    }
   ]
  },
  {
   "cell_type": "markdown",
   "metadata": {
    "id": "gq32MIeZB_h3"
   },
   "source": [
    "### In-place modification\n"
   ]
  },
  {
   "cell_type": "code",
   "execution_count": 29,
   "metadata": {
    "id": "-V4Qvh2JB_h4",
    "ExecuteTime": {
     "end_time": "2024-09-21T06:18:38.148228300Z",
     "start_time": "2024-09-21T06:18:38.079165700Z"
    }
   },
   "outputs": [
    {
     "data": {
      "text/plain": "tensor([[ 1.0848,  0.9703,  0.9429, -0.2934,  0.5745],\n        [ 0.0297,  0.2637, -0.2185, -0.0887, -1.4960],\n        [ 0.5915, -0.0129, -0.9466,  1.2913, -0.8218]])"
     },
     "execution_count": 29,
     "metadata": {},
     "output_type": "execute_result"
    }
   ],
   "source": [
    "x"
   ]
  },
  {
   "cell_type": "code",
   "execution_count": 30,
   "metadata": {
    "id": "VptqIf-0B_h7",
    "ExecuteTime": {
     "end_time": "2024-09-21T06:18:42.110468600Z",
     "start_time": "2024-09-21T06:18:41.991360500Z"
    }
   },
   "outputs": [
    {
     "data": {
      "text/plain": "tensor([[ 0.0177,  0.0381,  0.3973, -0.5031, -0.8506],\n        [ 0.4498,  0.3508, -1.8947,  0.8824, -1.8403],\n        [-0.4247, -0.2585, -0.6598,  1.7379,  0.4978]])"
     },
     "execution_count": 30,
     "metadata": {},
     "output_type": "execute_result"
    }
   ],
   "source": [
    "xr"
   ]
  },
  {
   "cell_type": "code",
   "execution_count": 31,
   "metadata": {
    "id": "TlLf2SSZ8WfY",
    "ExecuteTime": {
     "end_time": "2024-09-21T06:18:42.337674800Z",
     "start_time": "2024-09-21T06:18:42.259604100Z"
    }
   },
   "outputs": [
    {
     "name": "stdout",
     "output_type": "stream",
     "text": [
      "tensor([[ 1.1026,  1.0084,  1.3402, -0.7965, -0.2761],\n",
      "        [ 0.4795,  0.6145, -2.1132,  0.7937, -3.3363],\n",
      "        [ 0.1668, -0.2714, -1.6064,  3.0292, -0.3240]])\n"
     ]
    }
   ],
   "source": [
    "print(x+xr)"
   ]
  },
  {
   "cell_type": "code",
   "execution_count": 32,
   "metadata": {
    "id": "jk8j_AhL8Wfa",
    "ExecuteTime": {
     "end_time": "2024-09-21T06:18:42.584899900Z",
     "start_time": "2024-09-21T06:18:42.487811600Z"
    }
   },
   "outputs": [
    {
     "name": "stdout",
     "output_type": "stream",
     "text": [
      "tensor([[ 1.1026,  1.0084,  1.3402, -0.7965, -0.2761],\n",
      "        [ 0.4795,  0.6145, -2.1132,  0.7937, -3.3363],\n",
      "        [ 0.1668, -0.2714, -1.6064,  3.0292, -0.3240]])\n"
     ]
    }
   ],
   "source": [
    "x.add_(xr)\n",
    "print(x)"
   ]
  },
  {
   "cell_type": "markdown",
   "metadata": {
    "id": "KmB6aFc08Wfc"
   },
   "source": [
    "Any operation that mutates a tensor in-place is post-fixed with an ```_```\n",
    "\n",
    "For example: ```x.fill_(y)```, ```x.t_()```, will change ```x```."
   ]
  },
  {
   "cell_type": "code",
   "execution_count": 33,
   "metadata": {
    "id": "Rzb4jk-d8Wfd",
    "ExecuteTime": {
     "end_time": "2024-09-21T06:18:43.706918900Z",
     "start_time": "2024-09-21T06:18:43.620840800Z"
    }
   },
   "outputs": [
    {
     "name": "stdout",
     "output_type": "stream",
     "text": [
      "tensor([[ 1.1026,  0.4795,  0.1668],\n",
      "        [ 1.0084,  0.6145, -0.2714],\n",
      "        [ 1.3402, -2.1132, -1.6064],\n",
      "        [-0.7965,  0.7937,  3.0292],\n",
      "        [-0.2761, -3.3363, -0.3240]])\n"
     ]
    }
   ],
   "source": [
    "print(x.t())"
   ]
  },
  {
   "cell_type": "code",
   "execution_count": 34,
   "metadata": {
    "id": "ZNXvqa_38Wff",
    "ExecuteTime": {
     "end_time": "2024-09-21T06:18:44.108283100Z",
     "start_time": "2024-09-21T06:18:43.983170200Z"
    }
   },
   "outputs": [
    {
     "name": "stdout",
     "output_type": "stream",
     "text": [
      "tensor([[ 1.1026,  0.4795,  0.1668],\n",
      "        [ 1.0084,  0.6145, -0.2714],\n",
      "        [ 1.3402, -2.1132, -1.6064],\n",
      "        [-0.7965,  0.7937,  3.0292],\n",
      "        [-0.2761, -3.3363, -0.3240]])\n"
     ]
    }
   ],
   "source": [
    "x.t_()\n",
    "print(x)"
   ]
  },
  {
   "cell_type": "markdown",
   "metadata": {
    "id": "kt-CZCaZ8WgO"
   },
   "source": [
    "### [Broadcasting](https://numpy.org/doc/stable/user/basics.broadcasting.html)\n",
    "\n",
    "\n",
    "Broadcasting automagically expands dimensions by replicating coefficients, when it is necessary to perform operations.\n",
    "\n",
    "1. If one of the tensors has fewer dimensions than the other, it is reshaped by adding as many dimensions of size 1 as necessary in the front; then\n",
    "2. for every mismatch, if one of the two tensor is of size one, it is expanded along this axis by replicating  coefficients.\n",
    "\n",
    "If there is a tensor size mismatch for one of the dimension and neither of them is one, the operation fails."
   ]
  },
  {
   "cell_type": "code",
   "execution_count": 37,
   "metadata": {
    "id": "SvB3V_ek8WgP",
    "ExecuteTime": {
     "end_time": "2024-09-21T06:19:13.215363900Z",
     "start_time": "2024-09-21T06:19:13.169322300Z"
    }
   },
   "outputs": [
    {
     "name": "stdout",
     "output_type": "stream",
     "text": [
      "torch.Size([4, 1])\n",
      "torch.Size([1, 5])\n"
     ]
    }
   ],
   "source": [
    "A = torch.tensor([[1.], [2.], [3.], [4.]])\n",
    "print(A.size())\n",
    "B = torch.tensor([[5., -5., 5., -5., 5.]])\n",
    "print(B.size())\n",
    "C = A + B"
   ]
  },
  {
   "cell_type": "code",
   "execution_count": 43,
   "metadata": {
    "id": "aqqe1aTr8WgQ",
    "ExecuteTime": {
     "end_time": "2024-09-21T06:19:51.303330500Z",
     "start_time": "2024-09-21T06:19:51.291320300Z"
    }
   },
   "outputs": [
    {
     "data": {
      "text/plain": "tensor([[ 6., -4.,  6., -4.,  6.],\n        [ 7., -3.,  7., -3.,  7.],\n        [ 8., -2.,  8., -2.,  8.],\n        [ 9., -1.,  9., -1.,  9.]])"
     },
     "execution_count": 43,
     "metadata": {},
     "output_type": "execute_result"
    }
   ],
   "source": [
    "C"
   ]
  },
  {
   "cell_type": "markdown",
   "metadata": {
    "id": "lvj9kBUCB_h3"
   },
   "source": [
    "The original (column-)vector\n",
    "\\begin{eqnarray*}\n",
    "A = \\left( \\begin{array}{c}\n",
    "1\\\\\n",
    "2\\\\\n",
    "3\\\\\n",
    "4\\\\\n",
    "\\end{array}\\right)\n",
    "\\end{eqnarray*}\n",
    "is transformed into the matrix\n",
    "\\begin{eqnarray*}\n",
    "A = \\left( \\begin{array}{ccccc}\n",
    "1&1&1&1&1\\\\\n",
    "2&2&2&2&2\\\\\n",
    "3&3&3&3&3\\\\\n",
    "4&4&4&4&4\n",
    "\\end{array}\\right)\n",
    "\\end{eqnarray*}\n",
    "and the original (row-)vector\n",
    "\\begin{eqnarray*}\n",
    "B = (5,-5,5,-5,5)\n",
    "\\end{eqnarray*}\n",
    "is transformed into the matrix\n",
    "\\begin{eqnarray*}\n",
    "B = \\left( \\begin{array}{ccccc}\n",
    "5&-5&5&-5&5\\\\\n",
    "5&-5&5&-5&5\\\\\n",
    "5&-5&5&-5&5\\\\\n",
    "5&-5&5&-5&5\n",
    "\\end{array}\\right)\n",
    "\\end{eqnarray*}\n",
    "so that summing these matrices gives:\n",
    "\\begin{eqnarray*}\n",
    "A+B = \\left( \\begin{array}{ccccc}\n",
    "6&-4&6&-4&6\\\\\n",
    "7&-3&7&-3&7\\\\\n",
    "8&-2&8&-2&8\\\\\n",
    "9&-1&9&-1&9\n",
    "\\end{array}\\right)\n",
    "\\end{eqnarray*}"
   ]
  },
  {
   "cell_type": "markdown",
   "metadata": {
    "id": "ahC2FkEGB_iN"
   },
   "source": [
    "### Cuda\n"
   ]
  },
  {
   "cell_type": "code",
   "execution_count": 44,
   "metadata": {
    "id": "0Aq_IjCa8Wfo",
    "ExecuteTime": {
     "end_time": "2024-09-21T06:19:58.804464400Z",
     "start_time": "2024-09-21T06:19:58.770433100Z"
    }
   },
   "outputs": [
    {
     "data": {
      "text/plain": "True"
     },
     "execution_count": 44,
     "metadata": {},
     "output_type": "execute_result"
    }
   ],
   "source": [
    "torch.cuda.is_available()"
   ]
  },
  {
   "cell_type": "code",
   "execution_count": 45,
   "metadata": {
    "id": "eZ9T7v3L8Wfq",
    "ExecuteTime": {
     "end_time": "2024-09-21T06:19:59.126756400Z",
     "start_time": "2024-09-21T06:19:59.113744700Z"
    }
   },
   "outputs": [],
   "source": [
    "#device = torch.device('cpu')\n",
    "device = torch.device('cuda') # Uncomment this to run on GPU"
   ]
  },
  {
   "cell_type": "code",
   "execution_count": 46,
   "metadata": {
    "id": "BQv3WhHn8Wft",
    "ExecuteTime": {
     "end_time": "2024-09-21T06:19:59.545136900Z",
     "start_time": "2024-09-21T06:19:59.525118600Z"
    }
   },
   "outputs": [
    {
     "data": {
      "text/plain": "device(type='cpu')"
     },
     "execution_count": 46,
     "metadata": {},
     "output_type": "execute_result"
    }
   ],
   "source": [
    "x.device"
   ]
  },
  {
   "cell_type": "code",
   "execution_count": 47,
   "metadata": {
    "id": "eKY8kHv_8Wfw",
    "ExecuteTime": {
     "end_time": "2024-09-21T06:20:01.376861700Z",
     "start_time": "2024-09-21T06:20:01.179681800Z"
    }
   },
   "outputs": [
    {
     "name": "stdout",
     "output_type": "stream",
     "text": [
      "tensor([[ 2.1026,  1.4795,  1.1668],\n",
      "        [ 2.0084,  1.6145,  0.7286],\n",
      "        [ 2.3402, -1.1132, -0.6064],\n",
      "        [ 0.2035,  1.7937,  4.0292],\n",
      "        [ 0.7239, -2.3363,  0.6760]], device='cuda:0') torch.cuda.FloatTensor\n",
      "tensor([[ 2.1026,  1.4795,  1.1668],\n",
      "        [ 2.0084,  1.6145,  0.7286],\n",
      "        [ 2.3402, -1.1132, -0.6064],\n",
      "        [ 0.2035,  1.7937,  4.0292],\n",
      "        [ 0.7239, -2.3363,  0.6760]], dtype=torch.float64)\n"
     ]
    }
   ],
   "source": [
    "# let us run this cell only if CUDA is available\n",
    "# We will use ``torch.device`` objects to move tensors in and out of GPU\n",
    "if torch.cuda.is_available():\n",
    "    y = torch.ones_like(x, device=device)  # directly create a tensor on GPU\n",
    "    x = x.to(device)                       # or just use strings ``.to(\"cuda\")``\n",
    "    z = x + y\n",
    "    print(z,z.type())\n",
    "    print(z.to(\"cpu\", torch.double))       # ``.to`` can also change dtype together!"
   ]
  },
  {
   "cell_type": "code",
   "execution_count": 48,
   "metadata": {
    "id": "1A7Q5VYK8Wfx",
    "ExecuteTime": {
     "end_time": "2024-09-21T06:20:01.605068700Z",
     "start_time": "2024-09-21T06:20:01.590055600Z"
    }
   },
   "outputs": [],
   "source": [
    "x = torch.randn(1)\n",
    "x = x.to(device)"
   ]
  },
  {
   "cell_type": "code",
   "execution_count": 49,
   "metadata": {
    "id": "EnzdVsQW8HR3",
    "ExecuteTime": {
     "end_time": "2024-09-21T06:20:02.049472100Z",
     "start_time": "2024-09-21T06:20:02.041465200Z"
    }
   },
   "outputs": [
    {
     "data": {
      "text/plain": "device(type='cuda', index=0)"
     },
     "execution_count": 49,
     "metadata": {},
     "output_type": "execute_result"
    }
   ],
   "source": [
    "x.device"
   ]
  },
  {
   "cell_type": "code",
   "execution_count": 50,
   "metadata": {
    "id": "6DzbPRKV8Wfz",
    "ExecuteTime": {
     "end_time": "2024-09-21T06:20:02.425814100Z",
     "start_time": "2024-09-21T06:20:02.401792700Z"
    }
   },
   "outputs": [
    {
     "name": "stdout",
     "output_type": "stream",
     "text": [
      "tensor([-0.8401], device='cuda:0')\n",
      "-0.8400593400001526\n",
      "[-0.84005934]\n"
     ]
    }
   ],
   "source": [
    "# the following line is only useful if CUDA is available\n",
    "x = x.data\n",
    "print(x)\n",
    "print(x.item())\n",
    "print(x.cpu().numpy())"
   ]
  },
  {
   "cell_type": "markdown",
   "metadata": {
    "id": "QWopk2GX8WgB"
   },
   "source": [
    "# Autograd: automatic differentiation\n",
    "\n",
    "\n",
    "When executing tensor operations, PyTorch can automatically construct on-the-fly the graph of operations to compute the gradient of any quantity with respect to any tensor involved.\n",
    "\n",
    "To be more concrete, we introduce the following example: we consider parameters $w\\in \\mathbb{R}$ and $b\\in \\mathbb{R}$ with the corresponding function:\n",
    "\\begin{eqnarray*}\n",
    "\\ell = \\left(\\exp(wx+b) - y^* \\right)^2\n",
    "\\end{eqnarray*}\n",
    "\n",
    "Our goal here, will be to compute the following partial derivatives:\n",
    "\\begin{eqnarray*}\n",
    "\\frac{\\partial \\ell}{\\partial w}\\mbox{ and, }\\frac{\\partial \\ell}{\\partial b}.\n",
    "\\end{eqnarray*}\n",
    "\n",
    "The reason for doing this will be clear when you will solve the practicals for this lesson!\n",
    "\n",
    "You can decompose this function as a composition of basic operations. This is call the forward pass on the graph of operations.\n",
    "![backprop1](https://dataflowr.github.io/notebooks/Module2/img/backprop1.png)"
   ]
  },
  {
   "cell_type": "markdown",
   "metadata": {
    "id": "78AWWCb9B_iu"
   },
   "source": [
    "Let say we start with our model in `numpy`:"
   ]
  },
  {
   "cell_type": "code",
   "execution_count": 51,
   "metadata": {
    "id": "4TEixrqxB_iv",
    "ExecuteTime": {
     "end_time": "2024-09-21T06:20:41.348529800Z",
     "start_time": "2024-09-21T06:20:41.329616800Z"
    }
   },
   "outputs": [],
   "source": [
    "w = np.array([0.5])\n",
    "b = np.array([2])\n",
    "xx = np.array([0.5])#np.arange(0,1.5,.5)"
   ]
  },
  {
   "cell_type": "markdown",
   "metadata": {
    "id": "CZ8DlM8lB_iw"
   },
   "source": [
    "transform these into `tensor`:"
   ]
  },
  {
   "cell_type": "code",
   "execution_count": 52,
   "metadata": {
    "id": "tKl5570iB_ix",
    "ExecuteTime": {
     "end_time": "2024-09-21T06:20:45.042964600Z",
     "start_time": "2024-09-21T06:20:45.033005700Z"
    }
   },
   "outputs": [],
   "source": [
    "xx_t = torch.from_numpy(xx)\n",
    "w_t = torch.from_numpy(w)\n",
    "b_t = torch.from_numpy(b)"
   ]
  },
  {
   "cell_type": "markdown",
   "metadata": {
    "id": "j9PwWnxYB_iz"
   },
   "source": [
    "\n",
    "A `tensor` has a Boolean field `requires_grad`, set to `False` by default, which states if PyTorch should build the graph of operations so that gradients with respect to it can be computed."
   ]
  },
  {
   "cell_type": "code",
   "execution_count": 53,
   "metadata": {
    "id": "WbWfbvtdB_iz",
    "ExecuteTime": {
     "end_time": "2024-09-21T06:20:47.535995700Z",
     "start_time": "2024-09-21T06:20:47.515977300Z"
    }
   },
   "outputs": [
    {
     "data": {
      "text/plain": "False"
     },
     "execution_count": 53,
     "metadata": {},
     "output_type": "execute_result"
    }
   ],
   "source": [
    "w_t.requires_grad"
   ]
  },
  {
   "cell_type": "markdown",
   "metadata": {
    "id": "T8rD3GLyB_i2"
   },
   "source": [
    "We want to take derivative with respect to $w$ so we change this value:"
   ]
  },
  {
   "cell_type": "code",
   "execution_count": 54,
   "metadata": {
    "id": "iqS0CC8NB_i2",
    "ExecuteTime": {
     "end_time": "2024-09-21T06:20:51.234406400Z",
     "start_time": "2024-09-21T06:20:51.189363500Z"
    }
   },
   "outputs": [
    {
     "data": {
      "text/plain": "tensor([0.5000], dtype=torch.float64, requires_grad=True)"
     },
     "execution_count": 54,
     "metadata": {},
     "output_type": "execute_result"
    }
   ],
   "source": [
    "w_t.requires_grad_(True)"
   ]
  },
  {
   "cell_type": "markdown",
   "metadata": {
    "id": "ysa_qEvFB_i5"
   },
   "source": [
    "We want to do the same thing for $b$ but the following line will produce an error!"
   ]
  },
  {
   "cell_type": "code",
   "execution_count": 58,
   "metadata": {
    "id": "8pSa2V4yB_i5",
    "ExecuteTime": {
     "end_time": "2024-09-21T06:21:37.481940Z",
     "start_time": "2024-09-21T06:21:37.451912100Z"
    }
   },
   "outputs": [
    {
     "ename": "RuntimeError",
     "evalue": "only Tensors of floating point dtype can require gradients",
     "output_type": "error",
     "traceback": [
      "\u001B[1;31m---------------------------------------------------------------------------\u001B[0m",
      "\u001B[1;31mRuntimeError\u001B[0m                              Traceback (most recent call last)",
      "Cell \u001B[1;32mIn[58], line 1\u001B[0m\n\u001B[1;32m----> 1\u001B[0m \u001B[43mb_t\u001B[49m\u001B[38;5;241;43m.\u001B[39;49m\u001B[43mrequires_grad_\u001B[49m\u001B[43m(\u001B[49m\u001B[38;5;28;43;01mTrue\u001B[39;49;00m\u001B[43m)\u001B[49m\n\u001B[0;32m      2\u001B[0m b_t\n",
      "\u001B[1;31mRuntimeError\u001B[0m: only Tensors of floating point dtype can require gradients"
     ]
    }
   ],
   "source": [
    "b_t.requires_grad_(True)\n",
    "b_t"
   ]
  },
  {
   "cell_type": "markdown",
   "metadata": {
    "id": "EL0X9fIsB_i8"
   },
   "source": [
    "Reading the error message should allow you to correct the mistake!"
   ]
  },
  {
   "cell_type": "code",
   "execution_count": 59,
   "metadata": {
    "id": "imH8JSXxB_i-",
    "ExecuteTime": {
     "end_time": "2024-09-21T06:21:43.862314800Z",
     "start_time": "2024-09-21T06:21:43.857310500Z"
    }
   },
   "outputs": [],
   "source": [
    "dtype = torch.float64"
   ]
  },
  {
   "cell_type": "code",
   "execution_count": 60,
   "metadata": {
    "id": "XLSSIn5jB_jA",
    "ExecuteTime": {
     "end_time": "2024-09-21T06:21:45.580611800Z",
     "start_time": "2024-09-21T06:21:45.564596500Z"
    }
   },
   "outputs": [],
   "source": [
    "b_t = b_t.type(dtype)"
   ]
  },
  {
   "cell_type": "code",
   "execution_count": 61,
   "metadata": {
    "id": "k6mpavg-B_jD",
    "ExecuteTime": {
     "end_time": "2024-09-21T06:21:45.982996Z",
     "start_time": "2024-09-21T06:21:45.945962900Z"
    }
   },
   "outputs": [
    {
     "data": {
      "text/plain": "tensor([2.], dtype=torch.float64, requires_grad=True)"
     },
     "execution_count": 61,
     "metadata": {},
     "output_type": "execute_result"
    }
   ],
   "source": [
    "b_t.requires_grad_(True)"
   ]
  },
  {
   "cell_type": "markdown",
   "metadata": {
    "id": "Melb8jo8B_jE"
   },
   "source": [
    "\n",
    "\n",
    "We now compute the function:"
   ]
  },
  {
   "cell_type": "code",
   "execution_count": 62,
   "metadata": {
    "id": "elI91IulB_jF",
    "ExecuteTime": {
     "end_time": "2024-09-21T06:21:53.580535Z",
     "start_time": "2024-09-21T06:21:53.567524Z"
    }
   },
   "outputs": [
    {
     "name": "stdout",
     "output_type": "stream",
     "text": [
      "tensor([9.4877], dtype=torch.float64, grad_fn=<ExpBackward0>)\n"
     ]
    }
   ],
   "source": [
    "def fun(x,ystar):\n",
    "    y = torch.exp(w_t*x+b_t)\n",
    "    print(y)\n",
    "    return torch.sum((y-ystar)**2)\n",
    "\n",
    "ystar_t = torch.randn_like(xx_t)\n",
    "l_t = fun(xx_t,ystar_t)"
   ]
  },
  {
   "cell_type": "code",
   "execution_count": 63,
   "metadata": {
    "id": "Q5qpcse1B_jG",
    "ExecuteTime": {
     "end_time": "2024-09-21T06:21:55.840350800Z",
     "start_time": "2024-09-21T06:21:55.834345300Z"
    }
   },
   "outputs": [
    {
     "data": {
      "text/plain": "tensor(76.5741, dtype=torch.float64, grad_fn=<SumBackward0>)"
     },
     "execution_count": 63,
     "metadata": {},
     "output_type": "execute_result"
    }
   ],
   "source": [
    "l_t"
   ]
  },
  {
   "cell_type": "code",
   "execution_count": 64,
   "metadata": {
    "id": "2WXzmCSdB_jI",
    "ExecuteTime": {
     "end_time": "2024-09-21T06:21:56.654232100Z",
     "start_time": "2024-09-21T06:21:56.623204200Z"
    }
   },
   "outputs": [
    {
     "data": {
      "text/plain": "True"
     },
     "execution_count": 64,
     "metadata": {},
     "output_type": "execute_result"
    }
   ],
   "source": [
    "l_t.requires_grad"
   ]
  },
  {
   "cell_type": "markdown",
   "metadata": {
    "id": "zJEjjKBFB_jK"
   },
   "source": [
    "After the computation is finished, i.e. *forward pass*, you can call ```.backward()``` and have all the gradients computed automatically."
   ]
  },
  {
   "cell_type": "code",
   "execution_count": 65,
   "metadata": {
    "id": "x1m1CowRB_jK",
    "ExecuteTime": {
     "end_time": "2024-09-21T06:22:03.035162900Z",
     "start_time": "2024-09-21T06:22:03.023151100Z"
    }
   },
   "outputs": [
    {
     "name": "stdout",
     "output_type": "stream",
     "text": [
      "None\n"
     ]
    }
   ],
   "source": [
    "print(w_t.grad)"
   ]
  },
  {
   "cell_type": "code",
   "execution_count": 66,
   "metadata": {
    "id": "rTw9bl4DB_jM",
    "ExecuteTime": {
     "end_time": "2024-09-21T06:22:03.777264300Z",
     "start_time": "2024-09-21T06:22:03.772259500Z"
    }
   },
   "outputs": [],
   "source": [
    "l_t.backward()"
   ]
  },
  {
   "cell_type": "code",
   "execution_count": 67,
   "metadata": {
    "id": "k4_zWnJkB_jO",
    "ExecuteTime": {
     "end_time": "2024-09-21T06:22:04.243203700Z",
     "start_time": "2024-09-21T06:22:04.231192Z"
    }
   },
   "outputs": [
    {
     "name": "stdout",
     "output_type": "stream",
     "text": [
      "tensor([83.0240], dtype=torch.float64)\n",
      "tensor([166.0480], dtype=torch.float64)\n"
     ]
    }
   ],
   "source": [
    "print(w_t.grad)\n",
    "print(b_t.grad)"
   ]
  },
  {
   "cell_type": "markdown",
   "metadata": {
    "id": "b8fwcPgHB_jP"
   },
   "source": [
    "\n",
    "\n",
    "Let's try to understand these numbers...\n",
    "\n",
    "![backprop2](https://dataflowr.github.io/notebooks/Module2/img/backprop2.png)"
   ]
  },
  {
   "cell_type": "code",
   "execution_count": 68,
   "metadata": {
    "id": "ZDV9lByQB_jP",
    "ExecuteTime": {
     "end_time": "2024-09-21T06:32:14.012568200Z",
     "start_time": "2024-09-21T06:32:13.978542700Z"
    }
   },
   "outputs": [
    {
     "name": "stdout",
     "output_type": "stream",
     "text": [
      "tensor(83.0240, dtype=torch.float64, grad_fn=<SumBackward0>)\n",
      "tensor(166.0480, dtype=torch.float64, grad_fn=<SumBackward0>)\n"
     ]
    }
   ],
   "source": [
    "yy_t = torch.exp(w_t*xx_t+b_t)\n",
    "print(torch.sum(2*(yy_t-ystar_t)*yy_t*xx_t))\n",
    "print(torch.sum(2*(yy_t-ystar_t)*yy_t))"
   ]
  },
  {
   "cell_type": "markdown",
   "metadata": {
    "id": "QMguUH4y8WgW"
   },
   "source": [
    "`tensor.backward()` accumulates the gradients in  the `grad` fields  of tensors."
   ]
  },
  {
   "cell_type": "code",
   "execution_count": 69,
   "metadata": {
    "id": "70jDhm91B_jR",
    "ExecuteTime": {
     "end_time": "2024-09-21T06:32:15.664605200Z",
     "start_time": "2024-09-21T06:32:15.660601500Z"
    }
   },
   "outputs": [
    {
     "name": "stdout",
     "output_type": "stream",
     "text": [
      "tensor([9.4877], dtype=torch.float64, grad_fn=<ExpBackward0>)\n"
     ]
    }
   ],
   "source": [
    "l_t = fun(xx_t,ystar_t)\n",
    "l_t.backward()"
   ]
  },
  {
   "cell_type": "code",
   "execution_count": 70,
   "metadata": {
    "id": "L5H8BQOs8WgW",
    "ExecuteTime": {
     "end_time": "2024-09-21T06:32:16.367315100Z",
     "start_time": "2024-09-21T06:32:16.338288500Z"
    }
   },
   "outputs": [
    {
     "name": "stdout",
     "output_type": "stream",
     "text": [
      "tensor([166.0480], dtype=torch.float64)\n",
      "tensor([332.0960], dtype=torch.float64)\n"
     ]
    }
   ],
   "source": [
    "print(w_t.grad)\n",
    "print(b_t.grad)"
   ]
  },
  {
   "cell_type": "markdown",
   "metadata": {
    "id": "1H2ZnVM5B_jU"
   },
   "source": [
    "By default, `backward` deletes the computational graph when it is used so that you will get an error below:"
   ]
  },
  {
   "cell_type": "code",
   "execution_count": 71,
   "metadata": {
    "id": "06_uW2EwB_jU",
    "ExecuteTime": {
     "end_time": "2024-09-21T06:32:17.855860100Z",
     "start_time": "2024-09-21T06:32:17.766778800Z"
    }
   },
   "outputs": [
    {
     "ename": "RuntimeError",
     "evalue": "Trying to backward through the graph a second time (or directly access saved tensors after they have already been freed). Saved intermediate values of the graph are freed when you call .backward() or autograd.grad(). Specify retain_graph=True if you need to backward through the graph a second time or if you need to access saved tensors after calling backward.",
     "output_type": "error",
     "traceback": [
      "\u001B[1;31m---------------------------------------------------------------------------\u001B[0m",
      "\u001B[1;31mRuntimeError\u001B[0m                              Traceback (most recent call last)",
      "Cell \u001B[1;32mIn[71], line 1\u001B[0m\n\u001B[1;32m----> 1\u001B[0m \u001B[43ml_t\u001B[49m\u001B[38;5;241;43m.\u001B[39;49m\u001B[43mbackward\u001B[49m\u001B[43m(\u001B[49m\u001B[43m)\u001B[49m\n",
      "File \u001B[1;32m~\\PycharmProjects\\AI_Resources\\.venv\\lib\\site-packages\\torch\\_tensor.py:521\u001B[0m, in \u001B[0;36mTensor.backward\u001B[1;34m(self, gradient, retain_graph, create_graph, inputs)\u001B[0m\n\u001B[0;32m    511\u001B[0m \u001B[38;5;28;01mif\u001B[39;00m has_torch_function_unary(\u001B[38;5;28mself\u001B[39m):\n\u001B[0;32m    512\u001B[0m     \u001B[38;5;28;01mreturn\u001B[39;00m handle_torch_function(\n\u001B[0;32m    513\u001B[0m         Tensor\u001B[38;5;241m.\u001B[39mbackward,\n\u001B[0;32m    514\u001B[0m         (\u001B[38;5;28mself\u001B[39m,),\n\u001B[1;32m   (...)\u001B[0m\n\u001B[0;32m    519\u001B[0m         inputs\u001B[38;5;241m=\u001B[39minputs,\n\u001B[0;32m    520\u001B[0m     )\n\u001B[1;32m--> 521\u001B[0m \u001B[43mtorch\u001B[49m\u001B[38;5;241;43m.\u001B[39;49m\u001B[43mautograd\u001B[49m\u001B[38;5;241;43m.\u001B[39;49m\u001B[43mbackward\u001B[49m\u001B[43m(\u001B[49m\n\u001B[0;32m    522\u001B[0m \u001B[43m    \u001B[49m\u001B[38;5;28;43mself\u001B[39;49m\u001B[43m,\u001B[49m\u001B[43m \u001B[49m\u001B[43mgradient\u001B[49m\u001B[43m,\u001B[49m\u001B[43m \u001B[49m\u001B[43mretain_graph\u001B[49m\u001B[43m,\u001B[49m\u001B[43m \u001B[49m\u001B[43mcreate_graph\u001B[49m\u001B[43m,\u001B[49m\u001B[43m \u001B[49m\u001B[43minputs\u001B[49m\u001B[38;5;241;43m=\u001B[39;49m\u001B[43minputs\u001B[49m\n\u001B[0;32m    523\u001B[0m \u001B[43m\u001B[49m\u001B[43m)\u001B[49m\n",
      "File \u001B[1;32m~\\PycharmProjects\\AI_Resources\\.venv\\lib\\site-packages\\torch\\autograd\\__init__.py:289\u001B[0m, in \u001B[0;36mbackward\u001B[1;34m(tensors, grad_tensors, retain_graph, create_graph, grad_variables, inputs)\u001B[0m\n\u001B[0;32m    284\u001B[0m     retain_graph \u001B[38;5;241m=\u001B[39m create_graph\n\u001B[0;32m    286\u001B[0m \u001B[38;5;66;03m# The reason we repeat the same comment below is that\u001B[39;00m\n\u001B[0;32m    287\u001B[0m \u001B[38;5;66;03m# some Python versions print out the first line of a multi-line function\u001B[39;00m\n\u001B[0;32m    288\u001B[0m \u001B[38;5;66;03m# calls in the traceback and some print out the last line\u001B[39;00m\n\u001B[1;32m--> 289\u001B[0m \u001B[43m_engine_run_backward\u001B[49m\u001B[43m(\u001B[49m\n\u001B[0;32m    290\u001B[0m \u001B[43m    \u001B[49m\u001B[43mtensors\u001B[49m\u001B[43m,\u001B[49m\n\u001B[0;32m    291\u001B[0m \u001B[43m    \u001B[49m\u001B[43mgrad_tensors_\u001B[49m\u001B[43m,\u001B[49m\n\u001B[0;32m    292\u001B[0m \u001B[43m    \u001B[49m\u001B[43mretain_graph\u001B[49m\u001B[43m,\u001B[49m\n\u001B[0;32m    293\u001B[0m \u001B[43m    \u001B[49m\u001B[43mcreate_graph\u001B[49m\u001B[43m,\u001B[49m\n\u001B[0;32m    294\u001B[0m \u001B[43m    \u001B[49m\u001B[43minputs\u001B[49m\u001B[43m,\u001B[49m\n\u001B[0;32m    295\u001B[0m \u001B[43m    \u001B[49m\u001B[43mallow_unreachable\u001B[49m\u001B[38;5;241;43m=\u001B[39;49m\u001B[38;5;28;43;01mTrue\u001B[39;49;00m\u001B[43m,\u001B[49m\n\u001B[0;32m    296\u001B[0m \u001B[43m    \u001B[49m\u001B[43maccumulate_grad\u001B[49m\u001B[38;5;241;43m=\u001B[39;49m\u001B[38;5;28;43;01mTrue\u001B[39;49;00m\u001B[43m,\u001B[49m\n\u001B[0;32m    297\u001B[0m \u001B[43m\u001B[49m\u001B[43m)\u001B[49m\n",
      "File \u001B[1;32m~\\PycharmProjects\\AI_Resources\\.venv\\lib\\site-packages\\torch\\autograd\\graph.py:769\u001B[0m, in \u001B[0;36m_engine_run_backward\u001B[1;34m(t_outputs, *args, **kwargs)\u001B[0m\n\u001B[0;32m    767\u001B[0m     unregister_hooks \u001B[38;5;241m=\u001B[39m _register_logging_hooks_on_whole_graph(t_outputs)\n\u001B[0;32m    768\u001B[0m \u001B[38;5;28;01mtry\u001B[39;00m:\n\u001B[1;32m--> 769\u001B[0m     \u001B[38;5;28;01mreturn\u001B[39;00m Variable\u001B[38;5;241m.\u001B[39m_execution_engine\u001B[38;5;241m.\u001B[39mrun_backward(  \u001B[38;5;66;03m# Calls into the C++ engine to run the backward pass\u001B[39;00m\n\u001B[0;32m    770\u001B[0m         t_outputs, \u001B[38;5;241m*\u001B[39margs, \u001B[38;5;241m*\u001B[39m\u001B[38;5;241m*\u001B[39mkwargs\n\u001B[0;32m    771\u001B[0m     )  \u001B[38;5;66;03m# Calls into the C++ engine to run the backward pass\u001B[39;00m\n\u001B[0;32m    772\u001B[0m \u001B[38;5;28;01mfinally\u001B[39;00m:\n\u001B[0;32m    773\u001B[0m     \u001B[38;5;28;01mif\u001B[39;00m attach_logging_hooks:\n",
      "\u001B[1;31mRuntimeError\u001B[0m: Trying to backward through the graph a second time (or directly access saved tensors after they have already been freed). Saved intermediate values of the graph are freed when you call .backward() or autograd.grad(). Specify retain_graph=True if you need to backward through the graph a second time or if you need to access saved tensors after calling backward."
     ]
    }
   ],
   "source": [
    "l_t.backward()"
   ]
  },
  {
   "cell_type": "code",
   "execution_count": 72,
   "metadata": {
    "id": "fHxmIJj2B_jX",
    "ExecuteTime": {
     "end_time": "2024-09-21T06:32:20.630677300Z",
     "start_time": "2024-09-21T06:32:20.587636500Z"
    }
   },
   "outputs": [
    {
     "name": "stdout",
     "output_type": "stream",
     "text": [
      "tensor([9.4877], dtype=torch.float64, grad_fn=<ExpBackward0>)\n",
      "tensor([166.0480], dtype=torch.float64)\n",
      "tensor([332.0960], dtype=torch.float64)\n"
     ]
    }
   ],
   "source": [
    "# Manually zero the gradients\n",
    "w_t.grad.data.zero_()\n",
    "b_t.grad.data.zero_()\n",
    "l_t = fun(xx_t,ystar_t)\n",
    "l_t.backward(retain_graph=True)\n",
    "l_t.backward()\n",
    "print(w_t.grad)\n",
    "print(b_t.grad)"
   ]
  },
  {
   "cell_type": "markdown",
   "metadata": {
    "id": "v40jAQEE8Wgu"
   },
   "source": [
    "The gradients must be set to zero manually. Otherwise they will cumulate across several _.backward()_ calls.\n",
    "This accumulating behavior is desirable in particular to compute the gradient of a loss summed over several “mini-batches,” or the gradient of a sum of losses."
   ]
  }
 ],
 "metadata": {
  "accelerator": "GPU",
  "colab": {
   "provenance": [
    {
     "file_id": "https://github.com/dataflowr/notebooks/blob/master/Module2/02a_basics.ipynb",
     "timestamp": 1726044768458
    }
   ]
  },
  "kernelspec": {
   "display_name": "Python 3",
   "language": "python",
   "name": "python3"
  },
  "language_info": {
   "codemirror_mode": {
    "name": "ipython",
    "version": 3
   },
   "file_extension": ".py",
   "mimetype": "text/x-python",
   "name": "python",
   "nbconvert_exporter": "python",
   "pygments_lexer": "ipython3",
   "version": "3.6.9"
  }
 },
 "nbformat": 4,
 "nbformat_minor": 0
}
