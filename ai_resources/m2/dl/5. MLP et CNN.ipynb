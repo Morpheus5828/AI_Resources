{
 "nbformat": 4,
 "nbformat_minor": 0,
 "metadata": {
  "colab": {
   "provenance": [],
   "authorship_tag": "ABX9TyMDKgBBMuLJNKeFRffMJASA"
  },
  "kernelspec": {
   "name": "python3",
   "language": "python",
   "display_name": "Python 3 (ipykernel)"
  },
  "language_info": {
   "name": "python"
  }
 },
 "cells": [
  {
   "cell_type": "markdown",
   "source": [
    "# Creating Deep MLPs and CNNs with pytorch"
   ],
   "metadata": {
    "id": "Oo0KRYRkflMk"
   }
  },
  {
   "cell_type": "code",
   "execution_count": 71,
   "metadata": {
    "id": "CFac0UPC2uiI",
    "ExecuteTime": {
     "end_time": "2024-09-21T07:58:07.547638800Z",
     "start_time": "2024-09-21T07:58:07.520617500Z"
    }
   },
   "outputs": [],
   "source": [
    "import warnings\n",
    "warnings.filterwarnings('ignore')\n",
    "import torch\n",
    "from torchvision import datasets, transforms\n",
    "import numpy as np\n",
    "import matplotlib.pyplot as plt\n",
    "%matplotlib inline"
   ]
  },
  {
   "cell_type": "markdown",
   "source": [
    "### Loading Mnist images"
   ],
   "metadata": {
    "id": "olg07F2lfMO3"
   }
  },
  {
   "cell_type": "code",
   "execution_count": 61,
   "metadata": {
    "id": "9yAsJijZ2uiM",
    "ExecuteTime": {
     "end_time": "2024-09-21T07:56:18.976591900Z",
     "start_time": "2024-09-21T07:56:18.969585900Z"
    }
   },
   "outputs": [
    {
     "name": "stdout",
     "output_type": "stream",
     "text": [
      "Using gpu: True \n"
     ]
    }
   ],
   "source": [
    "device = torch.device(\"cuda:0\" if torch.cuda.is_available() else \"cpu\")\n",
    "\n",
    "print('Using gpu: %s ' % torch.cuda.is_available())"
   ]
  },
  {
   "cell_type": "code",
   "execution_count": 62,
   "metadata": {
    "id": "6koHB8Z_2uiQ",
    "ExecuteTime": {
     "end_time": "2024-09-21T07:56:19.133625500Z",
     "start_time": "2024-09-21T07:56:19.098591300Z"
    }
   },
   "outputs": [
    {
     "data": {
      "text/plain": "<torch.utils.data.dataloader.DataLoader at 0x26db2da5750>"
     },
     "execution_count": 62,
     "metadata": {},
     "output_type": "execute_result"
    }
   ],
   "source": [
    "# to be modified if not on colab\n",
    "root_dir = './data/MNIST/'\n",
    "train_loader = torch.utils.data.DataLoader(\n",
    "    datasets.MNIST(root_dir, train=True, download=True, transform=transforms.Compose([\n",
    "                               transforms.ToTensor(),\n",
    "                               transforms.Normalize(\n",
    "                                 (0.1307,), (0.3081,))\n",
    "                             ])),\n",
    "    batch_size=256, shuffle=True)\n",
    "\n",
    "test_loader = torch.utils.data.DataLoader(\n",
    "    datasets.MNIST(root_dir, train=False, download=True, transform=transforms.Compose([\n",
    "                               transforms.ToTensor(),\n",
    "                               transforms.Normalize(\n",
    "                                 (0.1307,), (0.3081,))\n",
    "                             ])),\n",
    "    batch_size=10, shuffle=False)\n",
    "\n",
    "train_loader"
   ]
  },
  {
   "cell_type": "markdown",
   "source": [
    "### Creating Model using nn.Sequential"
   ],
   "metadata": {
    "id": "ABKj7N_ie99w"
   }
  },
  {
   "cell_type": "code",
   "source": [
    "import torch.nn as nn\n",
    "model = torch.nn.Sequential(nn.Linear(784, 50), nn.ReLU(), nn.Linear(50,10), nn.Sigmoid())"
   ],
   "metadata": {
    "id": "xF3CyR0AdbsN",
    "ExecuteTime": {
     "end_time": "2024-09-21T07:56:19.329811500Z",
     "start_time": "2024-09-21T07:56:19.309785300Z"
    }
   },
   "execution_count": 63,
   "outputs": []
  },
  {
   "cell_type": "markdown",
   "source": [
    "### Creating Model using Modules"
   ],
   "metadata": {
    "id": "BoNrDROtfCrp"
   }
  },
  {
   "cell_type": "markdown",
   "source": [
    "MLP with MSE loss"
   ],
   "metadata": {
    "id": "fmi7X5ZqzX1w"
   }
  },
  {
   "cell_type": "code",
   "source": [
    "import torch\n",
    "import torch.nn as nn\n",
    "\n",
    "class MLP(nn.Module):\n",
    "    def __init__(self):\n",
    "        super(MLP, self).__init__()\n",
    "        self.fc1 = nn.Linear(in_features=784, out_features=200)\n",
    "        self.fc2 = nn.Linear(in_features=200, out_features=10)\n",
    "    def forward(self,x):\n",
    "     x = self.fc1(x)\n",
    "     x = F.relu(x)\n",
    "     x = self.fc2(x)\n",
    "     return F.softmax(x)"
   ],
   "metadata": {
    "id": "XyW5eaLezb6_",
    "ExecuteTime": {
     "end_time": "2024-09-21T07:56:19.671543200Z",
     "start_time": "2024-09-21T07:56:19.656533200Z"
    }
   },
   "execution_count": 64,
   "outputs": []
  },
  {
   "cell_type": "code",
   "source": [
    "model.to('cuda')"
   ],
   "metadata": {
    "id": "BNPL9MV6zb6_",
    "ExecuteTime": {
     "end_time": "2024-09-21T07:56:19.814678800Z",
     "start_time": "2024-09-21T07:56:19.808673300Z"
    }
   },
   "execution_count": 65,
   "outputs": [
    {
     "data": {
      "text/plain": "Sequential(\n  (0): Linear(in_features=784, out_features=50, bias=True)\n  (1): ReLU()\n  (2): Linear(in_features=50, out_features=10, bias=True)\n  (3): Sigmoid()\n)"
     },
     "execution_count": 65,
     "metadata": {},
     "output_type": "execute_result"
    }
   ]
  },
  {
   "cell_type": "code",
   "source": [
    "loss_fn  = nn.MSELoss()\n",
    "\n",
    "optimizer = torch.optim.SGD(model.parameters())"
   ],
   "metadata": {
    "id": "O1kiFEIhzb6_",
    "ExecuteTime": {
     "end_time": "2024-09-21T07:56:20.022538100Z",
     "start_time": "2024-09-21T07:56:20.015532100Z"
    }
   },
   "execution_count": 66,
   "outputs": []
  },
  {
   "cell_type": "code",
   "source": [
    "def test(nn, test_loader, loss_fn):\n",
    "   nn.eval()\n",
    "   test_loss = 0\n",
    "   correct = 0\n",
    "   with torch.no_grad():\n",
    "     for data, target in test_loader:\n",
    "       data = data.view([-1, 784]).to(device)\n",
    "       target = target.to(device)\n",
    "       output = nn(data)\n",
    "       targetsV  = F.one_hot(target, num_classes=10)+0.0\n",
    "       test_loss += loss_fn(output, targetsV)\n",
    "       pred = output.data.max(1, keepdim=True)[1]\n",
    "       correct += pred.eq(target.data.view_as(pred)).sum()\n",
    "   test_loss /= len(test_loader.dataset)\n",
    "   print('\\nTest set: Avg. loss: {:.4f}, Accuracy: {}/{} ({:.0f}%)\\n'.format(\n",
    "     test_loss, correct, len(test_loader.dataset),\n",
    "     100. * correct / len(test_loader.dataset)))\n",
    "   return test_loss.item()"
   ],
   "metadata": {
    "id": "DnsotvZMzb6_",
    "ExecuteTime": {
     "end_time": "2024-09-21T08:01:37.766131Z",
     "start_time": "2024-09-21T08:01:37.755120600Z"
    }
   },
   "execution_count": 78,
   "outputs": []
  },
  {
   "cell_type": "code",
   "source": [
    "def train_MLP(nn, train_loader, test_loader, loss_fn, n_epochs, optimizer):\n",
    "    train_loss = []\n",
    "    test_loss = []\n",
    "    for epoch in range(n_epochs):  # loop over the dataset multiple times\n",
    "        running_loss = 0.0\n",
    "        for batch_idx, (inputs, targets) in enumerate(train_loader):\n",
    "           # get the inputs; data is a list of [inputs, labels]\n",
    "\n",
    "           optimizer.zero_grad()\n",
    "           inputs = inputs.view([-1, 784]).to(device)\n",
    "           targets = targets.to(device)\n",
    "           outputs = nn(inputs)\n",
    "           targetsV  = F.one_hot(targets, num_classes=10)+0.0\n",
    "\n",
    "           loss = loss_fn(outputs, targetsV)\n",
    "\n",
    "           loss.backward()\n",
    "           optimizer.step()\n",
    "\n",
    "           # print statistics\n",
    "           running_loss += loss.item()\n",
    "        print(f'epoch : {epoch + 1} loss: {running_loss / len(train_loader):.3f}')\n",
    "        train_loss.append(running_loss / len(train_loader))\n",
    "        test_loss.append(test(nn, test_loader, loss_fn))\n",
    "    return train_loss, test_loss"
   ],
   "metadata": {
    "id": "1VtMaf8bzb6_",
    "ExecuteTime": {
     "end_time": "2024-09-21T08:01:37.929052100Z",
     "start_time": "2024-09-21T08:01:37.922044900Z"
    }
   },
   "execution_count": 79,
   "outputs": []
  },
  {
   "cell_type": "code",
   "source": [
    "train_loss, test_loss = train_MLP(model, train_loader, test_loader, loss_fn, 10, optimizer)"
   ],
   "metadata": {
    "id": "bImm-ijezb7A",
    "ExecuteTime": {
     "end_time": "2024-09-21T08:05:02.162428800Z",
     "start_time": "2024-09-21T08:03:22.837004900Z"
    }
   },
   "execution_count": 85,
   "outputs": [
    {
     "name": "stdout",
     "output_type": "stream",
     "text": [
      "epoch : 1 loss: 0.083\n",
      "\n",
      "Test set: Avg. loss: 0.0079, Accuracy: 4939/10000 (49%)\n",
      "\n",
      "epoch : 2 loss: 0.075\n",
      "\n",
      "Test set: Avg. loss: 0.0072, Accuracy: 5554/10000 (56%)\n",
      "\n",
      "epoch : 3 loss: 0.068\n",
      "\n",
      "Test set: Avg. loss: 0.0065, Accuracy: 6096/10000 (61%)\n",
      "\n",
      "epoch : 4 loss: 0.062\n",
      "\n",
      "Test set: Avg. loss: 0.0059, Accuracy: 6470/10000 (65%)\n",
      "\n",
      "epoch : 5 loss: 0.057\n",
      "\n",
      "Test set: Avg. loss: 0.0054, Accuracy: 6946/10000 (69%)\n",
      "\n",
      "epoch : 6 loss: 0.052\n",
      "\n",
      "Test set: Avg. loss: 0.0049, Accuracy: 7466/10000 (75%)\n",
      "\n",
      "epoch : 7 loss: 0.048\n",
      "\n",
      "Test set: Avg. loss: 0.0046, Accuracy: 7874/10000 (79%)\n",
      "\n",
      "epoch : 8 loss: 0.045\n",
      "\n",
      "Test set: Avg. loss: 0.0042, Accuracy: 8131/10000 (81%)\n",
      "\n",
      "epoch : 9 loss: 0.042\n",
      "\n",
      "Test set: Avg. loss: 0.0040, Accuracy: 8337/10000 (83%)\n",
      "\n",
      "epoch : 10 loss: 0.039\n",
      "\n",
      "Test set: Avg. loss: 0.0037, Accuracy: 8443/10000 (84%)\n",
      "\n"
     ]
    }
   ]
  },
  {
   "cell_type": "code",
   "execution_count": 86,
   "outputs": [
    {
     "data": {
      "text/plain": "Text(0, 0.5, 'Loss')"
     },
     "execution_count": 86,
     "metadata": {},
     "output_type": "execute_result"
    },
    {
     "data": {
      "text/plain": "<Figure size 640x480 with 1 Axes>",
      "image/png": "[encoded data removed]"
     },
     "metadata": {},
     "output_type": "display_data"
    }
   ],
   "source": [
    "plt.plot(train_loss)\n",
    "plt.plot(test_loss)\n",
    "plt.xlabel(\"Epoch\")\n",
    "plt.ylabel(\"Loss\")"
   ],
   "metadata": {
    "collapsed": false,
    "ExecuteTime": {
     "end_time": "2024-09-21T08:05:02.272880800Z",
     "start_time": "2024-09-21T08:05:02.194457400Z"
    }
   }
  },
  {
   "cell_type": "code",
   "source": [
    "learning_rate = 0.01\n",
    "momentum = 0.5\n",
    "\n",
    "optimizer = torch.optim.SGD(model.parameters(), lr=learning_rate,\n",
    "                      momentum=momentum)\n"
   ],
   "metadata": {
    "id": "-vv9ULuXkR-K",
    "ExecuteTime": {
     "end_time": "2024-09-21T08:05:23.933407400Z",
     "start_time": "2024-09-21T08:05:23.913389Z"
    }
   },
   "execution_count": 87,
   "outputs": []
  },
  {
   "cell_type": "code",
   "source": [
    "train_loss, test_loss = train_MLP(model, train_loader, test_loader, loss_fn, 10, optimizer)"
   ],
   "metadata": {
    "id": "MU5jxMEGkXOn",
    "ExecuteTime": {
     "end_time": "2024-09-21T08:07:02.545688100Z",
     "start_time": "2024-09-21T08:05:24.670257300Z"
    }
   },
   "execution_count": 88,
   "outputs": [
    {
     "name": "stdout",
     "output_type": "stream",
     "text": [
      "epoch : 1 loss: 0.037\n",
      "\n",
      "Test set: Avg. loss: 0.0035, Accuracy: 8526/10000 (85%)\n",
      "\n",
      "epoch : 2 loss: 0.035\n",
      "\n",
      "Test set: Avg. loss: 0.0034, Accuracy: 8603/10000 (86%)\n",
      "\n",
      "epoch : 3 loss: 0.034\n",
      "\n",
      "Test set: Avg. loss: 0.0032, Accuracy: 8642/10000 (86%)\n",
      "\n",
      "epoch : 4 loss: 0.033\n",
      "\n",
      "Test set: Avg. loss: 0.0031, Accuracy: 8681/10000 (87%)\n",
      "\n",
      "epoch : 5 loss: 0.031\n",
      "\n",
      "Test set: Avg. loss: 0.0030, Accuracy: 8725/10000 (87%)\n",
      "\n",
      "epoch : 6 loss: 0.030\n",
      "\n",
      "Test set: Avg. loss: 0.0029, Accuracy: 8736/10000 (87%)\n",
      "\n",
      "epoch : 7 loss: 0.029\n",
      "\n",
      "Test set: Avg. loss: 0.0028, Accuracy: 8764/10000 (88%)\n",
      "\n",
      "epoch : 8 loss: 0.029\n",
      "\n",
      "Test set: Avg. loss: 0.0027, Accuracy: 8789/10000 (88%)\n",
      "\n",
      "epoch : 9 loss: 0.028\n",
      "\n",
      "Test set: Avg. loss: 0.0027, Accuracy: 8813/10000 (88%)\n",
      "\n",
      "epoch : 10 loss: 0.027\n",
      "\n",
      "Test set: Avg. loss: 0.0026, Accuracy: 8830/10000 (88%)\n",
      "\n"
     ]
    }
   ]
  },
  {
   "cell_type": "code",
   "execution_count": 89,
   "outputs": [
    {
     "data": {
      "text/plain": "Text(0, 0.5, 'Loss')"
     },
     "execution_count": 89,
     "metadata": {},
     "output_type": "execute_result"
    },
    {
     "data": {
      "text/plain": "<Figure size 640x480 with 1 Axes>",
      "image/png": "[encoded data removed]"
     },
     "metadata": {},
     "output_type": "display_data"
    }
   ],
   "source": [
    "plt.plot(train_loss)\n",
    "plt.plot(test_loss)\n",
    "plt.xlabel(\"Epoch\")\n",
    "plt.ylabel(\"Loss\")"
   ],
   "metadata": {
    "collapsed": false,
    "ExecuteTime": {
     "end_time": "2024-09-21T08:07:02.624761600Z",
     "start_time": "2024-09-21T08:07:02.545688100Z"
    }
   }
  },
  {
   "cell_type": "markdown",
   "source": [
    "MSE with NLL loss"
   ],
   "metadata": {
    "id": "B8WUYB4czZ6K"
   }
  },
  {
   "cell_type": "code",
   "source": [
    "import torch\n",
    "import torch.nn as nn\n",
    "import torch.nn.functional as F\n",
    "\n",
    "class MLP(nn.Module):\n",
    "    def __init__(self):\n",
    "        super(MLP, self).__init__()\n",
    "        self.fc1 = nn.Linear(in_features=784, out_features=200)\n",
    "        self.fc2 = nn.Linear(in_features=200, out_features=10)\n",
    "    def forward(self,x):\n",
    "     x = self.fc1(x)\n",
    "     x = F.relu(x)\n",
    "     x = self.fc2(x)\n",
    "     return F.log_softmax(x)"
   ],
   "metadata": {
    "id": "Av7Fr0RhdhIN"
   },
   "execution_count": null,
   "outputs": []
  },
  {
   "cell_type": "code",
   "source": [
    "model = MLP()"
   ],
   "metadata": {
    "id": "xglVZQQNdipL"
   },
   "execution_count": null,
   "outputs": []
  },
  {
   "cell_type": "code",
   "source": [
    "#loss_fn = nn.BCELoss()\n",
    "\n",
    "loss_fn  = nn.NLLLoss()\n",
    "\n",
    "learning_rate =0.001\n",
    "momentum = 0.5\n",
    "\n",
    "optimizer = torch.optim.SGD(model.parameters(), lr=learning_rate,\n",
    "                      momentum=momentum)"
   ],
   "metadata": {
    "id": "LFknfigOd0d-"
   },
   "execution_count": null,
   "outputs": []
  },
  {
   "cell_type": "code",
   "source": [
    "def test(nn, test_loader, loss_fn):\n",
    "   nn.eval()\n",
    "   test_loss = 0\n",
    "   correct = 0\n",
    "   with torch.no_grad():\n",
    "     for data, target in test_loader:\n",
    "       data = data.view([-1, 784]).to(device)\n",
    "       target = target.to(device)\n",
    "       output = nn(data)\n",
    "       targetsV  = F.one_hot(target, num_classes=10)+0.0\n",
    "       test_loss += loss_fn(output, targetsV)\n",
    "       pred = output.data.max(1, keepdim=True)[1]\n",
    "       correct += pred.eq(target.data.view_as(pred)).sum()\n",
    "   test_loss /= len(test_loader.dataset)\n",
    "   print('\\nTest set: Avg. loss: {:.4f}, Accuracy: {}/{} ({:.0f}%)\\n'.format(\n",
    "     test_loss, correct, len(test_loader.dataset),\n",
    "     100. * correct / len(test_loader.dataset)))\n",
    "   return test_loss.item()"
   ],
   "metadata": {
    "id": "5TbLM-qevFGa"
   },
   "execution_count": null,
   "outputs": []
  },
  {
   "cell_type": "code",
   "source": [
    "def train_MLP(nn, train_loader, test_loader, loss_fn, n_epochs, optimizer):\n",
    "    train_loss = []\n",
    "    test_loss = []\n",
    "    for epoch in range(n_epochs):  # loop over the dataset multiple times\n",
    "        running_loss = 0.0\n",
    "        for batch_idx, (inputs, targets) in enumerate(train_loader):\n",
    "           # get the inputs; data is a list of [inputs, labels]\n",
    "\n",
    "           optimizer.zero_grad()\n",
    "           inputs = inputs.view([-1, 784]).to(device)\n",
    "           targets = targets.to(device)\n",
    "           outputs = nn(inputs)\n",
    "           targetsV  = F.one_hot(targets, num_classes=10)+0.0\n",
    "\n",
    "           loss = loss_fn(outputs, targetsV)\n",
    "\n",
    "           loss.backward()\n",
    "           optimizer.step()\n",
    "\n",
    "           # print statistics\n",
    "           running_loss += loss.item()\n",
    "        print(f'epoch : {epoch + 1} loss: {running_loss / len(train_loader):.3f}')\n",
    "        train_loss.append(running_loss / len(train_loader))\n",
    "        test_loss.append(test(nn, test_loader, loss_fn))\n",
    "    return train_loss, test_loss"
   ],
   "metadata": {
    "id": "TCWgf24KgCf3"
   },
   "execution_count": null,
   "outputs": []
  },
  {
   "cell_type": "code",
   "source": [
    "train_loss, test_loss = train_MLP(model, train_loader, test_loader, loss_fn, 10, optimizer)"
   ],
   "metadata": {
    "id": "34utq8QwgfNH"
   },
   "execution_count": null,
   "outputs": []
  },
  {
   "cell_type": "code",
   "execution_count": null,
   "outputs": [],
   "source": [
    "plt.plot(train_loss)\n",
    "plt.plot(test_loss)\n",
    "plt.xlabel(\"Epoch\")\n",
    "plt.ylabel(\"Loss\")"
   ],
   "metadata": {
    "collapsed": false
   }
  },
  {
   "cell_type": "markdown",
   "source": [
    "### Convnet"
   ],
   "metadata": {
    "id": "WUx6NkiEzCZ5"
   }
  },
  {
   "cell_type": "code",
   "source": [
    "class CNN(nn.Module):\n",
    "    def __init__(self):\n",
    "        super(CNN, self).__init__()\n",
    "        self.conv1 = nn.Conv2d(1, 10, kernel_size=5)\n",
    "        self.conv2 = nn.Conv2d(10, 20, kernel_size=5)\n",
    "        self.conv2_drop = nn.Dropout2d()\n",
    "        self.fc1 = nn.Linear(320, 50)\n",
    "        self.fc2 = nn.Linear(50, 10)\n",
    "\n",
    "    def forward(self, x):\n",
    "        x = F.relu(F.max_pool2d(self.conv1(x), 2))\n",
    "        x = F.relu(F.max_pool2d(self.conv2_drop(self.conv2(x)), 2))\n",
    "        x = x.view(-1, 320)\n",
    "        x = F.relu(self.fc1(x))\n",
    "        x = F.dropout(x, training=self.training)\n",
    "        x = self.fc2(x)\n",
    "        return F.log_softmax(x)"
   ],
   "metadata": {
    "id": "2fsuJVO5zD91"
   },
   "execution_count": null,
   "outputs": []
  },
  {
   "cell_type": "code",
   "source": [
    "model = CNN()"
   ],
   "metadata": {
    "id": "GriXykDmzD92"
   },
   "execution_count": null,
   "outputs": []
  },
  {
   "cell_type": "code",
   "source": [
    "#loss_fn = nn.BCELoss()\n",
    "\n",
    "loss_fn  = nn.NLLLoss()\n",
    "\n",
    "learning_rate =0.001\n",
    "momentum = 0.5\n",
    "\n",
    "optimizer = torch.optim.SGD(model.parameters(), lr=learning_rate,\n",
    "                      momentum=momentum)"
   ],
   "metadata": {
    "id": "r13_QBmszD92"
   },
   "execution_count": null,
   "outputs": []
  },
  {
   "cell_type": "code",
   "source": [
    "def test_CNN(nn, test_loader):\n",
    "  nn.eval()\n",
    "  test_loss = 0\n",
    "  correct = 0\n",
    "  with torch.no_grad():\n",
    "    for data, target in test_loader:\n",
    "      #data = data.view([-1, 784]).to(device)\n",
    "      output = nn(data)\n",
    "      test_loss += F.nll_loss(output, target, size_average=False).item()\n",
    "      pred = output.data.max(1, keepdim=True)[1]\n",
    "      correct += pred.eq(target.data.view_as(pred)).sum()\n",
    "  test_loss /= len(test_loader.dataset)\n",
    "  print('\\nTest set: Avg. loss: {:.4f}, Accuracy: {}/{} ({:.0f}%)\\n'.format(\n",
    "    test_loss, correct, len(test_loader.dataset),\n",
    "    100. * correct / len(test_loader.dataset)))"
   ],
   "metadata": {
    "id": "RibGoTvDzD92"
   },
   "execution_count": null,
   "outputs": []
  },
  {
   "cell_type": "code",
   "source": [
    "def train_CNN(nn, trainloader, test_loader, loss_fn, n_epochs, optimizer):\n",
    "  for epoch in range(n_epochs):  # loop over the dataset multiple times\n",
    "    running_loss = 0.0\n",
    "    for batch_idx, (inputs, targets) in enumerate(train_loader):\n",
    "      # get the inputs; data is a list of [inputs, labels]\n",
    "\n",
    "      optimizer.zero_grad()\n",
    "      #inputs = inputs.view([-1, 784]).to(device)\n",
    "      outputs = nn(inputs)\n",
    "\n",
    "      loss = loss_fn(outputs, targets)\n",
    "\n",
    "      loss.backward()\n",
    "      optimizer.step()\n",
    "\n",
    "      # print statistics\n",
    "      running_loss += loss.item()\n",
    "    print(f'epoch : {epoch + 1} loss: {running_loss / len(train_loader):.3f}')\n",
    "    test_CNN(nn, test_loader)\n"
   ],
   "metadata": {
    "id": "IKIGRUJozD93"
   },
   "execution_count": null,
   "outputs": []
  },
  {
   "cell_type": "code",
   "source": [
    "train_CNN(model, train_loader, test_loader, loss_fn, 10, optimizer)"
   ],
   "metadata": {
    "id": "jOcjHkfGzD93"
   },
   "execution_count": null,
   "outputs": []
  }
 ]
}
