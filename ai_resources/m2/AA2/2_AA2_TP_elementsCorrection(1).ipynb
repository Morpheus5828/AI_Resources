{
  "cells": [
    {
      "cell_type": "markdown",
      "metadata": {
        "id": "oV8I0-MfrGd4"
      },
      "source": [
        "# TP 5 : Régression de faible rang sur des données simulées"
      ]
    },
    {
      "cell_type": "markdown",
      "metadata": {
        "id": "8PbkklLyrlwn"
      },
      "source": [
        "\n",
        "\n",
        "*   Créer une matrice de rang faible $W$. Vous pouvez créer par exemple une matrice $W$ de taille $15 \\times 15$ avec un rang égale à 2. Pour créer une matrice de rang faible, vous pouvez utiliser la formule $rang(AB) \\leq \\min(rang(A),rang(B))$. Afficher la matrice avec la commande `imshow`.\n",
        "\n",
        "\n",
        "\n"
      ]
    },
    {
      "cell_type": "code",
      "execution_count": 1,
      "metadata": {
        "id": "VZOh9X9IuT-a",
        "colab": {
          "base_uri": "https://localhost:8080/",
          "height": 449
        },
        "outputId": "317e4576-383c-4a91-b973-e94aeba5d506"
      },
      "outputs": [
        {
          "output_type": "execute_result",
          "data": {
            "text/plain": [
              "<matplotlib.image.AxesImage at 0x7b013b4c2c20>"
            ]
          },
          "metadata": {},
          "execution_count": 1
        },
        {
          "output_type": "display_data",
          "data": {
            "text/plain": [
              "<Figure size 640x480 with 1 Axes>"
            ],
            "image/png": "[encoded data removed]"
          },
          "metadata": {}
        }
      ],
      "source": [
        "# A compléter\n",
        "\n",
        "import numpy as np\n",
        "import matplotlib.pyplot as plt\n",
        "import matplotlib.cm as cm\n",
        "\n",
        "#W = np.eye(10,10)\n",
        "#W += W[::-1,:]\n",
        "\n",
        "W = np.zeros((15,15))\n",
        "W[6:9,4:11]=1\n",
        "W[4:11,6:9]=1\n",
        "\n",
        "fig = plt.figure()\n",
        "ax1 = fig.add_subplot(111)\n",
        "ax1.imshow(W, cmap=cm.Greys_r)"
      ]
    },
    {
      "cell_type": "markdown",
      "metadata": {
        "id": "n70ySsHH9rr4"
      },
      "source": [
        "*   Générer des données d'apprentissage $\\{(x_i,y_i), i=1,\\ldots,n\\}$ suivant le modèle $y_i = Wx_i + \\epsilon_i$.\n",
        "\n"
      ]
    },
    {
      "cell_type": "code",
      "execution_count": 2,
      "metadata": {
        "id": "f1wYv5Zx9r-n"
      },
      "outputs": [],
      "source": [
        "# A compléter\n",
        "\n",
        "d=W.shape[0]\n",
        "p=W.shape[1]\n",
        "n=200\n",
        "\n",
        "epsilon = np.random.normal(0, 0.45, (n,p))\n",
        "X = np.random.rand(n,d)\n",
        "Y = X.dot(W) + epsilon"
      ]
    },
    {
      "cell_type": "markdown",
      "metadata": {
        "id": "2-WUwVmv9sON"
      },
      "source": [
        "* Implémenter la méthode de régression de faible rang. Le rang de la solution est un paramètre de la méthode.\n",
        "\n"
      ]
    },
    {
      "cell_type": "code",
      "execution_count": 3,
      "metadata": {
        "id": "CdHQ1MrH9sbf"
      },
      "outputs": [],
      "source": [
        "# A compléter\n",
        "\n",
        "r=2\n",
        "\n",
        "C = (X.T).dot(X)\n",
        "Cinv = np.linalg.pinv(C)\n",
        "Wls = Cinv.dot(X.T)\n",
        "Wls = Wls.dot(Y)\n",
        "\n",
        "Yls = X.dot(Wls)\n",
        "\n",
        "u, s, v = np.linalg.svd(Yls, full_matrices=False)\n",
        "#print(u.shape, s.shape, v.shape)\n",
        "#print(np.linalg.norm(Yls - np.dot((u * s)[:,:r], v[:r,:])))\n",
        "\n",
        "Pr = v[:r,:]\n",
        "Pr = np.dot(np.transpose(Pr),Pr)\n",
        "\n",
        "Wr = np.dot(Wls,Pr)"
      ]
    },
    {
      "cell_type": "markdown",
      "metadata": {
        "id": "ygjAAIkZ9soP"
      },
      "source": [
        "* Evaluer les performances de prédiction de la régression de faible rang sur un jeu de données test. Comparer les résultats avec la régression par moindres carrés.\n",
        "\n"
      ]
    },
    {
      "cell_type": "code",
      "execution_count": 4,
      "metadata": {
        "id": "D0IE3eKA9s1t",
        "colab": {
          "base_uri": "https://localhost:8080/"
        },
        "outputId": "1c4d23ec-bf32-4654-943e-cbfc4e8ef181"
      },
      "outputs": [
        {
          "output_type": "stream",
          "name": "stdout",
          "text": [
            "Prediction_err_Wls: 5.177627871358723\n",
            "Prediction_err_Wr: 2.246712558535711\n"
          ]
        }
      ],
      "source": [
        "# A compléter\n",
        "\n",
        "nt=100\n",
        "Xt = np.random.rand(nt,d)\n",
        "\n",
        "Ytr = np.dot(Xt,Wr)\n",
        "Ytls = np.dot(Xt,Wls)\n",
        "Yt = np.dot(Xt,W)\n",
        "\n",
        "print('Prediction_err_Wls:',np.linalg.norm(Yt-Ytls))\n",
        "print('Prediction_err_Wr:',np.linalg.norm(Yt-Ytr))"
      ]
    },
    {
      "cell_type": "markdown",
      "metadata": {
        "id": "Ss2ZbmYd9tCJ"
      },
      "source": [
        "* Afficher les matrices de paramètres $W_r$ et $W_{LS}$ obtenues par les deux méthodes et comparer les résultats. Comparer les résultats en mesurant l'erreur entre la vraie matrice W utilisée pour générer les données et les matrices $W_r$ et $W_{LS}$ obtenues dans les deux stratégies d'estimation.\n",
        "\n"
      ]
    },
    {
      "cell_type": "code",
      "execution_count": 5,
      "metadata": {
        "id": "aC-lyuNb9tOO",
        "colab": {
          "base_uri": "https://localhost:8080/",
          "height": 244
        },
        "outputId": "86bebb5d-4de3-4461-e7b5-53d2514ccfd8"
      },
      "outputs": [
        {
          "output_type": "stream",
          "name": "stdout",
          "text": [
            "Reconstruction_err_Wls: 1.7535688534644605\n",
            "Reconstruction_err_Wr: 0.6899121572579477\n"
          ]
        },
        {
          "output_type": "display_data",
          "data": {
            "text/plain": [
              "<Figure size 640x480 with 3 Axes>"
            ],
            "image/png": "[encoded data removed]"
          },
          "metadata": {}
        }
      ],
      "source": [
        "# A compléter\n",
        "\n",
        "fig = plt.figure()\n",
        "\n",
        "ax1 = fig.add_subplot(131)\n",
        "ax1.imshow(W, cmap=cm.Greys_r)\n",
        "\n",
        "ax2 = fig.add_subplot(132)\n",
        "ax2.imshow(Wls, cmap=cm.Greys_r)\n",
        "\n",
        "ax3 = fig.add_subplot(133)\n",
        "ax3.imshow(Wr, cmap=cm.Greys_r)\n",
        "\n",
        "print('Reconstruction_err_Wls:',np.linalg.norm(W-Wls))\n",
        "print('Reconstruction_err_Wr:',np.linalg.norm(W-Wr))"
      ]
    },
    {
      "cell_type": "markdown",
      "metadata": {
        "id": "LWV-rrhg9tZ0"
      },
      "source": [
        "* Evaluer l'impact du choix du rang sur les résultats en faisant varier le rang de $W_r$ et en traçant l'erreur de test en fonction du rang de $W_r$ (le rang de $W$ ne change pas)."
      ]
    },
    {
      "cell_type": "code",
      "execution_count": null,
      "metadata": {
        "id": "wj-w8wZo9tmU"
      },
      "outputs": [],
      "source": [
        "# A compléter"
      ]
    }
  ],
  "metadata": {
    "colab": {
      "provenance": []
    },
    "kernelspec": {
      "display_name": "Python 3",
      "language": "python",
      "name": "python3"
    },
    "language_info": {
      "codemirror_mode": {
        "name": "ipython",
        "version": 3
      },
      "file_extension": ".py",
      "mimetype": "text/x-python",
      "name": "python",
      "nbconvert_exporter": "python",
      "pygments_lexer": "ipython3",
      "version": "3.6.7"
    }
  },
  "nbformat": 4,
  "nbformat_minor": 0
}