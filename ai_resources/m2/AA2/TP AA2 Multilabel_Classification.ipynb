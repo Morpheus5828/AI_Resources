{
 "cells": [
  {
   "cell_type": "markdown",
   "source": [
    "Ce TP est en deux parties\n",
    "\n",
    "\n",
    "*   La première consiste à programmer quelques méthodes de classification multilabel\n",
    "*   La seconde consiste à benchmarker des méthodes de classific aiton multilael sur un jeu de données, en utiisant un package dédié à la classification multilabels\n",
    "\n"
   ],
   "metadata": {
    "id": "D_RSbkUJBWRe"
   }
  },
  {
   "cell_type": "markdown",
   "source": [
    "# 1. Programmation de méthodes de classification multilabel"
   ],
   "metadata": {
    "id": "_dAAmcdwBNgE"
   }
  },
  {
   "cell_type": "markdown",
   "metadata": {
    "id": "Sa3oO1-OplL9"
   },
   "source": [
    "## Importing required packages"
   ]
  },
  {
   "cell_type": "code",
   "execution_count": 84,
   "metadata": {
    "id": "FSYvge6EplL-",
    "ExecuteTime": {
     "end_time": "2024-12-16T13:53:37.527409900Z",
     "start_time": "2024-12-16T13:53:37.517605500Z"
    }
   },
   "outputs": [],
   "source": [
    "import pandas as pd\n",
    "from sklearn.model_selection import train_test_split\n",
    "from sklearn.base import BaseEstimator, ClassifierMixin\n",
    "from sklearn.metrics import f1_score\n",
    "\n",
    "from sklearn.linear_model import LogisticRegression\n",
    "from sklearn.svm import SVC\n",
    "from sklearn.tree import DecisionTreeClassifier\n",
    "from sklearn.ensemble import RandomForestClassifier\n",
    "from sklearn.naive_bayes import GaussianNB\n",
    "from sklearn.base import clone"
   ]
  },
  {
   "cell_type": "markdown",
   "metadata": {
    "id": "cdLjn4pEplL-"
   },
   "source": [
    "## 0. Load the Yeast Dataset"
   ]
  },
  {
   "cell_type": "code",
   "execution_count": 123,
   "metadata": {
    "id": "MWhl_RjoplL_",
    "ExecuteTime": {
     "end_time": "2024-12-16T15:39:57.994161400Z",
     "start_time": "2024-12-16T15:39:57.967103500Z"
    }
   },
   "outputs": [],
   "source": [
    "yeast = pd.read_csv('yeast.csv')"
   ]
  },
  {
   "cell_type": "code",
   "execution_count": 124,
   "metadata": {
    "id": "kqg3rUvfplMA",
    "ExecuteTime": {
     "end_time": "2024-12-16T15:39:58.122128400Z",
     "start_time": "2024-12-16T15:39:58.111531Z"
    }
   },
   "outputs": [],
   "source": [
    "X = yeast.iloc[:, 0:-14]"
   ]
  },
  {
   "cell_type": "code",
   "execution_count": 125,
   "metadata": {
    "id": "0wiMG9EpplMA",
    "ExecuteTime": {
     "end_time": "2024-12-16T15:39:58.320464300Z",
     "start_time": "2024-12-16T15:39:58.316525300Z"
    }
   },
   "outputs": [],
   "source": [
    "y = yeast.iloc[:,-14:]"
   ]
  },
  {
   "cell_type": "code",
   "execution_count": 126,
   "metadata": {
    "id": "1jPm5ioKplMB",
    "ExecuteTime": {
     "end_time": "2024-12-16T15:39:58.444651200Z",
     "start_time": "2024-12-16T15:39:58.431621600Z"
    }
   },
   "outputs": [],
   "source": [
    "# Split into train and test\n",
    "X_train, X_test, y_train, y_test = train_test_split(X, y, random_state=0, train_size = 0.7)"
   ]
  },
  {
   "cell_type": "code",
   "source": [
    "y_train"
   ],
   "metadata": {
    "colab": {
     "base_uri": "https://localhost:8080/",
     "height": 423
    },
    "id": "tEoCxQyX9AB6",
    "executionInfo": {
     "status": "ok",
     "timestamp": 1734092268064,
     "user_tz": -60,
     "elapsed": 278,
     "user": {
      "displayName": "Thierry Artieres",
      "userId": "02018666546133225436"
     }
    },
    "outputId": "b05de86f-3c96-4dc3-8c78-36b026059cb7",
    "ExecuteTime": {
     "end_time": "2024-12-16T13:53:38.943090900Z",
     "start_time": "2024-12-16T13:53:38.929679300Z"
    }
   },
   "execution_count": 89,
   "outputs": [
    {
     "data": {
      "text/plain": "      Class1  Class2  Class3  Class4  Class5  Class6  Class7  Class8  Class9  \\\n2067       1       0       0       0       0       0       0       0       0   \n936        0       0       1       1       0       0       0       0       0   \n376        0       1       1       0       0       0       1       1       1   \n2353       0       0       0       0       0       0       1       1       0   \n1432       0       0       1       1       0       0       1       1       0   \n...      ...     ...     ...     ...     ...     ...     ...     ...     ...   \n1033       1       1       1       1       0       0       0       0       0   \n1731       0       1       1       0       0       0       0       0       0   \n763        1       1       1       1       0       0       0       0       0   \n835        0       0       1       1       0       0       0       0       0   \n1653       1       1       1       0       0       0       0       0       0   \n\n      Class10  Class11  Class12  Class13  Class14  \n2067        0        0        0        0        0  \n936         0        0        1        1        0  \n376         0        0        0        0        0  \n2353        0        0        1        1        0  \n1432        0        0        1        1        0  \n...       ...      ...      ...      ...      ...  \n1033        0        0        1        1        0  \n1731        0        0        0        0        0  \n763         0        0        1        1        0  \n835         0        0        1        1        0  \n1653        0        0        0        0        0  \n\n[1691 rows x 14 columns]",
      "text/html": "<div>\n<style scoped>\n    .dataframe tbody tr th:only-of-type {\n        vertical-align: middle;\n    }\n\n    .dataframe tbody tr th {\n        vertical-align: top;\n    }\n\n    .dataframe thead th {\n        text-align: right;\n    }\n</style>\n<table border=\"1\" class=\"dataframe\">\n  <thead>\n    <tr style=\"text-align: right;\">\n      <th></th>\n      <th>Class1</th>\n      <th>Class2</th>\n      <th>Class3</th>\n      <th>Class4</th>\n      <th>Class5</th>\n      <th>Class6</th>\n      <th>Class7</th>\n      <th>Class8</th>\n      <th>Class9</th>\n      <th>Class10</th>\n      <th>Class11</th>\n      <th>Class12</th>\n      <th>Class13</th>\n      <th>Class14</th>\n    </tr>\n  </thead>\n  <tbody>\n    <tr>\n      <th>2067</th>\n      <td>1</td>\n      <td>0</td>\n      <td>0</td>\n      <td>0</td>\n      <td>0</td>\n      <td>0</td>\n      <td>0</td>\n      <td>0</td>\n      <td>0</td>\n      <td>0</td>\n      <td>0</td>\n      <td>0</td>\n      <td>0</td>\n      <td>0</td>\n    </tr>\n    <tr>\n      <th>936</th>\n      <td>0</td>\n      <td>0</td>\n      <td>1</td>\n      <td>1</td>\n      <td>0</td>\n      <td>0</td>\n      <td>0</td>\n      <td>0</td>\n      <td>0</td>\n      <td>0</td>\n      <td>0</td>\n      <td>1</td>\n      <td>1</td>\n      <td>0</td>\n    </tr>\n    <tr>\n      <th>376</th>\n      <td>0</td>\n      <td>1</td>\n      <td>1</td>\n      <td>0</td>\n      <td>0</td>\n      <td>0</td>\n      <td>1</td>\n      <td>1</td>\n      <td>1</td>\n      <td>0</td>\n      <td>0</td>\n      <td>0</td>\n      <td>0</td>\n      <td>0</td>\n    </tr>\n    <tr>\n      <th>2353</th>\n      <td>0</td>\n      <td>0</td>\n      <td>0</td>\n      <td>0</td>\n      <td>0</td>\n      <td>0</td>\n      <td>1</td>\n      <td>1</td>\n      <td>0</td>\n      <td>0</td>\n      <td>0</td>\n      <td>1</td>\n      <td>1</td>\n      <td>0</td>\n    </tr>\n    <tr>\n      <th>1432</th>\n      <td>0</td>\n      <td>0</td>\n      <td>1</td>\n      <td>1</td>\n      <td>0</td>\n      <td>0</td>\n      <td>1</td>\n      <td>1</td>\n      <td>0</td>\n      <td>0</td>\n      <td>0</td>\n      <td>1</td>\n      <td>1</td>\n      <td>0</td>\n    </tr>\n    <tr>\n      <th>...</th>\n      <td>...</td>\n      <td>...</td>\n      <td>...</td>\n      <td>...</td>\n      <td>...</td>\n      <td>...</td>\n      <td>...</td>\n      <td>...</td>\n      <td>...</td>\n      <td>...</td>\n      <td>...</td>\n      <td>...</td>\n      <td>...</td>\n      <td>...</td>\n    </tr>\n    <tr>\n      <th>1033</th>\n      <td>1</td>\n      <td>1</td>\n      <td>1</td>\n      <td>1</td>\n      <td>0</td>\n      <td>0</td>\n      <td>0</td>\n      <td>0</td>\n      <td>0</td>\n      <td>0</td>\n      <td>0</td>\n      <td>1</td>\n      <td>1</td>\n      <td>0</td>\n    </tr>\n    <tr>\n      <th>1731</th>\n      <td>0</td>\n      <td>1</td>\n      <td>1</td>\n      <td>0</td>\n      <td>0</td>\n      <td>0</td>\n      <td>0</td>\n      <td>0</td>\n      <td>0</td>\n      <td>0</td>\n      <td>0</td>\n      <td>0</td>\n      <td>0</td>\n      <td>0</td>\n    </tr>\n    <tr>\n      <th>763</th>\n      <td>1</td>\n      <td>1</td>\n      <td>1</td>\n      <td>1</td>\n      <td>0</td>\n      <td>0</td>\n      <td>0</td>\n      <td>0</td>\n      <td>0</td>\n      <td>0</td>\n      <td>0</td>\n      <td>1</td>\n      <td>1</td>\n      <td>0</td>\n    </tr>\n    <tr>\n      <th>835</th>\n      <td>0</td>\n      <td>0</td>\n      <td>1</td>\n      <td>1</td>\n      <td>0</td>\n      <td>0</td>\n      <td>0</td>\n      <td>0</td>\n      <td>0</td>\n      <td>0</td>\n      <td>0</td>\n      <td>1</td>\n      <td>1</td>\n      <td>0</td>\n    </tr>\n    <tr>\n      <th>1653</th>\n      <td>1</td>\n      <td>1</td>\n      <td>1</td>\n      <td>0</td>\n      <td>0</td>\n      <td>0</td>\n      <td>0</td>\n      <td>0</td>\n      <td>0</td>\n      <td>0</td>\n      <td>0</td>\n      <td>0</td>\n      <td>0</td>\n      <td>0</td>\n    </tr>\n  </tbody>\n</table>\n<p>1691 rows × 14 columns</p>\n</div>"
     },
     "execution_count": 89,
     "metadata": {},
     "output_type": "execute_result"
    }
   ]
  },
  {
   "cell_type": "code",
   "source": [
    "y_train_array = y_train.to_numpy()\n",
    "y_train_array"
   ],
   "metadata": {
    "colab": {
     "base_uri": "https://localhost:8080/"
    },
    "id": "StNYqHbm9IJY",
    "executionInfo": {
     "status": "ok",
     "timestamp": 1734092314014,
     "user_tz": -60,
     "elapsed": 4,
     "user": {
      "displayName": "Thierry Artieres",
      "userId": "02018666546133225436"
     }
    },
    "outputId": "a843a1ef-b2c6-4612-d952-bfa43cd17f90",
    "ExecuteTime": {
     "end_time": "2024-12-16T13:53:39.176211400Z",
     "start_time": "2024-12-16T13:53:39.165998400Z"
    }
   },
   "execution_count": 90,
   "outputs": [
    {
     "data": {
      "text/plain": "array([[1, 0, 0, ..., 0, 0, 0],\n       [0, 0, 1, ..., 1, 1, 0],\n       [0, 1, 1, ..., 0, 0, 0],\n       ...,\n       [1, 1, 1, ..., 1, 1, 0],\n       [0, 0, 1, ..., 1, 1, 0],\n       [1, 1, 1, ..., 0, 0, 0]])"
     },
     "execution_count": 90,
     "metadata": {},
     "output_type": "execute_result"
    }
   ]
  },
  {
   "cell_type": "code",
   "source": [
    "print(y_train_array.shape)"
   ],
   "metadata": {
    "colab": {
     "base_uri": "https://localhost:8080/"
    },
    "id": "WxIRofKn-Kmh",
    "executionInfo": {
     "status": "ok",
     "timestamp": 1734092581298,
     "user_tz": -60,
     "elapsed": 422,
     "user": {
      "displayName": "Thierry Artieres",
      "userId": "02018666546133225436"
     }
    },
    "outputId": "3e2f07ba-7e1c-4685-e831-0c551a82e2a4",
    "ExecuteTime": {
     "end_time": "2024-12-16T13:53:39.406143600Z",
     "start_time": "2024-12-16T13:53:39.399622500Z"
    }
   },
   "execution_count": 91,
   "outputs": [
    {
     "name": "stdout",
     "output_type": "stream",
     "text": [
      "(1691, 14)\n"
     ]
    }
   ]
  },
  {
   "cell_type": "markdown",
   "source": [
    "## Définition de métriques"
   ],
   "metadata": {
    "id": "L0cKEagSB-P0"
   }
  },
  {
   "cell_type": "markdown",
   "source": [
    "Que calculent les métriques suivantes ?\n",
    "-> L'accuracy score compare les prédictions réalise par le model avec les vrais étiquettes et retourn un score\n",
    "-> La distance de Hamming calcule le nombre de bit différents entre deux nombres binaires"
   ],
   "metadata": {
    "collapsed": false
   }
  },
  {
   "cell_type": "code",
   "execution_count": 92,
   "metadata": {
    "id": "c1VQlrkqplMB",
    "ExecuteTime": {
     "end_time": "2024-12-16T13:53:40.306707800Z",
     "start_time": "2024-12-16T13:53:40.299879Z"
    }
   },
   "outputs": [],
   "source": [
    "# Custom accuracy score\n",
    "\n",
    "def get_accuracy_score(y_pred,y_test):\n",
    "\n",
    "    if 'numpy' not in str(type(y_pred)):\n",
    "        y_pred = y_pred.to_numpy()\n",
    "\n",
    "    if 'numpy' not in str(type(y_test)):\n",
    "        y_test = y_test.to_numpy()\n",
    "\n",
    "\n",
    "    assert(y_test.shape == y_pred.shape)\n",
    "\n",
    "    if y_pred.shape[1] <= 5: #For a smaller number of labels, a ratio of half the labels being correct is good enough\n",
    "        ratio = 0.5\n",
    "    else:\n",
    "        ratio = 0.7 #For a number of labels, at least 70% of the predicted labels must be correct\n",
    "\n",
    "    acc_rows = []\n",
    "\n",
    "    for i in range(len(y_test)):\n",
    "        acc_rows.append(np.count_nonzero(y_test[i]==y_pred[i]))\n",
    "\n",
    "    acc_rows = [1 if x/y_pred.shape[1] >= ratio else 0 for x in acc_rows] #1 if ratio of match in a row is greater than ratio, else 0\n",
    "    return sum(acc_rows)/len(acc_rows)"
   ]
  },
  {
   "cell_type": "code",
   "source": [
    "### Distance de Hamming\n",
    "\n",
    "def HammingDistance_score(y_pred,y_test):\n",
    "\n",
    "    if 'numpy' not in str(type(y_pred)):\n",
    "        y_pred = y_pred.to_numpy()\n",
    "\n",
    "    if 'numpy' not in str(type(y_test)):\n",
    "        y_test = y_test.to_numpy()\n",
    "\n",
    "    acc_rows = []\n",
    "\n",
    "    for i in range(len(y_test)):\n",
    "      acc_rows.append(np.count_nonzero(y_test[i]==y_pred[i]))\n",
    "\n",
    "    return sum(acc_rows)/len(acc_rows)\n"
   ],
   "metadata": {
    "id": "eCUkfSLINMb8",
    "ExecuteTime": {
     "end_time": "2024-12-16T13:53:40.835410900Z",
     "start_time": "2024-12-16T13:53:40.828504400Z"
    }
   },
   "execution_count": 93,
   "outputs": []
  },
  {
   "cell_type": "markdown",
   "metadata": {
    "id": "KvgCmT3tplMB"
   },
   "source": [
    "## 1. Implement the Binary Relevance Algorithm"
   ]
  },
  {
   "cell_type": "markdown",
   "source": [
    "Implémentez la classe BinaryRelevanceClassifier suivante qui prend en paramètre un estimateur et va l'utiliser sur chacun des labels qe ce soit en apprentissage ou en inférence.\n",
    "* Vous stockerez les modèles dans une liste *model_list*\n",
    "* Il est inutile d'implémenter la méthode *predict_proba*"
   ],
   "metadata": {
    "id": "PMxpjLOOCaZH"
   }
  },
  {
   "cell_type": "code",
   "execution_count": 94,
   "metadata": {
    "id": "3zHCtTEjplMB",
    "ExecuteTime": {
     "end_time": "2024-12-16T13:53:42.067957800Z",
     "start_time": "2024-12-16T13:53:42.063447400Z"
    }
   },
   "outputs": [],
   "source": [
    "class BinaryRelevanceClassifier(BaseEstimator, ClassifierMixin):\n",
    "\n",
    "    def __init__(self, base_model=LogisticRegression()):\n",
    "        self.base_model = base_model #base model - by default logistic regression\n",
    "\n",
    "    def fit(self, X, y):\n",
    "        self.model_list_ = []\n",
    "        y = np.array(y)\n",
    "        for i in range(y.shape[1]):\n",
    "            model = clone(self.base_model)\n",
    "            model.fit(X, y[:,i])\n",
    "            self.model_list_.append(model)\n",
    "        return self\n",
    "\n",
    "    def predict(self,X):\n",
    "        pred = []\n",
    "        for model in self.model_list_:\n",
    "            preds = model.predict(X)\n",
    "            pred.append(preds)\n",
    "        y_pred = np.array(pred).T\n",
    "        return y_pred\n",
    "\n",
    "    def predict_proba(self,X):\n",
    "        return None"
   ]
  },
  {
   "cell_type": "markdown",
   "source": [
    "Le code de la cellule suivante doit fonctionner si la classe BinaryRelevance ci-dessus est ok."
   ],
   "metadata": {
    "id": "A90J_6XPDggQ"
   }
  },
  {
   "cell_type": "code",
   "execution_count": 95,
   "metadata": {
    "id": "DUcHcOO3plMC",
    "ExecuteTime": {
     "end_time": "2024-12-16T13:53:45.240202700Z",
     "start_time": "2024-12-16T13:53:43.291426300Z"
    }
   },
   "outputs": [],
   "source": [
    "binclf = BinaryRelevanceClassifier(base_model=SVC(C=1))\n",
    "binclf.fit(X_train,y_train)\n",
    "y_pred = binclf.predict(X_test)"
   ]
  },
  {
   "cell_type": "code",
   "execution_count": 96,
   "metadata": {
    "id": "2e6EGWlYplMC",
    "ExecuteTime": {
     "end_time": "2024-12-16T13:53:45.252254900Z",
     "start_time": "2024-12-16T13:53:45.241206600Z"
    }
   },
   "outputs": [
    {
     "data": {
      "text/plain": "'Accuracy : '"
     },
     "metadata": {},
     "output_type": "display_data"
    },
    {
     "data": {
      "text/plain": "0.8181818181818182"
     },
     "metadata": {},
     "output_type": "display_data"
    },
    {
     "data": {
      "text/plain": "'Hamming Distance : '"
     },
     "metadata": {},
     "output_type": "display_data"
    },
    {
     "data": {
      "text/plain": "11.297520661157025"
     },
     "metadata": {},
     "output_type": "display_data"
    },
    {
     "data": {
      "text/plain": "'F1 score : '"
     },
     "metadata": {},
     "output_type": "display_data"
    },
    {
     "data": {
      "text/plain": "np.float64(0.3629736002564711)"
     },
     "metadata": {},
     "output_type": "display_data"
    }
   ],
   "source": [
    "display('Accuracy : ',get_accuracy_score(y_test,y_pred), 'Hamming Distance : ', HammingDistance_score(y_test,y_pred) )\n",
    "display('F1 score : ',f1_score(y_test, y_pred, average='macro'))"
   ]
  },
  {
   "cell_type": "markdown",
   "source": [
    "# 2. Implement the label set method"
   ],
   "metadata": {
    "id": "EUcIhXAAwt-R"
   }
  },
  {
   "cell_type": "markdown",
   "source": [
    "## Construction des labels"
   ],
   "metadata": {
    "id": "zusBhH7Kd_Ku"
   }
  },
  {
   "cell_type": "code",
   "source": [
    "# le code ci-dessous recupère les données y dans un tableau numpy.\n",
    "\n",
    "import numpy as np\n",
    "\n",
    "# Convert the pandas DataFrame 'y' to a NumPy array.\n",
    "y_array = y.to_numpy()\n",
    "\n",
    "# Print the resulting NumPy array.\n",
    "y_array"
   ],
   "metadata": {
    "id": "ID8VWrUB5P8-",
    "colab": {
     "base_uri": "https://localhost:8080/"
    },
    "executionInfo": {
     "status": "ok",
     "timestamp": 1734094443526,
     "user_tz": -60,
     "elapsed": 414,
     "user": {
      "displayName": "Thierry Artieres",
      "userId": "02018666546133225436"
     }
    },
    "outputId": "b5b5d96e-3914-46cc-d653-d5b91ec5f7ca",
    "ExecuteTime": {
     "end_time": "2024-12-16T13:58:50.665029400Z",
     "start_time": "2024-12-16T13:58:50.654498300Z"
    }
   },
   "execution_count": 97,
   "outputs": [
    {
     "data": {
      "text/plain": "array([[0, 0, 0, ..., 1, 1, 0],\n       [0, 0, 1, ..., 0, 0, 0],\n       [0, 1, 1, ..., 1, 1, 0],\n       ...,\n       [0, 0, 0, ..., 1, 1, 0],\n       [0, 0, 0, ..., 1, 1, 0],\n       [0, 1, 1, ..., 1, 1, 0]])"
     },
     "execution_count": 97,
     "metadata": {},
     "output_type": "execute_result"
    }
   ]
  },
  {
   "cell_type": "code",
   "source": [
    "y_unique, index_unique, reverse_unique = np.unique(y_array,return_index=True, return_inverse=True, axis=0)"
   ],
   "metadata": {
    "id": "0Wsw8lQq5YCU",
    "ExecuteTime": {
     "end_time": "2024-12-16T13:58:54.176328100Z",
     "start_time": "2024-12-16T13:58:54.162843900Z"
    }
   },
   "execution_count": 98,
   "outputs": []
  },
  {
   "cell_type": "code",
   "source": [
    "print (y_unique.shape, y_unique[0])"
   ],
   "metadata": {
    "colab": {
     "base_uri": "https://localhost:8080/"
    },
    "id": "3EfoVda9FgJh",
    "executionInfo": {
     "status": "ok",
     "timestamp": 1734094527920,
     "user_tz": -60,
     "elapsed": 573,
     "user": {
      "displayName": "Thierry Artieres",
      "userId": "02018666546133225436"
     }
    },
    "outputId": "c5272c0a-8de8-46ed-cdec-37fd0565756c",
    "ExecuteTime": {
     "end_time": "2024-12-16T13:58:54.422752400Z",
     "start_time": "2024-12-16T13:58:54.384855Z"
    }
   },
   "execution_count": 99,
   "outputs": [
    {
     "name": "stdout",
     "output_type": "stream",
     "text": [
      "(198, 14) [0 0 0 0 0 0 0 0 0 0 0 1 1 0]\n"
     ]
    }
   ]
  },
  {
   "cell_type": "code",
   "execution_count": 100,
   "outputs": [
    {
     "data": {
      "text/plain": "array([ 108, 1087,  878,  111, 1793,    5, 1053,   14,   84,  570, 1686,\n        152,    0, 2064,  617,  261,  508,  170,   38,  664,  739, 1556,\n        467,  468, 2362,   66,   54, 1192,   46,   16, 1558,  115, 1163,\n         45,  441,  868, 1315,   63,   10,   27,   23,  538,   47,   86,\n         13,  329,  117, 1889,  141, 2128,  148,    1,  611,    9,  397,\n       1208, 1945, 2212,   70,  712,   50, 2375,  653,  904,   71, 1704,\n        424,  546,  466,  216,    4,   44,  930, 1227, 1792,  319, 1683,\n         12,    2, 1665,   76,  138,  249,   25,  250,  287,  132,  305,\n         61,  786, 1037,   36,  376, 1040, 1679,  970,  494,   24,  587,\n         34,  550,   97, 1831,  882,  872,  894,  326,  891, 2182,  348,\n         74,   48,  862, 2144,  671, 1443,  588,  568,  544,  289,  807,\n       1819,  171,    6,  211,  731, 2233,   29, 1297,  362,  605,   56,\n       1784,  229,  385,    7,   15,   33,    8, 1157,  236,  409,  338,\n       2025,   65,  200,  184,  106, 2222,  251, 1303,  916,  308, 2032,\n         26,  205,  975, 2002, 1961,   28,   39, 1677, 1279, 1747,  586,\n       1524, 2342,  388, 2130,  116,   40,  742,  395,  192,  356,  827,\n       1504, 1674,  518, 1142,  948, 1823,  243, 1475,  370,  177,   32,\n        603,  982,  255, 1562,  314, 1712,  612,  759,  447,  640,  225])"
     },
     "execution_count": 100,
     "metadata": {},
     "output_type": "execute_result"
    }
   ],
   "source": [
    "index_unique"
   ],
   "metadata": {
    "collapsed": false,
    "ExecuteTime": {
     "end_time": "2024-12-16T13:58:54.672052Z",
     "start_time": "2024-12-16T13:58:54.644550400Z"
    }
   }
  },
  {
   "cell_type": "code",
   "source": [
    "print (y_array[108,:])"
   ],
   "metadata": {
    "colab": {
     "base_uri": "https://localhost:8080/"
    },
    "id": "pghhGTTdFtUN",
    "executionInfo": {
     "status": "ok",
     "timestamp": 1734094590681,
     "user_tz": -60,
     "elapsed": 279,
     "user": {
      "displayName": "Thierry Artieres",
      "userId": "02018666546133225436"
     }
    },
    "outputId": "e1b3087d-298c-4d51-ec40-42ce507dc684",
    "ExecuteTime": {
     "end_time": "2024-12-16T13:58:56.357680600Z",
     "start_time": "2024-12-16T13:58:56.351556200Z"
    }
   },
   "execution_count": 101,
   "outputs": [
    {
     "name": "stdout",
     "output_type": "stream",
     "text": [
      "[0 0 0 0 0 0 0 0 0 0 0 1 1 0]\n"
     ]
    }
   ]
  },
  {
   "cell_type": "code",
   "source": [
    "print(reverse_unique[108])"
   ],
   "metadata": {
    "colab": {
     "base_uri": "https://localhost:8080/"
    },
    "id": "p8OxiHZ_F6Z9",
    "executionInfo": {
     "status": "ok",
     "timestamp": 1734094625217,
     "user_tz": -60,
     "elapsed": 235,
     "user": {
      "displayName": "Thierry Artieres",
      "userId": "02018666546133225436"
     }
    },
    "outputId": "c8b0967d-1b88-481e-dd3e-6735838afdce",
    "ExecuteTime": {
     "end_time": "2024-12-16T13:58:56.558487700Z",
     "start_time": "2024-12-16T13:58:56.550564800Z"
    }
   },
   "execution_count": 102,
   "outputs": [
    {
     "name": "stdout",
     "output_type": "stream",
     "text": [
      "0\n"
     ]
    }
   ]
  },
  {
   "cell_type": "markdown",
   "source": [
    "Que contiennent les tableaux créés ci-dessus ?\n",
    "-> y_unique contient les lignes unique de y_array\n",
    "-> index_unique contient les indices des premières occurrences de chaque ligne unique dans y_array\n",
    "-> reverse_unique contient pour chaque ligne de y_array l'indice correspondant dans y_unique"
   ],
   "metadata": {
    "id": "uKOLWJpNEKdf"
   }
  },
  {
   "cell_type": "markdown",
   "source": [
    "Construisez les données X_trainLS, X_testLS, y_trainLS, y_testLS pour la méthode Label Set."
   ],
   "metadata": {
    "id": "v4va7_1KD_tJ"
   }
  },
  {
   "cell_type": "code",
   "source": [
    "X_trainLS, X_testLS, y_trainLS, y_testLS = train_test_split(X, reverse_unique, random_state=0, train_size=0.7)"
   ],
   "metadata": {
    "id": "WV5Hji_2EIbA",
    "ExecuteTime": {
     "end_time": "2024-12-16T15:21:17.304109400Z",
     "start_time": "2024-12-16T15:21:17.289397700Z"
    }
   },
   "execution_count": 103,
   "outputs": []
  },
  {
   "cell_type": "code",
   "execution_count": 102,
   "outputs": [],
   "source": [],
   "metadata": {
    "collapsed": false,
    "ExecuteTime": {
     "end_time": "2024-12-16T15:21:12.372121500Z",
     "start_time": "2024-12-16T15:21:12.370615400Z"
    }
   }
  },
  {
   "cell_type": "code",
   "execution_count": 102,
   "outputs": [],
   "source": [],
   "metadata": {
    "collapsed": false,
    "ExecuteTime": {
     "end_time": "2024-12-16T15:21:13.330746700Z",
     "start_time": "2024-12-16T15:21:13.328239500Z"
    }
   }
  },
  {
   "cell_type": "code",
   "execution_count": null,
   "outputs": [],
   "source": [],
   "metadata": {
    "collapsed": false
   }
  },
  {
   "cell_type": "markdown",
   "source": [
    "## Expériences"
   ],
   "metadata": {
    "id": "rDnxtTvKeHwg"
   }
  },
  {
   "cell_type": "markdown",
   "source": [
    "La fonction `reconstruit_y` ci-dessous reconstruit les prédictions du modèle appris avec la méthode Label Set au format attendu par les métriques de performance définies plus haut. Expliquez le fonctionnement de cette fonction."
   ],
   "metadata": {
    "id": "2989WYRJERv-"
   }
  },
  {
   "cell_type": "code",
   "source": [
    "def reconstruit_y(yLS,  LS ): # reconstruit les vecteurs y (vecteurs d'indicateurs de labels yLS) à partir des LS (les labelsets)\n",
    "  y_temp = [LS[ yLS[i]] for i in range(len(yLS))]\n",
    "  y_temp = np.concatenate( y_temp, axis=0 )\n",
    "  y_temp = y_temp.reshape((yLS.shape[0],LS.shape[1]))\n",
    "  return y_temp"
   ],
   "metadata": {
    "id": "3jwKaNuz2De-",
    "ExecuteTime": {
     "end_time": "2024-12-16T13:23:05.322745200Z",
     "start_time": "2024-12-16T13:23:05.314732700Z"
    }
   },
   "execution_count": 81,
   "outputs": []
  },
  {
   "cell_type": "markdown",
   "source": [
    "Faites quelques expériences avec la méthode Label Set."
   ],
   "metadata": {
    "id": "m48NJr1PEvHG"
   }
  },
  {
   "cell_type": "code",
   "source": [
    "clf_LS = LogisticRegression(max_iter=1000)\n",
    "clf_LS.fit(X_trainLS, y_trainLS)\n",
    "\n",
    "y_predLS = clf_LS.predict(X_testLS)\n",
    "\n",
    "y_pred_reconstructed = reconstruit_y(y_predLS, y_unique)\n",
    "y_test_reconstructed = reconstruit_y(y_testLS, y_unique)"
   ],
   "metadata": {
    "id": "CxcivH9gE086",
    "ExecuteTime": {
     "end_time": "2024-12-16T15:23:55.628304400Z",
     "start_time": "2024-12-16T15:23:54.650530500Z"
    }
   },
   "execution_count": 106,
   "outputs": []
  },
  {
   "cell_type": "code",
   "execution_count": 107,
   "outputs": [
    {
     "name": "stdout",
     "output_type": "stream",
     "text": [
      "Accuracy :  0.7658402203856749\n",
      "Hamming Distance :  11.017906336088155\n",
      "F1 Score :  0.3769438722563896\n"
     ]
    }
   ],
   "source": [
    "print(\"Accuracy : \", get_accuracy_score(y_pred_reconstructed, y_test_reconstructed))\n",
    "print(\"Hamming Distance : \", HammingDistance_score(y_pred_reconstructed, y_test_reconstructed))\n",
    "print(\"F1 Score : \", f1_score(y_test_reconstructed, y_pred_reconstructed, average='macro'))"
   ],
   "metadata": {
    "collapsed": false,
    "ExecuteTime": {
     "end_time": "2024-12-16T15:23:57.378005100Z",
     "start_time": "2024-12-16T15:23:57.370994400Z"
    }
   }
  },
  {
   "cell_type": "markdown",
   "metadata": {
    "id": "w5JavgdyplMD"
   },
   "source": [
    "## Task 3: Implement the Classifier Chains Algorithm"
   ]
  },
  {
   "cell_type": "markdown",
   "source": [
    "Complétez la classe suivante qui implémente les classifier Chains.\n"
   ],
   "metadata": {
    "id": "JmORXAgJFG1J"
   }
  },
  {
   "cell_type": "code",
   "execution_count": 108,
   "metadata": {
    "id": "mooZdGtUplMD",
    "ExecuteTime": {
     "end_time": "2024-12-16T15:33:16.467694700Z",
     "start_time": "2024-12-16T15:33:16.461456Z"
    }
   },
   "outputs": [],
   "source": [
    "class ClassifierChains(BaseEstimator, ClassifierMixin):\n",
    "\n",
    "    def __init__(self, base_model=LogisticRegression(), order=None):\n",
    "        self.base_model = base_model\n",
    "        self.order = order\n",
    "\n",
    "    def fit(self, X, y):\n",
    "        X_cpy = X.to_numpy()\n",
    "        y_cpy = y.to_numpy()\n",
    "\n",
    "        if self.order is None:\n",
    "            self.order_ = np.arange(y_cpy.shape[1])\n",
    "        else:\n",
    "            self.order_ = np.array(self.order)\n",
    "\n",
    "        self.model_list_ = []\n",
    "\n",
    "        X_train_chain = X_cpy\n",
    "        for label_index in self.order_:\n",
    "            model = clone(self.base_model)\n",
    "            model.fit(X_train_chain, y_cpy[:, label_index])\n",
    "            self.model_list_.append(model)\n",
    "            X_train_chain = np.column_stack((X_train_chain, y_cpy[:, label_index]))\n",
    "\n",
    "        return self\n",
    "\n",
    "    def predict(self, X):\n",
    "        X_test_chain = X.to_numpy()\n",
    "        y_pred_chain = []\n",
    "\n",
    "        for i, model in enumerate(self.model_list_):\n",
    "            y_pred_i = model.predict(X_test_chain)\n",
    "            y_pred_chain.append(y_pred_i)\n",
    "            X_test_chain = np.column_stack((X_test_chain, y_pred_i))\n",
    "\n",
    "\n",
    "        y_pred_matrix = np.array(y_pred_chain).T\n",
    "\n",
    "        inv_order = np.argsort(self.order_)\n",
    "        y_pred_matrix = y_pred_matrix[:, inv_order]\n",
    "\n",
    "        return y_pred_matrix\n",
    "\n",
    "    def predict_proba(self, X):\n",
    "        return None"
   ]
  },
  {
   "cell_type": "markdown",
   "source": [
    "Faites des expériences avec la méthode Classifer Chain"
   ],
   "metadata": {
    "id": "SaVaXd9pE_PR"
   }
  },
  {
   "cell_type": "code",
   "source": [
    "chain_clf = ClassifierChains(base_model=LogisticRegression(max_iter=1000))\n",
    "chain_clf.fit(X_train, y_train)\n",
    "y_pred_chain = chain_clf.predict(X_test)\n",
    "\n",
    "print(\"Accuracy : \", get_accuracy_score(y_pred_chain, y_test))\n",
    "print(\"Hamming Distance : \", HammingDistance_score(y_pred_chain, y_test))\n",
    "print(\"F1 Score : \", f1_score(y_test, y_pred_chain, average='macro'))"
   ],
   "metadata": {
    "id": "b6BdcKeeE-mk",
    "ExecuteTime": {
     "end_time": "2024-12-16T15:33:26.190527800Z",
     "start_time": "2024-12-16T15:33:26.105874Z"
    }
   },
   "execution_count": 109,
   "outputs": [
    {
     "name": "stdout",
     "output_type": "stream",
     "text": [
      "Accuracy :  0.78099173553719\n",
      "Hamming Distance :  10.980716253443527\n",
      "F1 Score :  0.38017228495944805\n"
     ]
    }
   ]
  },
  {
   "cell_type": "markdown",
   "source": [
    "# 2. Utilisation du package [scikit-multilearn](http://scikit.ml/modelselection.html)\n",
    "\n",
    "Installez ce package et utilisez le pour reproduire des expériences ci-dessus sur les mêmes données.\n",
    "\n",
    "Vosu ferez des expériences avec BR, Classifier Chain mais et des estimateurs de votre choix mais aussi avec de sméthodes naturellement transformées comme les KNN (MLKNN en version multilabel)\n",
    "\n",
    "A noter que le code du package se trouve [ici](https://github.com/scikit-multilearn/scikit-multilearn/tree/master/skmultilearn) et qu'un bug est idenfitié sur la méthode MLKNN à corriger selon [ces indications](https://stackoverflow.com/questions/74613688/typeerror-skmultilearn-error-with-multilabel-knn) en redéfinissant la classe MLKNN."
   ],
   "metadata": {
    "id": "PsbrGsvxQtPk"
   }
  },
  {
   "cell_type": "markdown",
   "source": [
    "Vous pourrez chercher les meileurs hyperparamètres avec un code tel que celui-ci pour le cas des MLKNNs.\n",
    "\n",
    "\n",
    "```\n",
    "from sklearn.model_selection import GridSearchCV\n",
    "\n",
    "\n",
    "parameters = {'k': range(1,20)}\n",
    "score = 'f1_weighted'\n",
    "\n",
    "classifier = GridSearchCV(MLkNN(), parameters, scoring=score)\n",
    "classifier.fit(X, y)\n",
    "\n",
    "classifier.best_params_, classifier.best_score_\n",
    "```\n",
    "\n"
   ],
   "metadata": {
    "id": "Z7_4opEmSBTv"
   }
  },
  {
   "cell_type": "code",
   "execution_count": 135,
   "outputs": [],
   "source": [
    "from skmultilearn.problem_transform import BinaryRelevance, ClassifierChain\n",
    "from skmultilearn.adapt import MLkNN"
   ],
   "metadata": {
    "collapsed": false,
    "ExecuteTime": {
     "end_time": "2024-12-16T15:43:51.302802500Z",
     "start_time": "2024-12-16T15:43:51.299294700Z"
    }
   }
  },
  {
   "cell_type": "code",
   "source": [
    "mlknn_clf = MLkNN()\n",
    "mlknn_clf.fit(X_train, y_train)\n",
    "y_pred_mlknn = mlknn_clf.predict(X_test)\n"
   ],
   "metadata": {
    "id": "7gtwTjuYR3l_",
    "ExecuteTime": {
     "end_time": "2024-12-16T15:44:57.272751300Z",
     "start_time": "2024-12-16T15:44:57.244882100Z"
    }
   },
   "execution_count": 140,
   "outputs": [
    {
     "ename": "TypeError",
     "evalue": "NearestNeighbors.__init__() takes 1 positional argument but 2 were given",
     "output_type": "error",
     "traceback": [
      "\u001B[1;31m---------------------------------------------------------------------------\u001B[0m",
      "\u001B[1;31mTypeError\u001B[0m                                 Traceback (most recent call last)",
      "Cell \u001B[1;32mIn[140], line 2\u001B[0m\n\u001B[0;32m      1\u001B[0m mlknn_clf \u001B[38;5;241m=\u001B[39m MLkNN()\n\u001B[1;32m----> 2\u001B[0m \u001B[43mmlknn_clf\u001B[49m\u001B[38;5;241;43m.\u001B[39;49m\u001B[43mfit\u001B[49m\u001B[43m(\u001B[49m\u001B[43mX_train\u001B[49m\u001B[43m,\u001B[49m\u001B[43m \u001B[49m\u001B[43my_train\u001B[49m\u001B[43m)\u001B[49m\n\u001B[0;32m      3\u001B[0m y_pred_mlknn \u001B[38;5;241m=\u001B[39m mlknn_clf\u001B[38;5;241m.\u001B[39mpredict(X_test)\n",
      "File \u001B[1;32mC:\\ProgramData\\anaconda3\\envs\\python312\\Lib\\site-packages\\skmultilearn\\adapt\\mlknn.py:218\u001B[0m, in \u001B[0;36mMLkNN.fit\u001B[1;34m(self, X, y)\u001B[0m\n\u001B[0;32m    216\u001B[0m \u001B[38;5;28mself\u001B[39m\u001B[38;5;241m.\u001B[39m_prior_prob_true, \u001B[38;5;28mself\u001B[39m\u001B[38;5;241m.\u001B[39m_prior_prob_false \u001B[38;5;241m=\u001B[39m \u001B[38;5;28mself\u001B[39m\u001B[38;5;241m.\u001B[39m_compute_prior(\u001B[38;5;28mself\u001B[39m\u001B[38;5;241m.\u001B[39m_label_cache)\n\u001B[0;32m    217\u001B[0m \u001B[38;5;66;03m# Computing the posterior probabilities\u001B[39;00m\n\u001B[1;32m--> 218\u001B[0m \u001B[38;5;28mself\u001B[39m\u001B[38;5;241m.\u001B[39m_cond_prob_true, \u001B[38;5;28mself\u001B[39m\u001B[38;5;241m.\u001B[39m_cond_prob_false \u001B[38;5;241m=\u001B[39m \u001B[38;5;28;43mself\u001B[39;49m\u001B[38;5;241;43m.\u001B[39;49m\u001B[43m_compute_cond\u001B[49m\u001B[43m(\u001B[49m\u001B[43mX\u001B[49m\u001B[43m,\u001B[49m\u001B[43m \u001B[49m\u001B[38;5;28;43mself\u001B[39;49m\u001B[38;5;241;43m.\u001B[39;49m\u001B[43m_label_cache\u001B[49m\u001B[43m)\u001B[49m\n\u001B[0;32m    219\u001B[0m \u001B[38;5;28;01mreturn\u001B[39;00m \u001B[38;5;28mself\u001B[39m\n",
      "File \u001B[1;32mC:\\ProgramData\\anaconda3\\envs\\python312\\Lib\\site-packages\\skmultilearn\\adapt\\mlknn.py:165\u001B[0m, in \u001B[0;36mMLkNN._compute_cond\u001B[1;34m(self, X, y)\u001B[0m\n\u001B[0;32m    146\u001B[0m \u001B[38;5;28;01mdef\u001B[39;00m \u001B[38;5;21m_compute_cond\u001B[39m(\u001B[38;5;28mself\u001B[39m, X, y):\n\u001B[0;32m    147\u001B[0m \u001B[38;5;250m    \u001B[39m\u001B[38;5;124;03m\"\"\"Helper function to compute for the posterior probabilities\u001B[39;00m\n\u001B[0;32m    148\u001B[0m \n\u001B[0;32m    149\u001B[0m \u001B[38;5;124;03m    Parameters\u001B[39;00m\n\u001B[1;32m   (...)\u001B[0m\n\u001B[0;32m    162\u001B[0m \u001B[38;5;124;03m        the posterior probability given false\u001B[39;00m\n\u001B[0;32m    163\u001B[0m \u001B[38;5;124;03m    \"\"\"\u001B[39;00m\n\u001B[1;32m--> 165\u001B[0m     \u001B[38;5;28mself\u001B[39m\u001B[38;5;241m.\u001B[39mknn_ \u001B[38;5;241m=\u001B[39m \u001B[43mNearestNeighbors\u001B[49m\u001B[43m(\u001B[49m\u001B[38;5;28;43mself\u001B[39;49m\u001B[38;5;241;43m.\u001B[39;49m\u001B[43mk\u001B[49m\u001B[43m)\u001B[49m\u001B[38;5;241m.\u001B[39mfit(X)\n\u001B[0;32m    166\u001B[0m     c \u001B[38;5;241m=\u001B[39m sparse\u001B[38;5;241m.\u001B[39mlil_matrix((\u001B[38;5;28mself\u001B[39m\u001B[38;5;241m.\u001B[39m_num_labels, \u001B[38;5;28mself\u001B[39m\u001B[38;5;241m.\u001B[39mk \u001B[38;5;241m+\u001B[39m \u001B[38;5;241m1\u001B[39m), dtype\u001B[38;5;241m=\u001B[39m\u001B[38;5;124m'\u001B[39m\u001B[38;5;124mi8\u001B[39m\u001B[38;5;124m'\u001B[39m)\n\u001B[0;32m    167\u001B[0m     cn \u001B[38;5;241m=\u001B[39m sparse\u001B[38;5;241m.\u001B[39mlil_matrix((\u001B[38;5;28mself\u001B[39m\u001B[38;5;241m.\u001B[39m_num_labels, \u001B[38;5;28mself\u001B[39m\u001B[38;5;241m.\u001B[39mk \u001B[38;5;241m+\u001B[39m \u001B[38;5;241m1\u001B[39m), dtype\u001B[38;5;241m=\u001B[39m\u001B[38;5;124m'\u001B[39m\u001B[38;5;124mi8\u001B[39m\u001B[38;5;124m'\u001B[39m)\n",
      "\u001B[1;31mTypeError\u001B[0m: NearestNeighbors.__init__() takes 1 positional argument but 2 were given"
     ]
    }
   ]
  },
  {
   "cell_type": "code",
   "execution_count": null,
   "outputs": [],
   "source": [],
   "metadata": {
    "collapsed": false
   }
  }
 ],
 "metadata": {
  "kernelspec": {
   "display_name": "Python 3",
   "language": "python",
   "name": "python3"
  },
  "language_info": {
   "codemirror_mode": {
    "name": "ipython",
    "version": 3
   },
   "file_extension": ".py",
   "mimetype": "text/x-python",
   "name": "python",
   "nbconvert_exporter": "python",
   "pygments_lexer": "ipython3",
   "version": "3.7.6"
  },
  "toc": {
   "base_numbering": 1,
   "nav_menu": {},
   "number_sections": true,
   "sideBar": true,
   "skip_h1_title": false,
   "title_cell": "Table of Contents",
   "title_sidebar": "Contents",
   "toc_cell": false,
   "toc_position": {},
   "toc_section_display": true,
   "toc_window_display": false
  },
  "colab": {
   "provenance": [
    {
     "file_id": "1ORtrTAx5SjAqFyqANTrai-UYOsy6cnW-",
     "timestamp": 1733829331992
    },
    {
     "file_id": "1olnmtwMCtz4t72PEvHPxlhWY3bjzIxsL",
     "timestamp": 1733769929964
    }
   ],
   "collapsed_sections": [
    "cdLjn4pEplL-"
   ]
  }
 },
 "nbformat": 4,
 "nbformat_minor": 0
}
