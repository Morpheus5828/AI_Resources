{
  "nbformat": 4,
  "nbformat_minor": 0,
  "metadata": {
    "colab": {
      "provenance": []
    },
    "kernelspec": {
      "name": "python3",
      "display_name": "Python 3"
    }
  },
  "cells": [
    {
      "cell_type": "markdown",
      "metadata": {
        "id": "oV8I0-MfrGd4"
      },
      "source": [
        "# TP 2"
      ]
    },
    {
      "cell_type": "markdown",
      "metadata": {
        "id": "ifg2_0hCrVO0"
      },
      "source": [
        "## Régression de faible rang sur des données simulées"
      ]
    },
    {
      "cell_type": "markdown",
      "metadata": {
        "id": "8PbkklLyrlwn"
      },
      "source": [
        "\n",
        "\n",
        "*   Créer une matrice de rang faible $W$. Afficher la matrice avec la commande `imshow`.\n",
        "\n",
        "\n",
        "\n"
      ]
    },
    {
      "cell_type": "code",
      "metadata": {
        "id": "VZOh9X9IuT-a",
        "outputId": "32dc5556-d216-45e3-87cb-8a610fdbb309",
        "colab": {
          "base_uri": "https://localhost:8080/",
          "height": 282
        }
      },
      "source": [
        "# A compléter"
      ],
      "execution_count": null,
      "outputs": [
        {
          "output_type": "execute_result",
          "data": {
            "text/plain": [
              "<matplotlib.image.AxesImage at 0x7fdcd8a2fbe0>"
            ]
          },
          "metadata": {
            "tags": []
          },
          "execution_count": 187
        },
        {
          "output_type": "display_data",
          "data": {
            "image/png": "[encoded data removed]",
            "text/plain": [
              "<Figure size 432x288 with 1 Axes>"
            ]
          },
          "metadata": {
            "tags": [],
            "needs_background": "light"
          }
        }
      ]
    },
    {
      "cell_type": "markdown",
      "metadata": {
        "id": "4GsQcFNwjTtl"
      },
      "source": [
        "*   Générer des données d'apprentissage $\\{(x_i,y_i), i=1,\\ldots,n\\}$ suivant le modèle $y_i = Wx_i + \\epsilon_i$."
      ]
    },
    {
      "cell_type": "code",
      "metadata": {
        "id": "yfMuswKGjUxk"
      },
      "source": [
        "# A compléter\n"
      ],
      "execution_count": null,
      "outputs": []
    },
    {
      "cell_type": "markdown",
      "metadata": {
        "id": "q_gOm5TUjVNV"
      },
      "source": [
        "* Implémenter la méthode de régression de faible rang.\n",
        "\n"
      ]
    },
    {
      "cell_type": "code",
      "source": [
        "# A compléter"
      ],
      "metadata": {
        "id": "03xLNBLTFk6z"
      },
      "execution_count": null,
      "outputs": []
    },
    {
      "cell_type": "markdown",
      "metadata": {
        "id": "0SkSoCbcjVxH"
      },
      "source": [
        "* Evaluer les performances de prédiction de la régression de faible rang sur un jeu de données test. Comparer les résultats avec la régression par moindre carrés.\n",
        "\n"
      ]
    },
    {
      "cell_type": "code",
      "source": [
        "# A compléter"
      ],
      "metadata": {
        "id": "Gu6uhpSaFf9I"
      },
      "execution_count": null,
      "outputs": []
    },
    {
      "cell_type": "markdown",
      "metadata": {
        "id": "5mxUuCkwjWWB"
      },
      "source": [
        "* Afficher les matrices de paramètres $W_r$ et $W_{LS}$ obtenues par les deux méthodes et comparer les résultats.\n"
      ]
    },
    {
      "cell_type": "code",
      "metadata": {
        "id": "PsxhUy57jniZ",
        "outputId": "66738596-963b-4564-d2d2-949e67cb625b",
        "colab": {
          "base_uri": "https://localhost:8080/",
          "height": 182
        }
      },
      "source": [
        "# A compléter"
      ],
      "execution_count": null,
      "outputs": [
        {
          "output_type": "stream",
          "text": [
            "Reconstruction_err_Wls: 1.71107982884084\n",
            "Reconstruction_err_Wr: 0.7120204541080817\n"
          ],
          "name": "stdout"
        },
        {
          "output_type": "display_data",
          "data": {
            "image/png": "[encoded data removed]",
            "text/plain": [
              "<Figure size 432x288 with 3 Axes>"
            ]
          },
          "metadata": {
            "tags": [],
            "needs_background": "light"
          }
        }
      ]
    },
    {
      "cell_type": "markdown",
      "metadata": {
        "id": "UNqr6e2Xjnv8"
      },
      "source": [
        "* Evaluer l'impact du choix du rang sur les résultats."
      ]
    },
    {
      "cell_type": "code",
      "metadata": {
        "id": "CMWtAcplj7tb"
      },
      "source": [
        "# A compléter"
      ],
      "execution_count": null,
      "outputs": []
    },
    {
      "cell_type": "markdown",
      "metadata": {
        "id": "ydeYvbl2uWHx"
      },
      "source": [
        "## Apprentissage multi-tâche et régularisation"
      ]
    },
    {
      "cell_type": "markdown",
      "metadata": {
        "id": "KKhFnEO1ud3F"
      },
      "source": [
        "\n",
        "\n",
        "*   Télécharger un jeu de données d'apprentissage multi-tâche. (Vous pouvez utiliser un jeu de données de régression multivariée)\n",
        "\n",
        "*   La régression multitaskLasso est déjà implémenté dans le module `linear_model` de scikit-learn. Expliquer le fonctionnement de cette méthode.\n",
        "\n",
        "\n",
        "*   Comparer les méthodes de régression ridge, régression Lasso, régression à rang faible et régression multitaskLasso.\n",
        "\n"
      ]
    },
    {
      "cell_type": "code",
      "metadata": {
        "id": "YHkjNffvuc1c"
      },
      "source": [
        "# A compléter"
      ],
      "execution_count": null,
      "outputs": []
    }
  ]
}