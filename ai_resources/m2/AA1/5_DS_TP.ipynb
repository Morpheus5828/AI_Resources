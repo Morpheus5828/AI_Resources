{
 "nbformat": 4,
 "nbformat_minor": 0,
 "metadata": {
  "colab": {
   "provenance": [],
   "gpuType": "T4",
   "authorship_tag": "ABX9TyPJk/ggYdXHpSc1JOqwhdRD"
  },
  "kernelspec": {
   "name": "python3",
   "language": "python",
   "display_name": "Python 3 (ipykernel)"
  },
  "language_info": {
   "name": "python"
  },
  "accelerator": "GPU"
 },
 "cells": [
  {
   "cell_type": "markdown",
   "source": [
    "# Building a regression model in pytorch"
   ],
   "metadata": {
    "id": "kqoZ7gWZQbtP"
   }
  },
  {
   "cell_type": "markdown",
   "source": [
    "## Imports and data download"
   ],
   "metadata": {
    "id": "0w2qrXRCrH19"
   }
  },
  {
   "cell_type": "code",
   "source": [
    "import torch\n",
    "import torch.nn as nn\n",
    "import matplotlib.pyplot as plt\n",
    "import tqdm\n",
    "from sklearn.model_selection import train_test_split\n",
    "from sklearn.datasets import fetch_california_housing\n",
    "from sklearn.preprocessing import StandardScaler\n",
    "import warnings\n",
    "warnings.filterwarnings('ignore')"
   ],
   "metadata": {
    "id": "Q87z9dR3rTUy",
    "ExecuteTime": {
     "end_time": "2024-10-18T13:18:01.880914600Z",
     "start_time": "2024-10-18T13:17:55.256325800Z"
    }
   },
   "execution_count": 1,
   "outputs": []
  },
  {
   "cell_type": "code",
   "source": [
    "# Read data\n",
    "data = fetch_california_housing()\n",
    "X, y = data.data, data.target\n",
    "\n",
    "# train-test split for model evaluation\n",
    "X_train, X_test, y_train, y_test = train_test_split(X, y, train_size=0.7, shuffle=True)\n",
    "\n",
    "# Convert to 2D PyTorch tensors\n",
    "X_train = torch.tensor(X_train, dtype=torch.float32)\n",
    "y_train = torch.tensor(y_train, dtype=torch.float32).reshape(-1, 1)\n",
    "X_test = torch.tensor(X_test, dtype=torch.float32)\n",
    "y_test = torch.tensor(y_test, dtype=torch.float32).reshape(-1, 1)"
   ],
   "metadata": {
    "id": "UNfG68LyQutQ",
    "ExecuteTime": {
     "end_time": "2024-10-18T13:18:01.938966700Z",
     "start_time": "2024-10-18T13:18:01.881915500Z"
    }
   },
   "execution_count": 2,
   "outputs": []
  },
  {
   "cell_type": "code",
   "source": [
    "print(X_train.min(axis=0), X_train.max(axis=0) , X_train.mean(axis=0), X_train.std(axis=0))"
   ],
   "metadata": {
    "id": "B7ywcRaUwmju",
    "ExecuteTime": {
     "end_time": "2024-10-18T13:18:01.945973100Z",
     "start_time": "2024-10-18T13:18:01.909940500Z"
    }
   },
   "execution_count": 3,
   "outputs": [
    {
     "name": "stdout",
     "output_type": "stream",
     "text": [
      "torch.return_types.min(\n",
      "values=tensor([   0.4999,    1.0000,    0.8462,    0.3333,    5.0000,    0.6923,\n",
      "          32.5400, -124.3500]),\n",
      "indices=tensor([  256, 13525,  8146,   700,   351, 13779,  8542,  1337])) torch.return_types.max(\n",
      "values=tensor([ 1.5000e+01,  5.2000e+01,  1.3253e+02,  3.4067e+01,  2.8566e+04,\n",
      "         1.2433e+03,  4.1950e+01, -1.1447e+02]),\n",
      "indices=tensor([ 1234,     1,  4560,  4560,  7972,  6855,  8570, 12367])) tensor([ 3.8655e+00,  2.8735e+01,  5.4034e+00,  1.0917e+00,  1.4229e+03,\n",
      "         3.1240e+00,  3.5631e+01, -1.1957e+02]) tensor([1.8971e+00, 1.2574e+01, 2.1687e+00, 4.2155e-01, 1.1065e+03, 1.2377e+01,\n",
      "        2.1296e+00, 2.0013e+00])\n"
     ]
    }
   ]
  },
  {
   "cell_type": "code",
   "source": [
    "print(y_train.min(), y_train.max() , y_train.mean())"
   ],
   "metadata": {
    "id": "UsDcbVKvwmjv",
    "ExecuteTime": {
     "end_time": "2024-10-18T13:18:01.945973100Z",
     "start_time": "2024-10-18T13:18:01.938966700Z"
    }
   },
   "execution_count": 4,
   "outputs": [
    {
     "name": "stdout",
     "output_type": "stream",
     "text": [
      "tensor(0.1500) tensor(5.0000) tensor(2.0658)\n"
     ]
    }
   ]
  },
  {
   "cell_type": "code",
   "source": [
    "scalerX = StandardScaler()\n",
    "scalerY = StandardScaler()\n",
    "\n",
    "X_train = scalerX.fit_transform(X_train)\n",
    "X_test = scalerX.transform(X_test)\n",
    "\n",
    "y_train = scalerY.fit_transform(y_train)\n",
    "y_test = scalerY.transform(y_test)"
   ],
   "metadata": {
    "id": "_6gavtKJvCFd",
    "ExecuteTime": {
     "end_time": "2024-10-18T13:18:01.956983500Z",
     "start_time": "2024-10-18T13:18:01.941969400Z"
    }
   },
   "execution_count": 5,
   "outputs": []
  },
  {
   "cell_type": "code",
   "source": [
    "print(X_train.min(axis=0), X_train.max(axis=0) , X_train.mean(axis=0), X_train.std(axis=0))"
   ],
   "metadata": {
    "id": "Kcq49nB2vo9V",
    "ExecuteTime": {
     "end_time": "2024-10-18T13:18:02.002024400Z",
     "start_time": "2024-10-18T13:18:01.955983200Z"
    }
   },
   "execution_count": 6,
   "outputs": [
    {
     "name": "stdout",
     "output_type": "stream",
     "text": [
      "[-1.77413659 -2.20582858 -2.10144056 -1.79899723 -1.28142057 -0.19646774\n",
      " -1.45169145 -2.38853377] [  5.86958456   1.85031456  58.62180174  78.2264243   24.53102741\n",
      " 100.2033286    2.96709967   2.54840936] [-5.39107917e-17  5.80048688e-17  7.33437291e-17  2.18863098e-17\n",
      " -7.66558778e-17  2.12585577e-17 -1.32282301e-15  3.07983721e-16] [1. 1. 1. 1. 1. 1. 1. 1.]\n"
     ]
    }
   ]
  },
  {
   "cell_type": "code",
   "source": [
    "print(y_train.min(), y_train.max() , y_train.mean())"
   ],
   "metadata": {
    "id": "z8DqooPxvo9W",
    "ExecuteTime": {
     "end_time": "2024-10-18T13:18:02.002024400Z",
     "start_time": "2024-10-18T13:18:01.972998Z"
    }
   },
   "execution_count": 7,
   "outputs": [
    {
     "name": "stdout",
     "output_type": "stream",
     "text": [
      "-1.6559612065965525 2.5363112900221467 -7.131494198464355e-17\n"
     ]
    }
   ]
  },
  {
   "cell_type": "code",
   "source": [
    "# Convert to 2D PyTorch tensors\n",
    "X_train = torch.tensor(X_train, dtype=torch.float32)\n",
    "y_train = torch.tensor(y_train, dtype=torch.float32)\n",
    "X_test = torch.tensor(X_test, dtype=torch.float32)\n",
    "y_test = torch.tensor(y_test, dtype=torch.float32)"
   ],
   "metadata": {
    "id": "3e_n6dZGwUZt",
    "ExecuteTime": {
     "end_time": "2024-10-18T13:18:02.010031300Z",
     "start_time": "2024-10-18T13:18:01.988011800Z"
    }
   },
   "execution_count": 8,
   "outputs": []
  },
  {
   "cell_type": "markdown",
   "source": [
    "## Define a model and learn it"
   ],
   "metadata": {
    "id": "intcTXdaQ-Nk"
   }
  },
  {
   "cell_type": "code",
   "source": [
    "# Define the model\n",
    "model = nn.Sequential(\n",
    "    nn.Linear(8, 8),\n",
    "    nn.ReLU(),\n",
    "    nn.Linear(8, 8),\n",
    "    nn.ReLU(),\n",
    "    nn.Linear(8, 1)\n",
    ")"
   ],
   "metadata": {
    "id": "x1fv1KxNRFLP",
    "ExecuteTime": {
     "end_time": "2024-10-18T13:18:02.021041300Z",
     "start_time": "2024-10-18T13:18:02.005027100Z"
    }
   },
   "execution_count": 9,
   "outputs": []
  },
  {
   "cell_type": "code",
   "source": [
    "def reinit_model(model):\n",
    "  for layer in model.children():\n",
    "   if hasattr(layer, 'reset_parameters'):\n",
    "       layer.reset_parameters()"
   ],
   "metadata": {
    "id": "jQMZ4TSG-M3h",
    "ExecuteTime": {
     "end_time": "2024-10-18T13:18:02.063079400Z",
     "start_time": "2024-10-18T13:18:02.018038900Z"
    }
   },
   "execution_count": 10,
   "outputs": []
  },
  {
   "cell_type": "code",
   "source": [
    "#Useful\n",
    "batch_size=32\n",
    "epoch =1\n",
    "batch_start = torch.arange(0, len(X_train), batch_size)\n",
    "with tqdm.tqdm(batch_start, unit=\"batch\", mininterval=0) as bar:\n",
    "    bar.set_description(f\"Epoch {epoch}\")\n",
    "    for start in bar:\n",
    "        i=0"
   ],
   "metadata": {
    "id": "CSJV-YarY0JO",
    "ExecuteTime": {
     "end_time": "2024-10-18T13:18:02.204209Z",
     "start_time": "2024-10-18T13:18:02.035054100Z"
    }
   },
   "execution_count": 11,
   "outputs": [
    {
     "name": "stderr",
     "output_type": "stream",
     "text": [
      "Epoch 1: 100%|██████████| 452/452 [00:00<00:00, 2951.54batch/s]\n"
     ]
    }
   ]
  },
  {
   "cell_type": "code",
   "source": [
    "def train_model(model, n_epochs, batch_size, X_train, y_train, X_test, y_test, loss_fn, optimizer):\n",
    "    history = {\n",
    "        \"train_loss\": [],\n",
    "        \"test_loss\": []\n",
    "    }\n",
    "    batch_start = torch.arange(0, len(X_train), batch_size)\n",
    "\n",
    "    for epoch in range(n_epochs):\n",
    "        model.train()\n",
    "        running_loss = 0.0\n",
    "        N = 1\n",
    "\n",
    "        for start in batch_start:\n",
    "            # Take a batch of data\n",
    "            X_batch = X_train[start:start+batch_size]\n",
    "            y_batch = y_train[start:start+batch_size]\n",
    "\n",
    "            # Forward pass\n",
    "            output = model(X_batch)\n",
    "            loss = loss_fn(output, y_batch)\n",
    "\n",
    "            # Backward pass and optimization\n",
    "            optimizer.zero_grad()\n",
    "            loss.backward()\n",
    "            optimizer.step()\n",
    "\n",
    "            # Accumulate the running loss\n",
    "            running_loss += loss.item()\n",
    "            N += 1\n",
    "\n",
    "        train_loss = running_loss / N\n",
    "        history[\"train_loss\"].append(train_loss)\n",
    "\n",
    "        # Evaluate the model on the test set\n",
    "        model.eval()\n",
    "        with torch.no_grad():  # Disable gradient calculation for evaluation\n",
    "            output = model(X_test)\n",
    "            loss = loss_fn(output, y_test)\n",
    "            history[\"test_loss\"].append(loss.item())\n",
    "\n",
    "        print(f'Epoch [{epoch+1}/{n_epochs}], Train Loss: {train_loss:.4f}, Test Loss: {loss.item():.4f}')\n",
    "\n",
    "    return history"
   ],
   "metadata": {
    "id": "8cLtE7zZRFLQ",
    "ExecuteTime": {
     "end_time": "2024-10-18T13:18:05.804301100Z",
     "start_time": "2024-10-18T13:18:05.782281400Z"
    }
   },
   "execution_count": 12,
   "outputs": []
  },
  {
   "cell_type": "code",
   "execution_count": 13,
   "outputs": [
    {
     "name": "stdout",
     "output_type": "stream",
     "text": [
      "torch.Size([32, 8])\n"
     ]
    }
   ],
   "source": [
    "reinit_model(model)\n",
    "\n",
    "batch_size = 32\n",
    "n_epoch = 5\n",
    "optimizer = torch.optim.Adam(model.parameters(), lr=1e-3)\n",
    "criterion = nn.MSELoss()\n",
    "\n",
    "history_1 = train_model(model, n_epoch, batch_size, X_train, y_train, X_test, y_test, criterion, optimizer)"
   ],
   "metadata": {
    "collapsed": false,
    "ExecuteTime": {
     "end_time": "2024-10-18T13:18:08.621506100Z",
     "start_time": "2024-10-18T13:18:07.774738200Z"
    }
   }
  },
  {
   "cell_type": "markdown",
   "source": [
    "# To do\n",
    "\n",
    "1.   Learn few model with MSE Loss in order to achieve reasonable loss (to be defined). This will allow you to select an architecture with an optimizer, a bacth size etc to perform next experiments\n",
    "2.   Add a small noise (e.g. gaussian noise with null mean and variance 0.1 or 0.2) to the target to predict, and measure how the performance of above selected predictor degrades when trainign with such data.\n",
    "3. Define an $\\epsilon$-insensitive loss function for the MSE loss. The $\\epsilon$-insensitive loss function is defined as $min(mse- \\epsilon,0)$. What is the effect if such a loss ?\n",
    "4. Use the above loss function (with different values of $\\epsilon$) for learning while testing is still evaluated with MSE loss. Comment the results obtained.  \n",
    "\n"
   ],
   "metadata": {
    "id": "ZmG6fSPyhSs9"
   }
  },
  {
   "cell_type": "code",
   "execution_count": 94,
   "outputs": [],
   "source": [
    "class EpsilonInsensitiveMSELoss(nn.Module):\n",
    "    __constant__ = ['reduction']\n",
    "    def __init__(self, epsilon: float = 1.0, reduction: str = 'mean'):\n",
    "        super().__init__()\n",
    "        self.epsilon = epsilon\n",
    "        self.reduction = reduction\n",
    "\n",
    "    def forward(self, input, target):\n",
    "        mse_loss = nn.functional.mse_loss(input, target, reduction=self.reduction)\n",
    "        return torch.clamp(mse_loss - self.epsilon, min=0.0)"
   ],
   "metadata": {
    "collapsed": false,
    "ExecuteTime": {
     "end_time": "2024-10-17T10:01:54.986559200Z",
     "start_time": "2024-10-17T10:01:54.972042100Z"
    }
   }
  },
  {
   "cell_type": "code",
   "execution_count": 95,
   "outputs": [],
   "source": [
    "epsilon_loss_fn = EpsilonInsensitiveMSELoss(epsilon=0.5)"
   ],
   "metadata": {
    "collapsed": false,
    "ExecuteTime": {
     "end_time": "2024-10-17T10:01:55.000572Z",
     "start_time": "2024-10-17T10:01:54.985558700Z"
    }
   }
  },
  {
   "cell_type": "code",
   "execution_count": 99,
   "outputs": [],
   "source": [
    "def epsilon_train_model(model, n_epochs, batch_size, X_train, y_train, X_test, y_test, loss_fn, epsilon_loss_fn, optimizer):\n",
    "    history = {\n",
    "        \"train_loss\": [],\n",
    "        \"test_loss\": []\n",
    "    }\n",
    "    batch_start = torch.arange(0, len(X_train), batch_size)\n",
    "\n",
    "    for epoch in range(n_epochs):\n",
    "        model.train()\n",
    "        running_loss = 0.0\n",
    "        N = 1\n",
    "\n",
    "        for start in batch_start:\n",
    "            # Take a batch of data\n",
    "            X_batch = X_train[start:start+batch_size]\n",
    "            y_batch = y_train[start:start+batch_size]\n",
    "\n",
    "            # Forward pass\n",
    "            output = model(X_batch)\n",
    "            loss = epsilon_loss_fn(output, y_batch)\n",
    "\n",
    "            # Backward pass and optimization\n",
    "            optimizer.zero_grad()\n",
    "            loss.backward()\n",
    "            optimizer.step()\n",
    "\n",
    "            # Accumulate the running loss\n",
    "            running_loss += loss.item()\n",
    "            N += 1\n",
    "\n",
    "        train_loss = running_loss / N\n",
    "        history[\"train_loss\"].append(train_loss)\n",
    "\n",
    "        model.eval()\n",
    "        with torch.no_grad():\n",
    "            output = model(X_test)\n",
    "            loss = loss_fn(output, y_test)\n",
    "            history[\"test_loss\"].append(loss.item())\n",
    "\n",
    "        print(f'Epoch [{epoch+1}/{n_epochs}], Train Loss: {train_loss:.4f}, Test Loss: {loss.item():.4f}')\n",
    "\n",
    "    return history"
   ],
   "metadata": {
    "collapsed": false,
    "ExecuteTime": {
     "end_time": "2024-10-17T10:03:31.802280500Z",
     "start_time": "2024-10-17T10:03:31.797275100Z"
    }
   }
  },
  {
   "cell_type": "code",
   "execution_count": 106,
   "outputs": [
    {
     "name": "stdout",
     "output_type": "stream",
     "text": [
      "Epoch [1/10], Train Loss: 0.2919, Test Loss: 0.9495\n",
      "Epoch [2/10], Train Loss: 0.1894, Test Loss: 0.8450\n",
      "Epoch [3/10], Train Loss: 0.1231, Test Loss: 0.7610\n",
      "Epoch [4/10], Train Loss: 0.0791, Test Loss: 0.6962\n",
      "Epoch [5/10], Train Loss: 0.0538, Test Loss: 0.6497\n",
      "Epoch [6/10], Train Loss: 0.0391, Test Loss: 0.6147\n",
      "Epoch [7/10], Train Loss: 0.0300, Test Loss: 0.5876\n",
      "Epoch [8/10], Train Loss: 0.0240, Test Loss: 0.5667\n",
      "Epoch [9/10], Train Loss: 0.0202, Test Loss: 0.5503\n",
      "Epoch [10/10], Train Loss: 0.0175, Test Loss: 0.5371\n"
     ]
    }
   ],
   "source": [
    "reinit_model(model)\n",
    "\n",
    "batch_size = 32\n",
    "n_epoch = 10\n",
    "optimizer = torch.optim.Adam(model.parameters(), lr=1e-4)\n",
    "criterion = nn.MSELoss()\n",
    "\n",
    "history_2 = epsilon_train_model(model, n_epoch, batch_size, X_train, y_train, X_test, y_test, criterion, epsilon_loss_fn, optimizer)"
   ],
   "metadata": {
    "collapsed": false,
    "ExecuteTime": {
     "end_time": "2024-10-17T10:10:00.984281400Z",
     "start_time": "2024-10-17T10:09:57.467408100Z"
    }
   }
  },
  {
   "cell_type": "code",
   "execution_count": 110,
   "outputs": [
    {
     "name": "stdout",
     "output_type": "stream",
     "text": [
      "Epoch [1/10], Train Loss: 0.8487, Test Loss: 0.9835\n",
      "Epoch [2/10], Train Loss: 0.7550, Test Loss: 0.8838\n",
      "Epoch [3/10], Train Loss: 0.6359, Test Loss: 0.7613\n",
      "Epoch [4/10], Train Loss: 0.5073, Test Loss: 0.6537\n",
      "Epoch [5/10], Train Loss: 0.4070, Test Loss: 0.5869\n",
      "Epoch [6/10], Train Loss: 0.3485, Test Loss: 0.5542\n",
      "Epoch [7/10], Train Loss: 0.3181, Test Loss: 0.5350\n",
      "Epoch [8/10], Train Loss: 0.2987, Test Loss: 0.5186\n",
      "Epoch [9/10], Train Loss: 0.2830, Test Loss: 0.5025\n",
      "Epoch [10/10], Train Loss: 0.2692, Test Loss: 0.4868\n",
      "Epoch [1/10], Train Loss: 0.6924, Test Loss: 1.0406\n",
      "Epoch [2/10], Train Loss: 0.6555, Test Loss: 0.9943\n",
      "Epoch [3/10], Train Loss: 0.5982, Test Loss: 0.9166\n",
      "Epoch [4/10], Train Loss: 0.5040, Test Loss: 0.8021\n",
      "Epoch [5/10], Train Loss: 0.3846, Test Loss: 0.6752\n",
      "Epoch [6/10], Train Loss: 0.2747, Test Loss: 0.5722\n",
      "Epoch [7/10], Train Loss: 0.1978, Test Loss: 0.5050\n",
      "Epoch [8/10], Train Loss: 0.1555, Test Loss: 0.4671\n",
      "Epoch [9/10], Train Loss: 0.1335, Test Loss: 0.4406\n",
      "Epoch [10/10], Train Loss: 0.1203, Test Loss: 0.4249\n",
      "Epoch [1/10], Train Loss: 0.5404, Test Loss: 1.0550\n",
      "Epoch [2/10], Train Loss: 0.4902, Test Loss: 0.9995\n",
      "Epoch [3/10], Train Loss: 0.4214, Test Loss: 0.9102\n",
      "Epoch [4/10], Train Loss: 0.3245, Test Loss: 0.7971\n",
      "Epoch [5/10], Train Loss: 0.2166, Test Loss: 0.6826\n",
      "Epoch [6/10], Train Loss: 0.1339, Test Loss: 0.6024\n",
      "Epoch [7/10], Train Loss: 0.0902, Test Loss: 0.5528\n",
      "Epoch [8/10], Train Loss: 0.0688, Test Loss: 0.5237\n",
      "Epoch [9/10], Train Loss: 0.0581, Test Loss: 0.5050\n",
      "Epoch [10/10], Train Loss: 0.0513, Test Loss: 0.4906\n",
      "Epoch [1/10], Train Loss: 0.2765, Test Loss: 0.9691\n",
      "Epoch [2/10], Train Loss: 0.2230, Test Loss: 0.8986\n",
      "Epoch [3/10], Train Loss: 0.1617, Test Loss: 0.8155\n",
      "Epoch [4/10], Train Loss: 0.1059, Test Loss: 0.7388\n",
      "Epoch [5/10], Train Loss: 0.0668, Test Loss: 0.6803\n",
      "Epoch [6/10], Train Loss: 0.0448, Test Loss: 0.6379\n",
      "Epoch [7/10], Train Loss: 0.0322, Test Loss: 0.6041\n",
      "Epoch [8/10], Train Loss: 0.0243, Test Loss: 0.5788\n",
      "Epoch [9/10], Train Loss: 0.0195, Test Loss: 0.5610\n",
      "Epoch [10/10], Train Loss: 0.0167, Test Loss: 0.5464\n"
     ]
    },
    {
     "data": {
      "text/plain": "<Figure size 1200x400 with 2 Axes>",
      "image/png": "[encoded data removed]"
     },
     "metadata": {},
     "output_type": "display_data"
    }
   ],
   "source": [
    "epsilons = [0.1, 0.3, 0.5, 0.7]\n",
    "plt.figure(figsize=(12, 4))\n",
    "for e in epsilons:\n",
    "    reinit_model(model)\n",
    "    n_epoch = 10\n",
    "    optimizer = torch.optim.Adam(model.parameters(), lr=1e-4)\n",
    "    epsilon_loss_fn = EpsilonInsensitiveMSELoss(epsilon=e)\n",
    "    history_2 = epsilon_train_model(model, n_epoch, batch_size, X_train, y_train, X_test, y_test, criterion, epsilon_loss_fn, optimizer)\n",
    "    plt.subplot(1, 2, 1)\n",
    "    plt.plot(history_2[\"train_loss\"], label=f\"Train with e={e}\")\n",
    "    plt.legend()\n",
    "    plt.title(\"Train loss\")\n",
    "    plt.xlabel(\"Epoch\")\n",
    "    plt.ylabel(\"Loss\")\n",
    "    plt.subplot(1, 2, 2)\n",
    "    plt.plot(history_2[\"test_loss\"], label=f\"Test with e={e}\")\n",
    "    plt.title(\"Test loss\")\n",
    "    plt.xlabel(\"Epoch\")\n",
    "    plt.ylabel(\"Loss\")\n",
    "    plt.legend()"
   ],
   "metadata": {
    "collapsed": false,
    "ExecuteTime": {
     "end_time": "2024-10-17T10:16:26.932033200Z",
     "start_time": "2024-10-17T10:16:13.229440800Z"
    }
   }
  },
  {
   "cell_type": "code",
   "execution_count": null,
   "outputs": [],
   "source": [],
   "metadata": {
    "collapsed": false
   }
  }
 ]
}
