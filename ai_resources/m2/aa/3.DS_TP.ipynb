{
 "cells": [
  {
   "cell_type": "code",
   "execution_count": 76,
   "metadata": {
    "collapsed": true,
    "ExecuteTime": {
     "end_time": "2024-10-03T08:51:49.714056900Z",
     "start_time": "2024-10-03T08:51:49.696877400Z"
    }
   },
   "outputs": [],
   "source": [
    "import math\n",
    "from sklearn.neighbors import KNeighborsClassifier\n",
    "from sklearn.tree import DecisionTreeClassifier\n",
    "from sklearn.svm import SVC\n",
    "from sklearn.datasets import load_wine\n",
    "from sklearn.model_selection import train_test_split, GridSearchCV, KFold\n",
    "from sklearn.metrics import accuracy_score\n",
    "import warnings\n",
    "warnings.filterwarnings('ignore')\n",
    "%matplotlib inline"
   ]
  },
  {
   "cell_type": "code",
   "execution_count": 77,
   "outputs": [
    {
     "data": {
      "text/plain": "((178, 13), (178,))"
     },
     "execution_count": 77,
     "metadata": {},
     "output_type": "execute_result"
    }
   ],
   "source": [
    "X, y = load_wine(return_X_y=True)\n",
    "X.shape, y.shape"
   ],
   "metadata": {
    "collapsed": false,
    "ExecuteTime": {
     "end_time": "2024-10-03T08:51:49.913545Z",
     "start_time": "2024-10-03T08:51:49.898531700Z"
    }
   }
  },
  {
   "cell_type": "code",
   "execution_count": 78,
   "outputs": [
    {
     "data": {
      "text/plain": "((124, 13), (124,), (54, 13), (54,))"
     },
     "execution_count": 78,
     "metadata": {},
     "output_type": "execute_result"
    }
   ],
   "source": [
    "X_train, X_test, y_train, y_test = train_test_split(X, y, random_state=42, shuffle=True, test_size=0.3)\n",
    "X_train.shape, y_train.shape, X_test.shape, y_test.shape"
   ],
   "metadata": {
    "collapsed": false,
    "ExecuteTime": {
     "end_time": "2024-10-03T08:51:50.109101200Z",
     "start_time": "2024-10-03T08:51:50.094782300Z"
    }
   }
  },
  {
   "cell_type": "code",
   "execution_count": 79,
   "outputs": [],
   "source": [
    "def compute_score(clf, params, X_train, y_train, X_test, y_test, cv):\n",
    "    clf = GridSearchCV(clf, params, cv=cv)\n",
    "    clf.fit(X_train, y_train)\n",
    "    y_pred = clf.predict(X_test)\n",
    "    print(f\"{accuracy_score(y_test, y_pred):.2f}, {clf.best_estimator_}\")"
   ],
   "metadata": {
    "collapsed": false,
    "ExecuteTime": {
     "end_time": "2024-10-03T08:51:50.188173100Z",
     "start_time": "2024-10-03T08:51:50.183168500Z"
    }
   }
  },
  {
   "cell_type": "code",
   "execution_count": 80,
   "outputs": [],
   "source": [
    "svm_params = {\"kernel\": ('linear', 'rbf'), 'C': [1e-1, 1e-2, 1, 10]}\n",
    "knn_params = {\"n_neighbors\": range(1, 10)}\n",
    "tree_params = {\"max_depth\": range(1, 10), \"criterion\": (\"gini\", \"entropy\", \"log_loss\")}\n",
    "\n",
    "svm = SVC()\n",
    "knn = KNeighborsClassifier()\n",
    "tree = DecisionTreeClassifier()\n",
    "kf = KFold(n_splits=5)"
   ],
   "metadata": {
    "collapsed": false,
    "ExecuteTime": {
     "end_time": "2024-10-03T08:51:50.344593500Z",
     "start_time": "2024-10-03T08:51:50.329579300Z"
    }
   }
  },
  {
   "cell_type": "code",
   "execution_count": 81,
   "outputs": [
    {
     "name": "stdout",
     "output_type": "stream",
     "text": [
      "1.00, SVC(C=0.1, kernel='linear')\n",
      "0.80, KNeighborsClassifier(n_neighbors=1)\n",
      "0.96, DecisionTreeClassifier(max_depth=6)\n"
     ]
    }
   ],
   "source": [
    "compute_score(svm, svm_params, X_train, y_train, X_test, y_test, cv=kf)\n",
    "compute_score(knn, knn_params, X_train, y_train, X_test, y_test, cv=kf)\n",
    "compute_score(tree, tree_params, X_train, y_train, X_test, y_test, cv=kf)"
   ],
   "metadata": {
    "collapsed": false,
    "ExecuteTime": {
     "end_time": "2024-10-03T08:51:51.456403600Z",
     "start_time": "2024-10-03T08:51:50.388830400Z"
    }
   }
  },
  {
   "cell_type": "code",
   "execution_count": 82,
   "outputs": [],
   "source": [
    "# interval 95%\n",
    "def estimator(score: float, nb_example: int) -> float:\n",
    "    return 1.96 *math.sqrt(score * (1 - score) * nb_example)"
   ],
   "metadata": {
    "collapsed": false,
    "ExecuteTime": {
     "end_time": "2024-10-03T08:51:51.467412900Z",
     "start_time": "2024-10-03T08:51:51.427377100Z"
    }
   }
  },
  {
   "cell_type": "code",
   "execution_count": 83,
   "outputs": [
    {
     "name": "stdout",
     "output_type": "stream",
     "text": [
      "SVM: 2.016419956259113, \n",
      "KNN: 5.761199875026034, \n",
      "Tree: 2.8224000000000014 \n",
      "\n"
     ]
    }
   ],
   "source": [
    "print(f\"SVM: {estimator(score=0.98, nb_example=X_test.shape[0])}, \\n\"\n",
    "      f\"KNN: {estimator(score=0.8, nb_example=X_test.shape[0])}, \\n\"\n",
    "      f\"Tree: {estimator(score=0.96, nb_example=X_test.shape[0])} \\n\")"
   ],
   "metadata": {
    "collapsed": false,
    "ExecuteTime": {
     "end_time": "2024-10-03T08:51:51.467412900Z",
     "start_time": "2024-10-03T08:51:51.456403600Z"
    }
   }
  },
  {
   "cell_type": "code",
   "execution_count": null,
   "outputs": [],
   "source": [],
   "metadata": {
    "collapsed": false
   }
  }
 ],
 "metadata": {
  "kernelspec": {
   "display_name": "Python 3",
   "language": "python",
   "name": "python3"
  },
  "language_info": {
   "codemirror_mode": {
    "name": "ipython",
    "version": 2
   },
   "file_extension": ".py",
   "mimetype": "text/x-python",
   "name": "python",
   "nbconvert_exporter": "python",
   "pygments_lexer": "ipython2",
   "version": "2.7.6"
  }
 },
 "nbformat": 4,
 "nbformat_minor": 0
}
